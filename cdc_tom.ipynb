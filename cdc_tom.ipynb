{
 "cells": [
  {
   "cell_type": "code",
   "execution_count": null,
   "metadata": {},
   "outputs": [],
   "source": [
    "# Dependencies\n",
    "import pandas as pd\n",
    "import numpy as np\n",
    "import json\n",
    "import matplotlib\n",
    "# from sodapy import Socrata\n",
    "from config import census_key\n",
    "import pprint\n",
    "import requests"
   ]
  },
  {
   "cell_type": "code",
   "execution_count": null,
   "metadata": {},
   "outputs": [],
   "source": [
    "def json_to_dataframe(response):\n",
    "    return pd.DataFrame(response.json()[1:], columns=response.json()[0])"
   ]
  },
  {
   "cell_type": "code",
   "execution_count": null,
   "metadata": {},
   "outputs": [],
   "source": [
    "cdc_data = pd.read_csv(\"../Project_1/cdc_data.csv\")\n",
    "\n",
    "cdc_df = pd.DataFrame(cdc_data)\n",
    "cdc_df.columns\n",
    "cdc_df = cdc_df[['case_month', 'res_state', 'res_county', 'age_group', 'sex', 'race', 'ethnicity', 'current_status']]\n",
    "# cdc_df.value_counts('race')\n",
    "cdc_df.head(100)\n",
    "\n"
   ]
  },
  {
   "cell_type": "code",
   "execution_count": null,
   "metadata": {},
   "outputs": [],
   "source": [
    "# Census data 2019\n",
    "url = \"https://api.census.gov/data/2019/acs/acs5?get=NAME,B19013_001E,B01003_001E,B01002_001E,B19301_001E,B17001_002E,B23025_005E&for=county:*&in=state:27&key={0}\".format(census_key)\n",
    "response = requests.request(\"GET\", url)\n",
    "\n",
    "census_df_2019 = json_to_dataframe(response)\n",
    "\n",
    "# Split NAME into county & state\n",
    "name = census_df_2019['NAME'].str.split(\",\", n=1, expand=True)\n",
    "COUNTY = census_df_2019['County']=name[0]\n",
    "STATE = census_df_2019['State']=name[1]\n",
    "census_df_2019.drop(columns=[\"NAME\"], inplace=True)\n",
    "\n",
    "# Rename columns to something intelligible\n",
    "census_df_2019 = census_df_2019[['County', 'State', 'B19013_001E', 'B01003_001E', 'B01002_001E', 'B19301_001E', 'B17001_002E', 'B23025_005E']]\n",
    "census_df_2019 = census_df_2019.rename(columns={\n",
    "    'B01003_001E':'Population',\n",
    "    'B01002_001E': 'Median Age',\n",
    "    'B19013_001E': 'Household Income',\n",
    "    'B19301_001E': 'Per Capita Income',\n",
    "    'B17001_002E': 'Poverty Count',\n",
    "    'B23025_005E': 'Unemployment Count'\n",
    "})\n",
    "# Remove ...County from County in dataframe\n",
    "census_df_2019['County'] = census_df_2019['County'].replace('County', '', regex=True)\n",
    "\n",
    "# Upper case for County\n",
    "census_df_2019['County'] = census_df_2019['County'].str.upper()\n",
    "\n",
    "\n",
    "census_df_2019['Year'] = 2019\n",
    "census_df_2019"
   ]
  },
  {
   "cell_type": "code",
   "execution_count": null,
   "metadata": {},
   "outputs": [],
   "source": [
    "# Census data 2020\n",
    "url = \"https://api.census.gov/data/2020/acs/acs5?get=NAME,B19013_001E,B01003_001E,B01002_001E,B19301_001E,B17001_002E,B23025_005E&for=county:*&in=state:27&key={0}\".format(census_key)\n",
    "response = requests.request(\"GET\", url)\n",
    "\n",
    "census_df_2020 = json_to_dataframe(response)\n",
    "\n",
    "# Split NAME into county & state\n",
    "name = census_df_2020['NAME'].str.split(\",\", n=1, expand=True)\n",
    "COUNTY = census_df_2020['County']=name[0]\n",
    "STATE = census_df_2020['State']=name[1]\n",
    "census_df_2020.drop(columns=[\"NAME\"], inplace=True)\n",
    "\n",
    "# Rename columns to something intelligible\n",
    "census_df_2020 = census_df_2020[['County', 'State', 'B19013_001E', 'B01003_001E', 'B01002_001E', 'B19301_001E', 'B17001_002E', 'B23025_005E']]\n",
    "census_df_2020 = census_df_2020.rename(columns={\n",
    "    'B01003_001E':'Population',\n",
    "    'B01002_001E': 'Median Age',\n",
    "    'B19013_001E': 'Household Income',\n",
    "    'B19301_001E': 'Per Capita Income',\n",
    "    'B17001_002E': 'Poverty Count',\n",
    "    'B23025_005E': 'Unemployment Count'\n",
    "})\n",
    "\n",
    "# Remove ...County from County in dataframe\n",
    "census_df_2020['County'] = census_df_2020['County'].replace('County', '', regex=True)\n",
    "\n",
    "# Upper case for County\n",
    "census_df_2020['County'] = census_df_2020['County'].str.upper()\n",
    "\n",
    "census_df_2020['Year'] = 2020\n",
    "census_df_2020\n"
   ]
  },
  {
   "cell_type": "code",
   "execution_count": null,
   "metadata": {},
   "outputs": [],
   "source": []
  }
 ],
 "metadata": {
  "kernelspec": {
   "display_name": "PythonData38",
   "language": "python",
   "name": "pythondata38"
  },
  "language_info": {
   "codemirror_mode": {
    "name": "ipython",
    "version": 3
   },
   "file_extension": ".py",
   "mimetype": "text/x-python",
   "name": "python",
   "nbconvert_exporter": "python",
   "pygments_lexer": "ipython3",
   "version": "3.9.7"
  },
  "orig_nbformat": 4
 },
 "nbformat": 4,
 "nbformat_minor": 2
}
