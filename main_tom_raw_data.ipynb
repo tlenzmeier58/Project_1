{
 "cells": [
  {
   "cell_type": "code",
   "execution_count": null,
   "metadata": {},
   "outputs": [],
   "source": [
    "import requests\n",
    "import pandas as pd\n",
    "import numpy as np\n",
    "from config import census_key\n",
    "import os\n",
    "import pprint\n",
    "from sodapy import Socrata\n",
    "import json"
   ]
  },
  {
   "cell_type": "code",
   "execution_count": null,
   "metadata": {},
   "outputs": [],
   "source": [
    "# client = Socrata(\"data.cdc.gov\", None)\n",
    "\n",
    "# results = client.get(\"n8mc-b4w4\", limit=1550000, res_state=\"MN\")\n",
    "# results_df = pd.DataFrame.from_records(results)\n",
    "#results_df.to_csv(\"../Project_1/cdc_raw_data\")\n",
    "# raw_data = pd.read_csv(\"../Project_1/cdc_raw_data.csv\")\n",
    "\n",
    "# raw_data_df = pd.DataFrame(raw_data)\n",
    "#raw_data_df.head()"
   ]
  },
  {
   "cell_type": "code",
   "execution_count": null,
   "metadata": {},
   "outputs": [],
   "source": [
    "# sample_df = raw_data_df.sample(frac=.35, replace=True, random_state=1)\n",
    "# sample_df.to_csv(\"../Project_1/cdc_data.csv\")"
   ]
  },
  {
   "cell_type": "code",
   "execution_count": null,
   "metadata": {},
   "outputs": [],
   "source": []
  }
 ],
 "metadata": {
  "kernelspec": {
   "display_name": "Python 3.8.13 ('-Python38')",
   "language": "python",
   "name": "python3"
  },
  "language_info": {
   "codemirror_mode": {
    "name": "ipython",
    "version": 3
   },
   "file_extension": ".py",
   "mimetype": "text/x-python",
   "name": "python",
   "nbconvert_exporter": "python",
   "pygments_lexer": "ipython3",
   "version": "3.8.13"
  },
  "orig_nbformat": 4,
  "vscode": {
   "interpreter": {
    "hash": "d194a54f50f837936af2d7dcf32d4aa772a8724148b89f2563b16fc1480c324a"
   }
  }
 },
 "nbformat": 4,
 "nbformat_minor": 2
}
