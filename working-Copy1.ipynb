{
 "cells": [
  {
   "cell_type": "markdown",
   "metadata": {},
   "source": [
    "# ------------------------------**Sung** Work Begins Here--------------------------------"
   ]
  },
  {
   "cell_type": "markdown",
   "metadata": {},
   "source": [
    "# Importing from CSV file\n",
    "## = CDC.gov Dataset ="
   ]
  },
  {
   "cell_type": "markdown",
   "metadata": {},
   "source": [
    "### Gather dependencies"
   ]
  },
  {
   "cell_type": "code",
   "execution_count": 1,
   "metadata": {},
   "outputs": [],
   "source": [
    "# Dependencies\n",
    "import pandas as pd\n",
    "import numpy as np\n",
    "import json\n",
    "import matplotlib.pyplot as plt\n",
    "# from sodapy import Socrata\n",
    "from config import census_key\n",
    "import pprint\n",
    "import requests\n",
    "import os\n",
    "import scipy.stats as st\n",
    "from scipy.stats import linregress"
   ]
  },
  {
   "cell_type": "markdown",
   "metadata": {},
   "source": [
    "### Create DataFrame for CDC Data"
   ]
  },
  {
   "cell_type": "code",
   "execution_count": 2,
   "metadata": {},
   "outputs": [
    {
     "data": {
      "text/html": [
       "<div>\n",
       "<style scoped>\n",
       "    .dataframe tbody tr th:only-of-type {\n",
       "        vertical-align: middle;\n",
       "    }\n",
       "\n",
       "    .dataframe tbody tr th {\n",
       "        vertical-align: top;\n",
       "    }\n",
       "\n",
       "    .dataframe thead th {\n",
       "        text-align: right;\n",
       "    }\n",
       "</style>\n",
       "<table border=\"1\" class=\"dataframe\">\n",
       "  <thead>\n",
       "    <tr style=\"text-align: right;\">\n",
       "      <th></th>\n",
       "      <th>case_month</th>\n",
       "      <th>State</th>\n",
       "      <th>County</th>\n",
       "      <th>age_group</th>\n",
       "      <th>sex</th>\n",
       "      <th>Race</th>\n",
       "      <th>Ethnicity</th>\n",
       "      <th>Infection Status</th>\n",
       "      <th>Infections</th>\n",
       "    </tr>\n",
       "  </thead>\n",
       "  <tbody>\n",
       "    <tr>\n",
       "      <th>0</th>\n",
       "      <td>2021-11</td>\n",
       "      <td>MN</td>\n",
       "      <td>STEELE</td>\n",
       "      <td>18 to 49 years</td>\n",
       "      <td>Male</td>\n",
       "      <td>Caucasian</td>\n",
       "      <td>Non-Hispanic/Latino</td>\n",
       "      <td>Laboratory-confirmed case</td>\n",
       "      <td>1</td>\n",
       "    </tr>\n",
       "    <tr>\n",
       "      <th>2</th>\n",
       "      <td>2021-11</td>\n",
       "      <td>MN</td>\n",
       "      <td>STEARNS</td>\n",
       "      <td>50 to 64 years</td>\n",
       "      <td>Female</td>\n",
       "      <td>Caucasian</td>\n",
       "      <td>Non-Hispanic/Latino</td>\n",
       "      <td>Laboratory-confirmed case</td>\n",
       "      <td>1</td>\n",
       "    </tr>\n",
       "    <tr>\n",
       "      <th>3</th>\n",
       "      <td>2020-05</td>\n",
       "      <td>MN</td>\n",
       "      <td>KANDIYOHI</td>\n",
       "      <td>18 to 49 years</td>\n",
       "      <td>Male</td>\n",
       "      <td>Caucasian</td>\n",
       "      <td>Non-Hispanic/Latino</td>\n",
       "      <td>Laboratory-confirmed case</td>\n",
       "      <td>1</td>\n",
       "    </tr>\n",
       "    <tr>\n",
       "      <th>4</th>\n",
       "      <td>2021-05</td>\n",
       "      <td>MN</td>\n",
       "      <td>ANOKA</td>\n",
       "      <td>18 to 49 years</td>\n",
       "      <td>Male</td>\n",
       "      <td>NaN</td>\n",
       "      <td>NaN</td>\n",
       "      <td>Laboratory-confirmed case</td>\n",
       "      <td>1</td>\n",
       "    </tr>\n",
       "    <tr>\n",
       "      <th>5</th>\n",
       "      <td>2020-04</td>\n",
       "      <td>MN</td>\n",
       "      <td>CLAY</td>\n",
       "      <td>65+ years</td>\n",
       "      <td>Female</td>\n",
       "      <td>Caucasian</td>\n",
       "      <td>Non-Hispanic/Latino</td>\n",
       "      <td>Laboratory-confirmed case</td>\n",
       "      <td>1</td>\n",
       "    </tr>\n",
       "    <tr>\n",
       "      <th>...</th>\n",
       "      <td>...</td>\n",
       "      <td>...</td>\n",
       "      <td>...</td>\n",
       "      <td>...</td>\n",
       "      <td>...</td>\n",
       "      <td>...</td>\n",
       "      <td>...</td>\n",
       "      <td>...</td>\n",
       "      <td>...</td>\n",
       "    </tr>\n",
       "    <tr>\n",
       "      <th>539745</th>\n",
       "      <td>2022-01</td>\n",
       "      <td>MN</td>\n",
       "      <td>SCOTT</td>\n",
       "      <td>50 to 64 years</td>\n",
       "      <td>Male</td>\n",
       "      <td>Asian</td>\n",
       "      <td>Non-Hispanic/Latino</td>\n",
       "      <td>Laboratory-confirmed case</td>\n",
       "      <td>1</td>\n",
       "    </tr>\n",
       "    <tr>\n",
       "      <th>539746</th>\n",
       "      <td>2020-11</td>\n",
       "      <td>MN</td>\n",
       "      <td>GOODHUE</td>\n",
       "      <td>18 to 49 years</td>\n",
       "      <td>Female</td>\n",
       "      <td>Caucasian</td>\n",
       "      <td>Non-Hispanic/Latino</td>\n",
       "      <td>Laboratory-confirmed case</td>\n",
       "      <td>1</td>\n",
       "    </tr>\n",
       "    <tr>\n",
       "      <th>539747</th>\n",
       "      <td>2020-11</td>\n",
       "      <td>MN</td>\n",
       "      <td>DAKOTA</td>\n",
       "      <td>18 to 49 years</td>\n",
       "      <td>Male</td>\n",
       "      <td>Caucasian</td>\n",
       "      <td>Non-Hispanic/Latino</td>\n",
       "      <td>Laboratory-confirmed case</td>\n",
       "      <td>1</td>\n",
       "    </tr>\n",
       "    <tr>\n",
       "      <th>539748</th>\n",
       "      <td>2022-01</td>\n",
       "      <td>MN</td>\n",
       "      <td>DAKOTA</td>\n",
       "      <td>50 to 64 years</td>\n",
       "      <td>Male</td>\n",
       "      <td>Caucasian</td>\n",
       "      <td>Non-Hispanic/Latino</td>\n",
       "      <td>Laboratory-confirmed case</td>\n",
       "      <td>1</td>\n",
       "    </tr>\n",
       "    <tr>\n",
       "      <th>539749</th>\n",
       "      <td>2020-11</td>\n",
       "      <td>MN</td>\n",
       "      <td>HENNEPIN</td>\n",
       "      <td>18 to 49 years</td>\n",
       "      <td>Male</td>\n",
       "      <td>African American</td>\n",
       "      <td>Non-Hispanic/Latino</td>\n",
       "      <td>Laboratory-confirmed case</td>\n",
       "      <td>1</td>\n",
       "    </tr>\n",
       "  </tbody>\n",
       "</table>\n",
       "<p>504307 rows × 9 columns</p>\n",
       "</div>"
      ],
      "text/plain": [
       "       case_month State     County       age_group     sex              Race  \\\n",
       "0         2021-11    MN     STEELE  18 to 49 years    Male         Caucasian   \n",
       "2         2021-11    MN    STEARNS  50 to 64 years  Female         Caucasian   \n",
       "3         2020-05    MN  KANDIYOHI  18 to 49 years    Male         Caucasian   \n",
       "4         2021-05    MN      ANOKA  18 to 49 years    Male               NaN   \n",
       "5         2020-04    MN       CLAY       65+ years  Female         Caucasian   \n",
       "...           ...   ...        ...             ...     ...               ...   \n",
       "539745    2022-01    MN      SCOTT  50 to 64 years    Male             Asian   \n",
       "539746    2020-11    MN    GOODHUE  18 to 49 years  Female         Caucasian   \n",
       "539747    2020-11    MN     DAKOTA  18 to 49 years    Male         Caucasian   \n",
       "539748    2022-01    MN     DAKOTA  50 to 64 years    Male         Caucasian   \n",
       "539749    2020-11    MN   HENNEPIN  18 to 49 years    Male  African American   \n",
       "\n",
       "                  Ethnicity           Infection Status  Infections  \n",
       "0       Non-Hispanic/Latino  Laboratory-confirmed case           1  \n",
       "2       Non-Hispanic/Latino  Laboratory-confirmed case           1  \n",
       "3       Non-Hispanic/Latino  Laboratory-confirmed case           1  \n",
       "4                       NaN  Laboratory-confirmed case           1  \n",
       "5       Non-Hispanic/Latino  Laboratory-confirmed case           1  \n",
       "...                     ...                        ...         ...  \n",
       "539745  Non-Hispanic/Latino  Laboratory-confirmed case           1  \n",
       "539746  Non-Hispanic/Latino  Laboratory-confirmed case           1  \n",
       "539747  Non-Hispanic/Latino  Laboratory-confirmed case           1  \n",
       "539748  Non-Hispanic/Latino  Laboratory-confirmed case           1  \n",
       "539749  Non-Hispanic/Latino  Laboratory-confirmed case           1  \n",
       "\n",
       "[504307 rows x 9 columns]"
      ]
     },
     "execution_count": 2,
     "metadata": {},
     "output_type": "execute_result"
    }
   ],
   "source": [
    "cdc_data = pd.read_csv(\"../Project_1/cdc_data.csv\")\n",
    "cdc_data\n",
    "cdc_df = pd.DataFrame(cdc_data)\n",
    "cdc_df\n",
    "\n",
    "# Choose the columns we want and rename anything that isn't clear\n",
    "cdc_df = cdc_df[['case_month', 'res_state', 'res_county', 'age_group', 'sex', 'race', 'ethnicity', 'current_status']]\n",
    "cdc_df = cdc_df.rename(columns={\n",
    "    'res_state': 'State',\n",
    "    'res_county': 'County',\n",
    "    'ethnicity': 'Ethnicity',\n",
    "    'current_status': 'Infection Status',\n",
    "    'race':'Race'\n",
    "})\n",
    "\n",
    "# Drop \"Unkown\" race from dataset\n",
    "cdc_df = cdc_df.loc[cdc_df['Race']!= 'Unknown', :]\n",
    "\n",
    "# Set Infections to 1 and replace the various races with values that are compatible with the census data\n",
    "cdc_df['Infections'] = 1\n",
    "cdc_df['Race'] = cdc_df['Race'].replace('White', 'Caucasian')\n",
    "cdc_df['Race'] = cdc_df['Race'].replace('Black', 'African American')\n",
    "cdc_df['Race'] = cdc_df['Race'].replace('American Indian/Alaska Native', 'Native American')\n",
    "cdc_df['Race'] = cdc_df['Race'].replace('Multiple/Other', 'Other')\n",
    "cdc_df['Race'] = np.where(np.logical_and(cdc_df['Race'] == 'Caucasian', cdc_df['Ethnicity'] == 'Hispanic/Latino'), 'Hispanic', cdc_df['Race'])\n",
    "\n",
    "# NOTE: It's not clear what happens with Hawaiian here. \n",
    "\n",
    "cdc_df"
   ]
  },
  {
   "cell_type": "markdown",
   "metadata": {},
   "source": [
    "## Infections by race in MN"
   ]
  },
  {
   "cell_type": "code",
   "execution_count": 3,
   "metadata": {},
   "outputs": [
    {
     "data": {
      "text/html": [
       "<div>\n",
       "<style scoped>\n",
       "    .dataframe tbody tr th:only-of-type {\n",
       "        vertical-align: middle;\n",
       "    }\n",
       "\n",
       "    .dataframe tbody tr th {\n",
       "        vertical-align: top;\n",
       "    }\n",
       "\n",
       "    .dataframe thead th {\n",
       "        text-align: right;\n",
       "    }\n",
       "</style>\n",
       "<table border=\"1\" class=\"dataframe\">\n",
       "  <thead>\n",
       "    <tr style=\"text-align: right;\">\n",
       "      <th></th>\n",
       "      <th>case_month</th>\n",
       "      <th>County</th>\n",
       "      <th>Race</th>\n",
       "      <th>Infections</th>\n",
       "    </tr>\n",
       "  </thead>\n",
       "  <tbody>\n",
       "    <tr>\n",
       "      <th>0</th>\n",
       "      <td>2021-11</td>\n",
       "      <td>STEELE</td>\n",
       "      <td>Caucasian</td>\n",
       "      <td>1</td>\n",
       "    </tr>\n",
       "    <tr>\n",
       "      <th>2</th>\n",
       "      <td>2021-11</td>\n",
       "      <td>STEARNS</td>\n",
       "      <td>Caucasian</td>\n",
       "      <td>1</td>\n",
       "    </tr>\n",
       "    <tr>\n",
       "      <th>3</th>\n",
       "      <td>2020-05</td>\n",
       "      <td>KANDIYOHI</td>\n",
       "      <td>Caucasian</td>\n",
       "      <td>1</td>\n",
       "    </tr>\n",
       "    <tr>\n",
       "      <th>5</th>\n",
       "      <td>2020-04</td>\n",
       "      <td>CLAY</td>\n",
       "      <td>Caucasian</td>\n",
       "      <td>1</td>\n",
       "    </tr>\n",
       "    <tr>\n",
       "      <th>6</th>\n",
       "      <td>2020-10</td>\n",
       "      <td>NOBLES</td>\n",
       "      <td>Hispanic</td>\n",
       "      <td>1</td>\n",
       "    </tr>\n",
       "    <tr>\n",
       "      <th>...</th>\n",
       "      <td>...</td>\n",
       "      <td>...</td>\n",
       "      <td>...</td>\n",
       "      <td>...</td>\n",
       "    </tr>\n",
       "    <tr>\n",
       "      <th>539745</th>\n",
       "      <td>2022-01</td>\n",
       "      <td>SCOTT</td>\n",
       "      <td>Asian</td>\n",
       "      <td>1</td>\n",
       "    </tr>\n",
       "    <tr>\n",
       "      <th>539746</th>\n",
       "      <td>2020-11</td>\n",
       "      <td>GOODHUE</td>\n",
       "      <td>Caucasian</td>\n",
       "      <td>1</td>\n",
       "    </tr>\n",
       "    <tr>\n",
       "      <th>539747</th>\n",
       "      <td>2020-11</td>\n",
       "      <td>DAKOTA</td>\n",
       "      <td>Caucasian</td>\n",
       "      <td>1</td>\n",
       "    </tr>\n",
       "    <tr>\n",
       "      <th>539748</th>\n",
       "      <td>2022-01</td>\n",
       "      <td>DAKOTA</td>\n",
       "      <td>Caucasian</td>\n",
       "      <td>1</td>\n",
       "    </tr>\n",
       "    <tr>\n",
       "      <th>539749</th>\n",
       "      <td>2020-11</td>\n",
       "      <td>HENNEPIN</td>\n",
       "      <td>African American</td>\n",
       "      <td>1</td>\n",
       "    </tr>\n",
       "  </tbody>\n",
       "</table>\n",
       "<p>404609 rows × 4 columns</p>\n",
       "</div>"
      ],
      "text/plain": [
       "       case_month     County              Race  Infections\n",
       "0         2021-11     STEELE         Caucasian           1\n",
       "2         2021-11    STEARNS         Caucasian           1\n",
       "3         2020-05  KANDIYOHI         Caucasian           1\n",
       "5         2020-04       CLAY         Caucasian           1\n",
       "6         2020-10     NOBLES          Hispanic           1\n",
       "...           ...        ...               ...         ...\n",
       "539745    2022-01      SCOTT             Asian           1\n",
       "539746    2020-11    GOODHUE         Caucasian           1\n",
       "539747    2020-11     DAKOTA         Caucasian           1\n",
       "539748    2022-01     DAKOTA         Caucasian           1\n",
       "539749    2020-11   HENNEPIN  African American           1\n",
       "\n",
       "[404609 rows x 4 columns]"
      ]
     },
     "execution_count": 3,
     "metadata": {},
     "output_type": "execute_result"
    }
   ],
   "source": [
    "# Drop NaNs and then sort by date chronologically\n",
    "cdc_df = cdc_df.dropna(how='any')\n",
    "cdc_df = cdc_df[['case_month', 'County', 'Race', 'Infections']]\n",
    "\n",
    "cdc_df"
   ]
  },
  {
   "cell_type": "code",
   "execution_count": 4,
   "metadata": {},
   "outputs": [
    {
     "data": {
      "text/plain": [
       "['African American',\n",
       " 'Asian',\n",
       " 'Caucasian',\n",
       " 'Hispanic',\n",
       " 'Native American',\n",
       " 'Other']"
      ]
     },
     "execution_count": 4,
     "metadata": {},
     "output_type": "execute_result"
    }
   ],
   "source": [
    "race_mn = cdc_df['Race'].unique()\n",
    "race_mn = sorted(set(race_mn))\n",
    "race_mn"
   ]
  },
  {
   "cell_type": "code",
   "execution_count": 5,
   "metadata": {},
   "outputs": [
    {
     "name": "stdout",
     "output_type": "stream",
     "text": [
      "['2020-03' '2020-04' '2020-05' '2020-06' '2020-07' '2020-08' '2020-09'\n",
      " '2020-10' '2020-11' '2020-12' '2021-01' '2021-02' '2021-03' '2021-04'\n",
      " '2021-05' '2021-06' '2021-07' '2021-08' '2021-09' '2021-10' '2021-11'\n",
      " '2021-12' '2022-01' '2022-02' '2022-03' '2022-04' '2022-05' '2022-06']\n"
     ]
    }
   ],
   "source": [
    "cdc_date = cdc_df['case_month'].unique()\n",
    "cdc_date.sort()\n",
    "print(cdc_date)"
   ]
  },
  {
   "cell_type": "code",
   "execution_count": 6,
   "metadata": {},
   "outputs": [
    {
     "data": {
      "text/plain": [
       "'2020-03'"
      ]
     },
     "execution_count": 6,
     "metadata": {},
     "output_type": "execute_result"
    }
   ],
   "source": [
    "cdc_date[0]"
   ]
  },
  {
   "cell_type": "code",
   "execution_count": null,
   "metadata": {},
   "outputs": [],
   "source": []
  },
  {
   "cell_type": "code",
   "execution_count": 7,
   "metadata": {},
   "outputs": [],
   "source": [
    "# for date in cdc_date:\n",
    "#     print(date)\n",
    "# # you can try to append this date to the function .loc "
   ]
  },
  {
   "cell_type": "code",
   "execution_count": 8,
   "metadata": {},
   "outputs": [
    {
     "data": {
      "text/html": [
       "<div>\n",
       "<style scoped>\n",
       "    .dataframe tbody tr th:only-of-type {\n",
       "        vertical-align: middle;\n",
       "    }\n",
       "\n",
       "    .dataframe tbody tr th {\n",
       "        vertical-align: top;\n",
       "    }\n",
       "\n",
       "    .dataframe thead th {\n",
       "        text-align: right;\n",
       "    }\n",
       "</style>\n",
       "<table border=\"1\" class=\"dataframe\">\n",
       "  <thead>\n",
       "    <tr style=\"text-align: right;\">\n",
       "      <th></th>\n",
       "      <th>case_month</th>\n",
       "      <th>County</th>\n",
       "      <th>Race</th>\n",
       "      <th>Infections</th>\n",
       "    </tr>\n",
       "  </thead>\n",
       "  <tbody>\n",
       "    <tr>\n",
       "      <th>232369</th>\n",
       "      <td>2020-03</td>\n",
       "      <td>ANOKA</td>\n",
       "      <td>Caucasian</td>\n",
       "      <td>1</td>\n",
       "    </tr>\n",
       "    <tr>\n",
       "      <th>275945</th>\n",
       "      <td>2020-03</td>\n",
       "      <td>ANOKA</td>\n",
       "      <td>Caucasian</td>\n",
       "      <td>1</td>\n",
       "    </tr>\n",
       "    <tr>\n",
       "      <th>305881</th>\n",
       "      <td>2020-03</td>\n",
       "      <td>ANOKA</td>\n",
       "      <td>Caucasian</td>\n",
       "      <td>1</td>\n",
       "    </tr>\n",
       "    <tr>\n",
       "      <th>354490</th>\n",
       "      <td>2020-03</td>\n",
       "      <td>ANOKA</td>\n",
       "      <td>Caucasian</td>\n",
       "      <td>1</td>\n",
       "    </tr>\n",
       "    <tr>\n",
       "      <th>408125</th>\n",
       "      <td>2020-03</td>\n",
       "      <td>ANOKA</td>\n",
       "      <td>Caucasian</td>\n",
       "      <td>1</td>\n",
       "    </tr>\n",
       "    <tr>\n",
       "      <th>...</th>\n",
       "      <td>...</td>\n",
       "      <td>...</td>\n",
       "      <td>...</td>\n",
       "      <td>...</td>\n",
       "    </tr>\n",
       "    <tr>\n",
       "      <th>512646</th>\n",
       "      <td>2022-06</td>\n",
       "      <td>WRIGHT</td>\n",
       "      <td>Caucasian</td>\n",
       "      <td>1</td>\n",
       "    </tr>\n",
       "    <tr>\n",
       "      <th>528869</th>\n",
       "      <td>2022-06</td>\n",
       "      <td>WRIGHT</td>\n",
       "      <td>Caucasian</td>\n",
       "      <td>1</td>\n",
       "    </tr>\n",
       "    <tr>\n",
       "      <th>531029</th>\n",
       "      <td>2022-06</td>\n",
       "      <td>WRIGHT</td>\n",
       "      <td>Caucasian</td>\n",
       "      <td>1</td>\n",
       "    </tr>\n",
       "    <tr>\n",
       "      <th>534619</th>\n",
       "      <td>2022-06</td>\n",
       "      <td>WRIGHT</td>\n",
       "      <td>Caucasian</td>\n",
       "      <td>1</td>\n",
       "    </tr>\n",
       "    <tr>\n",
       "      <th>538364</th>\n",
       "      <td>2022-06</td>\n",
       "      <td>WRIGHT</td>\n",
       "      <td>Caucasian</td>\n",
       "      <td>1</td>\n",
       "    </tr>\n",
       "  </tbody>\n",
       "</table>\n",
       "<p>404609 rows × 4 columns</p>\n",
       "</div>"
      ],
      "text/plain": [
       "       case_month  County       Race  Infections\n",
       "232369    2020-03   ANOKA  Caucasian           1\n",
       "275945    2020-03   ANOKA  Caucasian           1\n",
       "305881    2020-03   ANOKA  Caucasian           1\n",
       "354490    2020-03   ANOKA  Caucasian           1\n",
       "408125    2020-03   ANOKA  Caucasian           1\n",
       "...           ...     ...        ...         ...\n",
       "512646    2022-06  WRIGHT  Caucasian           1\n",
       "528869    2022-06  WRIGHT  Caucasian           1\n",
       "531029    2022-06  WRIGHT  Caucasian           1\n",
       "534619    2022-06  WRIGHT  Caucasian           1\n",
       "538364    2022-06  WRIGHT  Caucasian           1\n",
       "\n",
       "[404609 rows x 4 columns]"
      ]
     },
     "execution_count": 8,
     "metadata": {},
     "output_type": "execute_result"
    }
   ],
   "source": [
    "cdc_df = cdc_df.sort_values(['case_month', 'County'])\n",
    "cdc_df"
   ]
  },
  {
   "cell_type": "markdown",
   "metadata": {},
   "source": [
    "## Yearly- Year 2021"
   ]
  },
  {
   "cell_type": "code",
   "execution_count": 9,
   "metadata": {},
   "outputs": [
    {
     "data": {
      "text/html": [
       "<div>\n",
       "<style scoped>\n",
       "    .dataframe tbody tr th:only-of-type {\n",
       "        vertical-align: middle;\n",
       "    }\n",
       "\n",
       "    .dataframe tbody tr th {\n",
       "        vertical-align: top;\n",
       "    }\n",
       "\n",
       "    .dataframe thead th {\n",
       "        text-align: right;\n",
       "    }\n",
       "</style>\n",
       "<table border=\"1\" class=\"dataframe\">\n",
       "  <thead>\n",
       "    <tr style=\"text-align: right;\">\n",
       "      <th></th>\n",
       "      <th>case_month</th>\n",
       "      <th>County</th>\n",
       "      <th>Race</th>\n",
       "      <th>Infections</th>\n",
       "    </tr>\n",
       "  </thead>\n",
       "  <tbody>\n",
       "    <tr>\n",
       "      <th>1421</th>\n",
       "      <td>2021-01</td>\n",
       "      <td>ANOKA</td>\n",
       "      <td>Caucasian</td>\n",
       "      <td>1</td>\n",
       "    </tr>\n",
       "    <tr>\n",
       "      <th>2045</th>\n",
       "      <td>2021-01</td>\n",
       "      <td>ANOKA</td>\n",
       "      <td>Caucasian</td>\n",
       "      <td>1</td>\n",
       "    </tr>\n",
       "    <tr>\n",
       "      <th>2147</th>\n",
       "      <td>2021-01</td>\n",
       "      <td>ANOKA</td>\n",
       "      <td>Caucasian</td>\n",
       "      <td>1</td>\n",
       "    </tr>\n",
       "    <tr>\n",
       "      <th>3381</th>\n",
       "      <td>2021-01</td>\n",
       "      <td>ANOKA</td>\n",
       "      <td>Caucasian</td>\n",
       "      <td>1</td>\n",
       "    </tr>\n",
       "    <tr>\n",
       "      <th>5137</th>\n",
       "      <td>2021-01</td>\n",
       "      <td>ANOKA</td>\n",
       "      <td>Asian</td>\n",
       "      <td>1</td>\n",
       "    </tr>\n",
       "    <tr>\n",
       "      <th>...</th>\n",
       "      <td>...</td>\n",
       "      <td>...</td>\n",
       "      <td>...</td>\n",
       "      <td>...</td>\n",
       "    </tr>\n",
       "    <tr>\n",
       "      <th>537356</th>\n",
       "      <td>2021-12</td>\n",
       "      <td>WRIGHT</td>\n",
       "      <td>Caucasian</td>\n",
       "      <td>1</td>\n",
       "    </tr>\n",
       "    <tr>\n",
       "      <th>538341</th>\n",
       "      <td>2021-12</td>\n",
       "      <td>WRIGHT</td>\n",
       "      <td>Caucasian</td>\n",
       "      <td>1</td>\n",
       "    </tr>\n",
       "    <tr>\n",
       "      <th>538493</th>\n",
       "      <td>2021-12</td>\n",
       "      <td>WRIGHT</td>\n",
       "      <td>Caucasian</td>\n",
       "      <td>1</td>\n",
       "    </tr>\n",
       "    <tr>\n",
       "      <th>538975</th>\n",
       "      <td>2021-12</td>\n",
       "      <td>WRIGHT</td>\n",
       "      <td>Caucasian</td>\n",
       "      <td>1</td>\n",
       "    </tr>\n",
       "    <tr>\n",
       "      <th>539432</th>\n",
       "      <td>2021-12</td>\n",
       "      <td>WRIGHT</td>\n",
       "      <td>Caucasian</td>\n",
       "      <td>1</td>\n",
       "    </tr>\n",
       "  </tbody>\n",
       "</table>\n",
       "<p>168726 rows × 4 columns</p>\n",
       "</div>"
      ],
      "text/plain": [
       "       case_month  County       Race  Infections\n",
       "1421      2021-01   ANOKA  Caucasian           1\n",
       "2045      2021-01   ANOKA  Caucasian           1\n",
       "2147      2021-01   ANOKA  Caucasian           1\n",
       "3381      2021-01   ANOKA  Caucasian           1\n",
       "5137      2021-01   ANOKA      Asian           1\n",
       "...           ...     ...        ...         ...\n",
       "537356    2021-12  WRIGHT  Caucasian           1\n",
       "538341    2021-12  WRIGHT  Caucasian           1\n",
       "538493    2021-12  WRIGHT  Caucasian           1\n",
       "538975    2021-12  WRIGHT  Caucasian           1\n",
       "539432    2021-12  WRIGHT  Caucasian           1\n",
       "\n",
       "[168726 rows x 4 columns]"
      ]
     },
     "execution_count": 9,
     "metadata": {},
     "output_type": "execute_result"
    }
   ],
   "source": [
    "#filtering to 2020. bins function?\n",
    "cdc_2021_list = ['2021-01', '2021-02', '2021-03', '2021-04','2021-05', '2021-06', '2021-07', '2021-08', '2021-09',\n",
    " '2021-10', '2021-11', '2021-12']\n",
    "\n",
    "cdc_2021_df = cdc_df.loc[cdc_df['case_month'].isin(cdc_2021_list)]\n",
    "cdc_2021_df\n",
    "\n",
    "\n",
    "# cdc_2020_list = ['2020-03', '2020-04', '2020-05', '2020-06', '2020-07', '2020-08', '2020-09',\n",
    "#  '2020-10', '2020-11', '2020-12']\n",
    "# cdc_2022_list = ['2020-03', '2020-04', '2020-05', '2020-06', '2020-07', '2020-08', '2020-09',\n",
    "#  '2020-10', '2020-11', '2020-12']"
   ]
  },
  {
   "cell_type": "code",
   "execution_count": 10,
   "metadata": {},
   "outputs": [
    {
     "data": {
      "text/html": [
       "<div>\n",
       "<style scoped>\n",
       "    .dataframe tbody tr th:only-of-type {\n",
       "        vertical-align: middle;\n",
       "    }\n",
       "\n",
       "    .dataframe tbody tr th {\n",
       "        vertical-align: top;\n",
       "    }\n",
       "\n",
       "    .dataframe thead th {\n",
       "        text-align: right;\n",
       "    }\n",
       "</style>\n",
       "<table border=\"1\" class=\"dataframe\">\n",
       "  <thead>\n",
       "    <tr style=\"text-align: right;\">\n",
       "      <th></th>\n",
       "      <th></th>\n",
       "      <th>Infections</th>\n",
       "    </tr>\n",
       "    <tr>\n",
       "      <th>County</th>\n",
       "      <th>Race</th>\n",
       "      <th></th>\n",
       "    </tr>\n",
       "  </thead>\n",
       "  <tbody>\n",
       "    <tr>\n",
       "      <th>ANOKA</th>\n",
       "      <th>African American</th>\n",
       "      <td>1134</td>\n",
       "    </tr>\n",
       "    <tr>\n",
       "      <th>BENTON</th>\n",
       "      <th>African American</th>\n",
       "      <td>48</td>\n",
       "    </tr>\n",
       "    <tr>\n",
       "      <th>BLUE EARTH</th>\n",
       "      <th>African American</th>\n",
       "      <td>35</td>\n",
       "    </tr>\n",
       "    <tr>\n",
       "      <th>CARVER</th>\n",
       "      <th>African American</th>\n",
       "      <td>26</td>\n",
       "    </tr>\n",
       "    <tr>\n",
       "      <th>CLAY</th>\n",
       "      <th>African American</th>\n",
       "      <td>22</td>\n",
       "    </tr>\n",
       "    <tr>\n",
       "      <th>DAKOTA</th>\n",
       "      <th>African American</th>\n",
       "      <td>1334</td>\n",
       "    </tr>\n",
       "    <tr>\n",
       "      <th>GOODHUE</th>\n",
       "      <th>African American</th>\n",
       "      <td>22</td>\n",
       "    </tr>\n",
       "    <tr>\n",
       "      <th>HENNEPIN</th>\n",
       "      <th>African American</th>\n",
       "      <td>7174</td>\n",
       "    </tr>\n",
       "    <tr>\n",
       "      <th>KANDIYOHI</th>\n",
       "      <th>African American</th>\n",
       "      <td>23</td>\n",
       "    </tr>\n",
       "    <tr>\n",
       "      <th>LYON</th>\n",
       "      <th>African American</th>\n",
       "      <td>6</td>\n",
       "    </tr>\n",
       "    <tr>\n",
       "      <th>MOWER</th>\n",
       "      <th>African American</th>\n",
       "      <td>3</td>\n",
       "    </tr>\n",
       "    <tr>\n",
       "      <th>NOBLES</th>\n",
       "      <th>African American</th>\n",
       "      <td>5</td>\n",
       "    </tr>\n",
       "    <tr>\n",
       "      <th>OLMSTED</th>\n",
       "      <th>African American</th>\n",
       "      <td>300</td>\n",
       "    </tr>\n",
       "    <tr>\n",
       "      <th>RAMSEY</th>\n",
       "      <th>African American</th>\n",
       "      <td>2813</td>\n",
       "    </tr>\n",
       "    <tr>\n",
       "      <th>RICE</th>\n",
       "      <th>African American</th>\n",
       "      <td>32</td>\n",
       "    </tr>\n",
       "    <tr>\n",
       "      <th>SCOTT</th>\n",
       "      <th>African American</th>\n",
       "      <td>266</td>\n",
       "    </tr>\n",
       "    <tr>\n",
       "      <th>SHERBURNE</th>\n",
       "      <th>African American</th>\n",
       "      <td>101</td>\n",
       "    </tr>\n",
       "    <tr>\n",
       "      <th>ST. LOUIS</th>\n",
       "      <th>African American</th>\n",
       "      <td>77</td>\n",
       "    </tr>\n",
       "    <tr>\n",
       "      <th>STEARNS</th>\n",
       "      <th>African American</th>\n",
       "      <td>473</td>\n",
       "    </tr>\n",
       "    <tr>\n",
       "      <th>STEELE</th>\n",
       "      <th>African American</th>\n",
       "      <td>5</td>\n",
       "    </tr>\n",
       "    <tr>\n",
       "      <th>WASHINGTON</th>\n",
       "      <th>African American</th>\n",
       "      <td>421</td>\n",
       "    </tr>\n",
       "    <tr>\n",
       "      <th>WINONA</th>\n",
       "      <th>African American</th>\n",
       "      <td>10</td>\n",
       "    </tr>\n",
       "    <tr>\n",
       "      <th>WRIGHT</th>\n",
       "      <th>African American</th>\n",
       "      <td>44</td>\n",
       "    </tr>\n",
       "  </tbody>\n",
       "</table>\n",
       "</div>"
      ],
      "text/plain": [
       "                             Infections\n",
       "County     Race                        \n",
       "ANOKA      African American        1134\n",
       "BENTON     African American          48\n",
       "BLUE EARTH African American          35\n",
       "CARVER     African American          26\n",
       "CLAY       African American          22\n",
       "DAKOTA     African American        1334\n",
       "GOODHUE    African American          22\n",
       "HENNEPIN   African American        7174\n",
       "KANDIYOHI  African American          23\n",
       "LYON       African American           6\n",
       "MOWER      African American           3\n",
       "NOBLES     African American           5\n",
       "OLMSTED    African American         300\n",
       "RAMSEY     African American        2813\n",
       "RICE       African American          32\n",
       "SCOTT      African American         266\n",
       "SHERBURNE  African American         101\n",
       "ST. LOUIS  African American          77\n",
       "STEARNS    African American         473\n",
       "STEELE     African American           5\n",
       "WASHINGTON African American         421\n",
       "WINONA     African American          10\n",
       "WRIGHT     African American          44"
      ]
     },
     "execution_count": 10,
     "metadata": {},
     "output_type": "execute_result"
    }
   ],
   "source": [
    "#total sum of infections of African American in 2021\n",
    "cdc_2021_infections_african_american_df = cdc_2021_df.loc[  cdc_2021_df['Race'] == race_mn[0]]\n",
    "cdc_2021_infections_african_american_df\n",
    "cdc_2021_infections_african_american_df = cdc_2021_infections_african_american_df.groupby(['County', 'Race'])\n",
    "cdc_2021_infections_african_american_df.head()\n",
    "cdc_2021_infections_african_american_sum_df = cdc_2021_infections_african_american_df.sum()\n",
    "cdc_2021_infections_african_american_sum_df.head(50)"
   ]
  },
  {
   "cell_type": "code",
   "execution_count": 11,
   "metadata": {},
   "outputs": [
    {
     "data": {
      "text/plain": [
       "14374"
      ]
     },
     "execution_count": 11,
     "metadata": {},
     "output_type": "execute_result"
    }
   ],
   "source": [
    "cdc_2021_infections_african_american_total = cdc_2021_infections_african_american_sum_df['Infections'].sum()\n",
    "cdc_2021_infections_african_american_total"
   ]
  },
  {
   "cell_type": "code",
   "execution_count": 12,
   "metadata": {},
   "outputs": [
    {
     "data": {
      "text/html": [
       "<div>\n",
       "<style scoped>\n",
       "    .dataframe tbody tr th:only-of-type {\n",
       "        vertical-align: middle;\n",
       "    }\n",
       "\n",
       "    .dataframe tbody tr th {\n",
       "        vertical-align: top;\n",
       "    }\n",
       "\n",
       "    .dataframe thead th {\n",
       "        text-align: right;\n",
       "    }\n",
       "</style>\n",
       "<table border=\"1\" class=\"dataframe\">\n",
       "  <thead>\n",
       "    <tr style=\"text-align: right;\">\n",
       "      <th></th>\n",
       "      <th></th>\n",
       "      <th>Infections</th>\n",
       "    </tr>\n",
       "    <tr>\n",
       "      <th>County</th>\n",
       "      <th>Race</th>\n",
       "      <th></th>\n",
       "    </tr>\n",
       "  </thead>\n",
       "  <tbody>\n",
       "    <tr>\n",
       "      <th>ANOKA</th>\n",
       "      <th>Asian</th>\n",
       "      <td>627</td>\n",
       "    </tr>\n",
       "    <tr>\n",
       "      <th>CARVER</th>\n",
       "      <th>Asian</th>\n",
       "      <td>48</td>\n",
       "    </tr>\n",
       "    <tr>\n",
       "      <th>DAKOTA</th>\n",
       "      <th>Asian</th>\n",
       "      <td>553</td>\n",
       "    </tr>\n",
       "    <tr>\n",
       "      <th>HENNEPIN</th>\n",
       "      <th>Asian</th>\n",
       "      <td>2582</td>\n",
       "    </tr>\n",
       "    <tr>\n",
       "      <th>MOWER</th>\n",
       "      <th>Asian</th>\n",
       "      <td>6</td>\n",
       "    </tr>\n",
       "    <tr>\n",
       "      <th>NOBLES</th>\n",
       "      <th>Asian</th>\n",
       "      <td>9</td>\n",
       "    </tr>\n",
       "    <tr>\n",
       "      <th>OLMSTED</th>\n",
       "      <th>Asian</th>\n",
       "      <td>113</td>\n",
       "    </tr>\n",
       "    <tr>\n",
       "      <th>RAMSEY</th>\n",
       "      <th>Asian</th>\n",
       "      <td>2162</td>\n",
       "    </tr>\n",
       "    <tr>\n",
       "      <th>RICE</th>\n",
       "      <th>Asian</th>\n",
       "      <td>2</td>\n",
       "    </tr>\n",
       "    <tr>\n",
       "      <th>SCOTT</th>\n",
       "      <th>Asian</th>\n",
       "      <td>176</td>\n",
       "    </tr>\n",
       "    <tr>\n",
       "      <th>SHERBURNE</th>\n",
       "      <th>Asian</th>\n",
       "      <td>2</td>\n",
       "    </tr>\n",
       "    <tr>\n",
       "      <th>ST. LOUIS</th>\n",
       "      <th>Asian</th>\n",
       "      <td>2</td>\n",
       "    </tr>\n",
       "    <tr>\n",
       "      <th>STEARNS</th>\n",
       "      <th>Asian</th>\n",
       "      <td>39</td>\n",
       "    </tr>\n",
       "    <tr>\n",
       "      <th>WASHINGTON</th>\n",
       "      <th>Asian</th>\n",
       "      <td>501</td>\n",
       "    </tr>\n",
       "    <tr>\n",
       "      <th>WRIGHT</th>\n",
       "      <th>Asian</th>\n",
       "      <td>14</td>\n",
       "    </tr>\n",
       "  </tbody>\n",
       "</table>\n",
       "</div>"
      ],
      "text/plain": [
       "                  Infections\n",
       "County     Race             \n",
       "ANOKA      Asian         627\n",
       "CARVER     Asian          48\n",
       "DAKOTA     Asian         553\n",
       "HENNEPIN   Asian        2582\n",
       "MOWER      Asian           6\n",
       "NOBLES     Asian           9\n",
       "OLMSTED    Asian         113\n",
       "RAMSEY     Asian        2162\n",
       "RICE       Asian           2\n",
       "SCOTT      Asian         176\n",
       "SHERBURNE  Asian           2\n",
       "ST. LOUIS  Asian           2\n",
       "STEARNS    Asian          39\n",
       "WASHINGTON Asian         501\n",
       "WRIGHT     Asian          14"
      ]
     },
     "execution_count": 12,
     "metadata": {},
     "output_type": "execute_result"
    }
   ],
   "source": [
    "#total sum of infections of asians in 2021\n",
    "cdc_2021_infections_asian_df = cdc_2021_df.loc[  cdc_2021_df['Race'] == race_mn[1]]\n",
    "cdc_2021_infections_asian_df\n",
    "cdc_2021_infections_asian_df = cdc_2021_infections_asian_df.groupby(['County', 'Race'])\n",
    "cdc_2021_infections_asian_df.head()\n",
    "cdc_2021_infections_asian_sum_df = cdc_2021_infections_asian_df.sum()\n",
    "cdc_2021_infections_asian_sum_df.head(50)"
   ]
  },
  {
   "cell_type": "code",
   "execution_count": 13,
   "metadata": {},
   "outputs": [
    {
     "data": {
      "text/plain": [
       "6836"
      ]
     },
     "execution_count": 13,
     "metadata": {},
     "output_type": "execute_result"
    }
   ],
   "source": [
    "cdc_2021_infections_asian_total = cdc_2021_infections_asian_sum_df['Infections'].sum()\n",
    "cdc_2021_infections_asian_total"
   ]
  },
  {
   "cell_type": "code",
   "execution_count": 14,
   "metadata": {},
   "outputs": [
    {
     "data": {
      "text/html": [
       "<div>\n",
       "<style scoped>\n",
       "    .dataframe tbody tr th:only-of-type {\n",
       "        vertical-align: middle;\n",
       "    }\n",
       "\n",
       "    .dataframe tbody tr th {\n",
       "        vertical-align: top;\n",
       "    }\n",
       "\n",
       "    .dataframe thead th {\n",
       "        text-align: right;\n",
       "    }\n",
       "</style>\n",
       "<table border=\"1\" class=\"dataframe\">\n",
       "  <thead>\n",
       "    <tr style=\"text-align: right;\">\n",
       "      <th></th>\n",
       "      <th></th>\n",
       "      <th>Infections</th>\n",
       "    </tr>\n",
       "    <tr>\n",
       "      <th>County</th>\n",
       "      <th>Race</th>\n",
       "      <th></th>\n",
       "    </tr>\n",
       "  </thead>\n",
       "  <tbody>\n",
       "    <tr>\n",
       "      <th>ANOKA</th>\n",
       "      <th>Caucasian</th>\n",
       "      <td>10978</td>\n",
       "    </tr>\n",
       "    <tr>\n",
       "      <th>BECKER</th>\n",
       "      <th>Caucasian</th>\n",
       "      <td>894</td>\n",
       "    </tr>\n",
       "    <tr>\n",
       "      <th>BELTRAMI</th>\n",
       "      <th>Caucasian</th>\n",
       "      <td>1095</td>\n",
       "    </tr>\n",
       "    <tr>\n",
       "      <th>BENTON</th>\n",
       "      <th>Caucasian</th>\n",
       "      <td>1697</td>\n",
       "    </tr>\n",
       "    <tr>\n",
       "      <th>BLUE EARTH</th>\n",
       "      <th>Caucasian</th>\n",
       "      <td>1919</td>\n",
       "    </tr>\n",
       "    <tr>\n",
       "      <th>BROWN</th>\n",
       "      <th>Caucasian</th>\n",
       "      <td>842</td>\n",
       "    </tr>\n",
       "    <tr>\n",
       "      <th>CARLTON</th>\n",
       "      <th>Caucasian</th>\n",
       "      <td>583</td>\n",
       "    </tr>\n",
       "    <tr>\n",
       "      <th>CARVER</th>\n",
       "      <th>Caucasian</th>\n",
       "      <td>3528</td>\n",
       "    </tr>\n",
       "    <tr>\n",
       "      <th>CASS</th>\n",
       "      <th>Caucasian</th>\n",
       "      <td>671</td>\n",
       "    </tr>\n",
       "    <tr>\n",
       "      <th>CHISAGO</th>\n",
       "      <th>Caucasian</th>\n",
       "      <td>1979</td>\n",
       "    </tr>\n",
       "    <tr>\n",
       "      <th>CLAY</th>\n",
       "      <th>Caucasian</th>\n",
       "      <td>1778</td>\n",
       "    </tr>\n",
       "    <tr>\n",
       "      <th>CROW WING</th>\n",
       "      <th>Caucasian</th>\n",
       "      <td>2308</td>\n",
       "    </tr>\n",
       "    <tr>\n",
       "      <th>DAKOTA</th>\n",
       "      <th>Caucasian</th>\n",
       "      <td>11317</td>\n",
       "    </tr>\n",
       "    <tr>\n",
       "      <th>DODGE</th>\n",
       "      <th>Caucasian</th>\n",
       "      <td>777</td>\n",
       "    </tr>\n",
       "    <tr>\n",
       "      <th>DOUGLAS</th>\n",
       "      <th>Caucasian</th>\n",
       "      <td>1440</td>\n",
       "    </tr>\n",
       "    <tr>\n",
       "      <th>FILLMORE</th>\n",
       "      <th>Caucasian</th>\n",
       "      <td>558</td>\n",
       "    </tr>\n",
       "    <tr>\n",
       "      <th>FREEBORN</th>\n",
       "      <th>Caucasian</th>\n",
       "      <td>1166</td>\n",
       "    </tr>\n",
       "    <tr>\n",
       "      <th>GOODHUE</th>\n",
       "      <th>Caucasian</th>\n",
       "      <td>1868</td>\n",
       "    </tr>\n",
       "    <tr>\n",
       "      <th>HENNEPIN</th>\n",
       "      <th>Caucasian</th>\n",
       "      <td>26639</td>\n",
       "    </tr>\n",
       "    <tr>\n",
       "      <th>HUBBARD</th>\n",
       "      <th>Caucasian</th>\n",
       "      <td>669</td>\n",
       "    </tr>\n",
       "    <tr>\n",
       "      <th>ISANTI</th>\n",
       "      <th>Caucasian</th>\n",
       "      <td>1387</td>\n",
       "    </tr>\n",
       "    <tr>\n",
       "      <th>ITASCA</th>\n",
       "      <th>Caucasian</th>\n",
       "      <td>1664</td>\n",
       "    </tr>\n",
       "    <tr>\n",
       "      <th>KANDIYOHI</th>\n",
       "      <th>Caucasian</th>\n",
       "      <td>1168</td>\n",
       "    </tr>\n",
       "    <tr>\n",
       "      <th>LE SUEUR</th>\n",
       "      <th>Caucasian</th>\n",
       "      <td>813</td>\n",
       "    </tr>\n",
       "    <tr>\n",
       "      <th>LYON</th>\n",
       "      <th>Caucasian</th>\n",
       "      <td>687</td>\n",
       "    </tr>\n",
       "    <tr>\n",
       "      <th>MCLEOD</th>\n",
       "      <th>Caucasian</th>\n",
       "      <td>1331</td>\n",
       "    </tr>\n",
       "    <tr>\n",
       "      <th>MEEKER</th>\n",
       "      <th>Caucasian</th>\n",
       "      <td>682</td>\n",
       "    </tr>\n",
       "    <tr>\n",
       "      <th>MILLE LACS</th>\n",
       "      <th>Caucasian</th>\n",
       "      <td>1022</td>\n",
       "    </tr>\n",
       "    <tr>\n",
       "      <th>MORRISON</th>\n",
       "      <th>Caucasian</th>\n",
       "      <td>1231</td>\n",
       "    </tr>\n",
       "    <tr>\n",
       "      <th>MOWER</th>\n",
       "      <th>Caucasian</th>\n",
       "      <td>1202</td>\n",
       "    </tr>\n",
       "    <tr>\n",
       "      <th>NICOLLET</th>\n",
       "      <th>Caucasian</th>\n",
       "      <td>810</td>\n",
       "    </tr>\n",
       "    <tr>\n",
       "      <th>NOBLES</th>\n",
       "      <th>Caucasian</th>\n",
       "      <td>265</td>\n",
       "    </tr>\n",
       "    <tr>\n",
       "      <th>OLMSTED</th>\n",
       "      <th>Caucasian</th>\n",
       "      <td>4113</td>\n",
       "    </tr>\n",
       "    <tr>\n",
       "      <th>OTTER TAIL</th>\n",
       "      <th>Caucasian</th>\n",
       "      <td>1667</td>\n",
       "    </tr>\n",
       "    <tr>\n",
       "      <th>PINE</th>\n",
       "      <th>Caucasian</th>\n",
       "      <td>716</td>\n",
       "    </tr>\n",
       "    <tr>\n",
       "      <th>POLK</th>\n",
       "      <th>Caucasian</th>\n",
       "      <td>800</td>\n",
       "    </tr>\n",
       "    <tr>\n",
       "      <th>RAMSEY</th>\n",
       "      <th>Caucasian</th>\n",
       "      <td>9182</td>\n",
       "    </tr>\n",
       "    <tr>\n",
       "      <th>RICE</th>\n",
       "      <th>Caucasian</th>\n",
       "      <td>1810</td>\n",
       "    </tr>\n",
       "    <tr>\n",
       "      <th>SCOTT</th>\n",
       "      <th>Caucasian</th>\n",
       "      <td>4967</td>\n",
       "    </tr>\n",
       "    <tr>\n",
       "      <th>SHERBURNE</th>\n",
       "      <th>Caucasian</th>\n",
       "      <td>3630</td>\n",
       "    </tr>\n",
       "    <tr>\n",
       "      <th>ST. LOUIS</th>\n",
       "      <th>Caucasian</th>\n",
       "      <td>5943</td>\n",
       "    </tr>\n",
       "    <tr>\n",
       "      <th>STEARNS</th>\n",
       "      <th>Caucasian</th>\n",
       "      <td>5769</td>\n",
       "    </tr>\n",
       "    <tr>\n",
       "      <th>STEELE</th>\n",
       "      <th>Caucasian</th>\n",
       "      <td>1270</td>\n",
       "    </tr>\n",
       "    <tr>\n",
       "      <th>TODD</th>\n",
       "      <th>Caucasian</th>\n",
       "      <td>646</td>\n",
       "    </tr>\n",
       "    <tr>\n",
       "      <th>WABASHA</th>\n",
       "      <th>Caucasian</th>\n",
       "      <td>764</td>\n",
       "    </tr>\n",
       "    <tr>\n",
       "      <th>WASHINGTON</th>\n",
       "      <th>Caucasian</th>\n",
       "      <td>7478</td>\n",
       "    </tr>\n",
       "    <tr>\n",
       "      <th>WINONA</th>\n",
       "      <th>Caucasian</th>\n",
       "      <td>1467</td>\n",
       "    </tr>\n",
       "    <tr>\n",
       "      <th>WRIGHT</th>\n",
       "      <th>Caucasian</th>\n",
       "      <td>5233</td>\n",
       "    </tr>\n",
       "  </tbody>\n",
       "</table>\n",
       "</div>"
      ],
      "text/plain": [
       "                      Infections\n",
       "County     Race                 \n",
       "ANOKA      Caucasian       10978\n",
       "BECKER     Caucasian         894\n",
       "BELTRAMI   Caucasian        1095\n",
       "BENTON     Caucasian        1697\n",
       "BLUE EARTH Caucasian        1919\n",
       "BROWN      Caucasian         842\n",
       "CARLTON    Caucasian         583\n",
       "CARVER     Caucasian        3528\n",
       "CASS       Caucasian         671\n",
       "CHISAGO    Caucasian        1979\n",
       "CLAY       Caucasian        1778\n",
       "CROW WING  Caucasian        2308\n",
       "DAKOTA     Caucasian       11317\n",
       "DODGE      Caucasian         777\n",
       "DOUGLAS    Caucasian        1440\n",
       "FILLMORE   Caucasian         558\n",
       "FREEBORN   Caucasian        1166\n",
       "GOODHUE    Caucasian        1868\n",
       "HENNEPIN   Caucasian       26639\n",
       "HUBBARD    Caucasian         669\n",
       "ISANTI     Caucasian        1387\n",
       "ITASCA     Caucasian        1664\n",
       "KANDIYOHI  Caucasian        1168\n",
       "LE SUEUR   Caucasian         813\n",
       "LYON       Caucasian         687\n",
       "MCLEOD     Caucasian        1331\n",
       "MEEKER     Caucasian         682\n",
       "MILLE LACS Caucasian        1022\n",
       "MORRISON   Caucasian        1231\n",
       "MOWER      Caucasian        1202\n",
       "NICOLLET   Caucasian         810\n",
       "NOBLES     Caucasian         265\n",
       "OLMSTED    Caucasian        4113\n",
       "OTTER TAIL Caucasian        1667\n",
       "PINE       Caucasian         716\n",
       "POLK       Caucasian         800\n",
       "RAMSEY     Caucasian        9182\n",
       "RICE       Caucasian        1810\n",
       "SCOTT      Caucasian        4967\n",
       "SHERBURNE  Caucasian        3630\n",
       "ST. LOUIS  Caucasian        5943\n",
       "STEARNS    Caucasian        5769\n",
       "STEELE     Caucasian        1270\n",
       "TODD       Caucasian         646\n",
       "WABASHA    Caucasian         764\n",
       "WASHINGTON Caucasian        7478\n",
       "WINONA     Caucasian        1467\n",
       "WRIGHT     Caucasian        5233"
      ]
     },
     "execution_count": 14,
     "metadata": {},
     "output_type": "execute_result"
    }
   ],
   "source": [
    "#total sum of infections of asians in 2021\n",
    "cdc_2021_infections_white_df = cdc_2021_df.loc[  cdc_2021_df['Race'] == race_mn[2]]\n",
    "cdc_2021_infections_white_df\n",
    "cdc_2021_infections_white_df = cdc_2021_infections_white_df.groupby(['County', 'Race'])\n",
    "cdc_2021_infections_white_df.head()\n",
    "cdc_2021_infections_white_sum_df = cdc_2021_infections_white_df.sum()\n",
    "cdc_2021_infections_white_sum_df.head(50)"
   ]
  },
  {
   "cell_type": "code",
   "execution_count": 15,
   "metadata": {},
   "outputs": [
    {
     "data": {
      "text/plain": [
       "140423"
      ]
     },
     "execution_count": 15,
     "metadata": {},
     "output_type": "execute_result"
    }
   ],
   "source": [
    "cdc_2021_infections_white_total = cdc_2021_infections_white_sum_df['Infections'].sum()\n",
    "cdc_2021_infections_white_total"
   ]
  },
  {
   "cell_type": "code",
   "execution_count": 16,
   "metadata": {},
   "outputs": [
    {
     "data": {
      "text/html": [
       "<div>\n",
       "<style scoped>\n",
       "    .dataframe tbody tr th:only-of-type {\n",
       "        vertical-align: middle;\n",
       "    }\n",
       "\n",
       "    .dataframe tbody tr th {\n",
       "        vertical-align: top;\n",
       "    }\n",
       "\n",
       "    .dataframe thead th {\n",
       "        text-align: right;\n",
       "    }\n",
       "</style>\n",
       "<table border=\"1\" class=\"dataframe\">\n",
       "  <thead>\n",
       "    <tr style=\"text-align: right;\">\n",
       "      <th></th>\n",
       "      <th></th>\n",
       "      <th>Infections</th>\n",
       "    </tr>\n",
       "    <tr>\n",
       "      <th>County</th>\n",
       "      <th>Race</th>\n",
       "      <th></th>\n",
       "    </tr>\n",
       "  </thead>\n",
       "  <tbody>\n",
       "    <tr>\n",
       "      <th>ANOKA</th>\n",
       "      <th>Hispanic</th>\n",
       "      <td>265</td>\n",
       "    </tr>\n",
       "    <tr>\n",
       "      <th>BLUE EARTH</th>\n",
       "      <th>Hispanic</th>\n",
       "      <td>14</td>\n",
       "    </tr>\n",
       "    <tr>\n",
       "      <th>CARVER</th>\n",
       "      <th>Hispanic</th>\n",
       "      <td>70</td>\n",
       "    </tr>\n",
       "    <tr>\n",
       "      <th>CLAY</th>\n",
       "      <th>Hispanic</th>\n",
       "      <td>16</td>\n",
       "    </tr>\n",
       "    <tr>\n",
       "      <th>DAKOTA</th>\n",
       "      <th>Hispanic</th>\n",
       "      <td>630</td>\n",
       "    </tr>\n",
       "    <tr>\n",
       "      <th>FREEBORN</th>\n",
       "      <th>Hispanic</th>\n",
       "      <td>34</td>\n",
       "    </tr>\n",
       "    <tr>\n",
       "      <th>HENNEPIN</th>\n",
       "      <th>Hispanic</th>\n",
       "      <td>1236</td>\n",
       "    </tr>\n",
       "    <tr>\n",
       "      <th>MCLEOD</th>\n",
       "      <th>Hispanic</th>\n",
       "      <td>41</td>\n",
       "    </tr>\n",
       "    <tr>\n",
       "      <th>MOWER</th>\n",
       "      <th>Hispanic</th>\n",
       "      <td>82</td>\n",
       "    </tr>\n",
       "    <tr>\n",
       "      <th>NOBLES</th>\n",
       "      <th>Hispanic</th>\n",
       "      <td>6</td>\n",
       "    </tr>\n",
       "    <tr>\n",
       "      <th>OLMSTED</th>\n",
       "      <th>Hispanic</th>\n",
       "      <td>116</td>\n",
       "    </tr>\n",
       "    <tr>\n",
       "      <th>RAMSEY</th>\n",
       "      <th>Hispanic</th>\n",
       "      <td>562</td>\n",
       "    </tr>\n",
       "    <tr>\n",
       "      <th>RICE</th>\n",
       "      <th>Hispanic</th>\n",
       "      <td>55</td>\n",
       "    </tr>\n",
       "    <tr>\n",
       "      <th>SCOTT</th>\n",
       "      <th>Hispanic</th>\n",
       "      <td>155</td>\n",
       "    </tr>\n",
       "    <tr>\n",
       "      <th>SHERBURNE</th>\n",
       "      <th>Hispanic</th>\n",
       "      <td>5</td>\n",
       "    </tr>\n",
       "    <tr>\n",
       "      <th>ST. LOUIS</th>\n",
       "      <th>Hispanic</th>\n",
       "      <td>17</td>\n",
       "    </tr>\n",
       "    <tr>\n",
       "      <th>STEARNS</th>\n",
       "      <th>Hispanic</th>\n",
       "      <td>8</td>\n",
       "    </tr>\n",
       "    <tr>\n",
       "      <th>STEELE</th>\n",
       "      <th>Hispanic</th>\n",
       "      <td>60</td>\n",
       "    </tr>\n",
       "    <tr>\n",
       "      <th>WASHINGTON</th>\n",
       "      <th>Hispanic</th>\n",
       "      <td>204</td>\n",
       "    </tr>\n",
       "    <tr>\n",
       "      <th>WINONA</th>\n",
       "      <th>Hispanic</th>\n",
       "      <td>2</td>\n",
       "    </tr>\n",
       "    <tr>\n",
       "      <th>WRIGHT</th>\n",
       "      <th>Hispanic</th>\n",
       "      <td>51</td>\n",
       "    </tr>\n",
       "  </tbody>\n",
       "</table>\n",
       "</div>"
      ],
      "text/plain": [
       "                     Infections\n",
       "County     Race                \n",
       "ANOKA      Hispanic         265\n",
       "BLUE EARTH Hispanic          14\n",
       "CARVER     Hispanic          70\n",
       "CLAY       Hispanic          16\n",
       "DAKOTA     Hispanic         630\n",
       "FREEBORN   Hispanic          34\n",
       "HENNEPIN   Hispanic        1236\n",
       "MCLEOD     Hispanic          41\n",
       "MOWER      Hispanic          82\n",
       "NOBLES     Hispanic           6\n",
       "OLMSTED    Hispanic         116\n",
       "RAMSEY     Hispanic         562\n",
       "RICE       Hispanic          55\n",
       "SCOTT      Hispanic         155\n",
       "SHERBURNE  Hispanic           5\n",
       "ST. LOUIS  Hispanic          17\n",
       "STEARNS    Hispanic           8\n",
       "STEELE     Hispanic          60\n",
       "WASHINGTON Hispanic         204\n",
       "WINONA     Hispanic           2\n",
       "WRIGHT     Hispanic          51"
      ]
     },
     "execution_count": 16,
     "metadata": {},
     "output_type": "execute_result"
    }
   ],
   "source": [
    "#total sum of infections of asians in 2021\n",
    "cdc_2021_infections_hispanic_df = cdc_2021_df.loc[  cdc_2021_df['Race'] == race_mn[3]]\n",
    "cdc_2021_infections_hispanic_df\n",
    "cdc_2021_infections_hispanic_df = cdc_2021_infections_hispanic_df.groupby(['County', 'Race'])\n",
    "cdc_2021_infections_hispanic_df.head()\n",
    "cdc_2021_infections_hispanic_sum_df = cdc_2021_infections_hispanic_df.sum()\n",
    "cdc_2021_infections_hispanic_sum_df.head(50)"
   ]
  },
  {
   "cell_type": "code",
   "execution_count": 17,
   "metadata": {},
   "outputs": [
    {
     "data": {
      "text/plain": [
       "3629"
      ]
     },
     "execution_count": 17,
     "metadata": {},
     "output_type": "execute_result"
    }
   ],
   "source": [
    "cdc_2021_infections_hispanic_total = cdc_2021_infections_hispanic_sum_df['Infections'].sum()\n",
    "cdc_2021_infections_hispanic_total"
   ]
  },
  {
   "attachments": {
    "image.png": {
     "image/png": "[encoded data removed]"
    }
   },
   "cell_type": "markdown",
   "metadata": {},
   "source": [
    "![image.png](attachment:image.png)"
   ]
  },
  {
   "cell_type": "code",
   "execution_count": 18,
   "metadata": {},
   "outputs": [
    {
     "data": {
      "text/html": [
       "<div>\n",
       "<style scoped>\n",
       "    .dataframe tbody tr th:only-of-type {\n",
       "        vertical-align: middle;\n",
       "    }\n",
       "\n",
       "    .dataframe tbody tr th {\n",
       "        vertical-align: top;\n",
       "    }\n",
       "\n",
       "    .dataframe thead th {\n",
       "        text-align: right;\n",
       "    }\n",
       "</style>\n",
       "<table border=\"1\" class=\"dataframe\">\n",
       "  <thead>\n",
       "    <tr style=\"text-align: right;\">\n",
       "      <th></th>\n",
       "      <th></th>\n",
       "      <th>Infections</th>\n",
       "    </tr>\n",
       "    <tr>\n",
       "      <th>County</th>\n",
       "      <th>Race</th>\n",
       "      <th></th>\n",
       "    </tr>\n",
       "  </thead>\n",
       "  <tbody>\n",
       "    <tr>\n",
       "      <th>ANOKA</th>\n",
       "      <th>Native American</th>\n",
       "      <td>7</td>\n",
       "    </tr>\n",
       "    <tr>\n",
       "      <th>BECKER</th>\n",
       "      <th>Native American</th>\n",
       "      <td>109</td>\n",
       "    </tr>\n",
       "    <tr>\n",
       "      <th>BELTRAMI</th>\n",
       "      <th>Native American</th>\n",
       "      <td>546</td>\n",
       "    </tr>\n",
       "    <tr>\n",
       "      <th>CARLTON</th>\n",
       "      <th>Native American</th>\n",
       "      <td>14</td>\n",
       "    </tr>\n",
       "    <tr>\n",
       "      <th>CASS</th>\n",
       "      <th>Native American</th>\n",
       "      <td>100</td>\n",
       "    </tr>\n",
       "    <tr>\n",
       "      <th>DAKOTA</th>\n",
       "      <th>Native American</th>\n",
       "      <td>11</td>\n",
       "    </tr>\n",
       "    <tr>\n",
       "      <th>HENNEPIN</th>\n",
       "      <th>Native American</th>\n",
       "      <td>297</td>\n",
       "    </tr>\n",
       "    <tr>\n",
       "      <th>ITASCA</th>\n",
       "      <th>Native American</th>\n",
       "      <td>26</td>\n",
       "    </tr>\n",
       "    <tr>\n",
       "      <th>PINE</th>\n",
       "      <th>Native American</th>\n",
       "      <td>3</td>\n",
       "    </tr>\n",
       "    <tr>\n",
       "      <th>RAMSEY</th>\n",
       "      <th>Native American</th>\n",
       "      <td>56</td>\n",
       "    </tr>\n",
       "    <tr>\n",
       "      <th>ST. LOUIS</th>\n",
       "      <th>Native American</th>\n",
       "      <td>125</td>\n",
       "    </tr>\n",
       "    <tr>\n",
       "      <th>WASHINGTON</th>\n",
       "      <th>Native American</th>\n",
       "      <td>4</td>\n",
       "    </tr>\n",
       "  </tbody>\n",
       "</table>\n",
       "</div>"
      ],
      "text/plain": [
       "                            Infections\n",
       "County     Race                       \n",
       "ANOKA      Native American           7\n",
       "BECKER     Native American         109\n",
       "BELTRAMI   Native American         546\n",
       "CARLTON    Native American          14\n",
       "CASS       Native American         100\n",
       "DAKOTA     Native American          11\n",
       "HENNEPIN   Native American         297\n",
       "ITASCA     Native American          26\n",
       "PINE       Native American           3\n",
       "RAMSEY     Native American          56\n",
       "ST. LOUIS  Native American         125\n",
       "WASHINGTON Native American           4"
      ]
     },
     "execution_count": 18,
     "metadata": {},
     "output_type": "execute_result"
    }
   ],
   "source": [
    "#total sum of infections of Native American in 2021\n",
    "cdc_2021_infections_native_american_df = cdc_2021_df.loc[  cdc_2021_df['Race'] == race_mn[4]]\n",
    "cdc_2021_infections_native_american_df\n",
    "cdc_2021_infections_native_american_df = cdc_2021_infections_native_american_df.groupby(['County', 'Race'])\n",
    "cdc_2021_infections_native_american_df.head()\n",
    "cdc_2021_infections_native_american_sum_df = cdc_2021_infections_native_american_df.sum()\n",
    "cdc_2021_infections_native_american_sum_df.head(50)"
   ]
  },
  {
   "cell_type": "code",
   "execution_count": 19,
   "metadata": {},
   "outputs": [
    {
     "data": {
      "text/plain": [
       "1298"
      ]
     },
     "execution_count": 19,
     "metadata": {},
     "output_type": "execute_result"
    }
   ],
   "source": [
    "cdc_2021_infections_native_american_total = cdc_2021_infections_native_american_sum_df['Infections'].sum()\n",
    "cdc_2021_infections_native_american_total"
   ]
  },
  {
   "cell_type": "code",
   "execution_count": 20,
   "metadata": {},
   "outputs": [
    {
     "data": {
      "text/html": [
       "<div>\n",
       "<style scoped>\n",
       "    .dataframe tbody tr th:only-of-type {\n",
       "        vertical-align: middle;\n",
       "    }\n",
       "\n",
       "    .dataframe tbody tr th {\n",
       "        vertical-align: top;\n",
       "    }\n",
       "\n",
       "    .dataframe thead th {\n",
       "        text-align: right;\n",
       "    }\n",
       "</style>\n",
       "<table border=\"1\" class=\"dataframe\">\n",
       "  <thead>\n",
       "    <tr style=\"text-align: right;\">\n",
       "      <th></th>\n",
       "      <th></th>\n",
       "      <th>Infections</th>\n",
       "    </tr>\n",
       "    <tr>\n",
       "      <th>County</th>\n",
       "      <th>Race</th>\n",
       "      <th></th>\n",
       "    </tr>\n",
       "  </thead>\n",
       "  <tbody>\n",
       "    <tr>\n",
       "      <th>ANOKA</th>\n",
       "      <th>Other</th>\n",
       "      <td>150</td>\n",
       "    </tr>\n",
       "    <tr>\n",
       "      <th>BELTRAMI</th>\n",
       "      <th>Other</th>\n",
       "      <td>21</td>\n",
       "    </tr>\n",
       "    <tr>\n",
       "      <th>CARVER</th>\n",
       "      <th>Other</th>\n",
       "      <td>9</td>\n",
       "    </tr>\n",
       "    <tr>\n",
       "      <th>CHISAGO</th>\n",
       "      <th>Other</th>\n",
       "      <td>5</td>\n",
       "    </tr>\n",
       "    <tr>\n",
       "      <th>CLAY</th>\n",
       "      <th>Other</th>\n",
       "      <td>13</td>\n",
       "    </tr>\n",
       "    <tr>\n",
       "      <th>DAKOTA</th>\n",
       "      <th>Other</th>\n",
       "      <td>262</td>\n",
       "    </tr>\n",
       "    <tr>\n",
       "      <th>GOODHUE</th>\n",
       "      <th>Other</th>\n",
       "      <td>3</td>\n",
       "    </tr>\n",
       "    <tr>\n",
       "      <th>HENNEPIN</th>\n",
       "      <th>Other</th>\n",
       "      <td>773</td>\n",
       "    </tr>\n",
       "    <tr>\n",
       "      <th>OLMSTED</th>\n",
       "      <th>Other</th>\n",
       "      <td>130</td>\n",
       "    </tr>\n",
       "    <tr>\n",
       "      <th>RAMSEY</th>\n",
       "      <th>Other</th>\n",
       "      <td>453</td>\n",
       "    </tr>\n",
       "    <tr>\n",
       "      <th>SCOTT</th>\n",
       "      <th>Other</th>\n",
       "      <td>38</td>\n",
       "    </tr>\n",
       "    <tr>\n",
       "      <th>SHERBURNE</th>\n",
       "      <th>Other</th>\n",
       "      <td>4</td>\n",
       "    </tr>\n",
       "    <tr>\n",
       "      <th>ST. LOUIS</th>\n",
       "      <th>Other</th>\n",
       "      <td>125</td>\n",
       "    </tr>\n",
       "    <tr>\n",
       "      <th>STEARNS</th>\n",
       "      <th>Other</th>\n",
       "      <td>6</td>\n",
       "    </tr>\n",
       "    <tr>\n",
       "      <th>WASHINGTON</th>\n",
       "      <th>Other</th>\n",
       "      <td>151</td>\n",
       "    </tr>\n",
       "    <tr>\n",
       "      <th>WRIGHT</th>\n",
       "      <th>Other</th>\n",
       "      <td>23</td>\n",
       "    </tr>\n",
       "  </tbody>\n",
       "</table>\n",
       "</div>"
      ],
      "text/plain": [
       "                  Infections\n",
       "County     Race             \n",
       "ANOKA      Other         150\n",
       "BELTRAMI   Other          21\n",
       "CARVER     Other           9\n",
       "CHISAGO    Other           5\n",
       "CLAY       Other          13\n",
       "DAKOTA     Other         262\n",
       "GOODHUE    Other           3\n",
       "HENNEPIN   Other         773\n",
       "OLMSTED    Other         130\n",
       "RAMSEY     Other         453\n",
       "SCOTT      Other          38\n",
       "SHERBURNE  Other           4\n",
       "ST. LOUIS  Other         125\n",
       "STEARNS    Other           6\n",
       "WASHINGTON Other         151\n",
       "WRIGHT     Other          23"
      ]
     },
     "execution_count": 20,
     "metadata": {},
     "output_type": "execute_result"
    }
   ],
   "source": [
    "#total sum of infections of other in 2021\n",
    "cdc_2021_infections_other_df = cdc_2021_df.loc[  cdc_2021_df['Race'] == race_mn[5]]\n",
    "cdc_2021_infections_other_df\n",
    "cdc_2021_infections_other_df = cdc_2021_infections_other_df.groupby(['County', 'Race'])\n",
    "cdc_2021_infections_other_df.head()\n",
    "cdc_2021_infections_other_sum_df = cdc_2021_infections_other_df.sum()\n",
    "cdc_2021_infections_other_sum_df.head(50)"
   ]
  },
  {
   "cell_type": "code",
   "execution_count": 21,
   "metadata": {},
   "outputs": [
    {
     "data": {
      "text/plain": [
       "2166"
      ]
     },
     "execution_count": 21,
     "metadata": {},
     "output_type": "execute_result"
    }
   ],
   "source": [
    "cdc_2021_infections_other_total = cdc_2021_infections_other_sum_df['Infections'].sum()\n",
    "cdc_2021_infections_other_total"
   ]
  },
  {
   "cell_type": "code",
   "execution_count": 22,
   "metadata": {},
   "outputs": [
    {
     "name": "stdout",
     "output_type": "stream",
     "text": [
      " African American: 14374\n",
      " Asian: 6836\n",
      " Caucasian: 6836\n",
      " Hispanic: 3629\n",
      " Native American: 1298\n",
      " Other: 2166\n"
     ]
    }
   ],
   "source": [
    "\n",
    "total_infection_byrace_2021 = [cdc_2021_infections_african_american_total, cdc_2021_infections_asian_total, \n",
    "                               cdc_2021_infections_asian_total, cdc_2021_infections_hispanic_total, \n",
    "                               cdc_2021_infections_native_american_total, cdc_2021_infections_other_total]\n",
    "for (race, infection) in zip(race_mn, total_infection_byrace_2021):\n",
    "    print(f\" {race}: {infection}\")"
   ]
  },
  {
   "cell_type": "code",
   "execution_count": null,
   "metadata": {},
   "outputs": [],
   "source": [
    "#infection rate per year (in units of months)\n",
    "african_american_infection_percent = ((cdc_2021_infections_african_american_total / sum_mn_african_american / 12)\n",
    "african_american_infection_percent\n",
    "\n",
    "\n",
    "          \n",
    "#           , cdc_2021_infections_asian_total, \n",
    "                               \n",
    "#     cdc_2021_infections_asian_total, \n",
    "#     cdc_2021_infections_hispanic_total, \n",
    "                               \n",
    "#         cdc_2021_infections_native_american_total, \n",
    "#         cdc_2021_infections_other_total\n",
    "# print(sum_mn_pop)\n",
    "# print(sum_mn_caucasian)\n",
    "# print(sum_mn_african_american)\n",
    "# print(sum_mn_native_american)\n",
    "# print(sum_mn_asian)\n",
    "# print(sum_mn_hawaiian)\n",
    "# print(percent_mn_caucasian)\n",
    "# print(percent_mn_african_american)\n",
    "# print(percent_mn_native_american)\n",
    "# print(percent_mn_asian)\n",
    "# print(percent_mn_hawaiian)\n",
    "# print(percent_mn_other)"
   ]
  },
  {
   "cell_type": "code",
   "execution_count": null,
   "metadata": {},
   "outputs": [],
   "source": [
    "#infection rate per year (in units of months)\n",
    "african_american_infection_percent = ((cdc_2021_infections_african_american_total / sum_mn_african_american / 12)\n",
    "african_american_infection_percent"
   ]
  },
  {
   "cell_type": "code",
   "execution_count": null,
   "metadata": {},
   "outputs": [],
   "source": [
    "asian_infection_percent = ((cdc_2021_infections_asian_total / sum_mn_asian) / 12)\n",
    "asian_infection_percent"
   ]
  },
  {
   "cell_type": "markdown",
   "metadata": {},
   "source": [
    "## Rate of infection by 3 months period"
   ]
  },
  {
   "cell_type": "code",
   "execution_count": null,
   "metadata": {},
   "outputs": [],
   "source": []
  },
  {
   "cell_type": "code",
   "execution_count": null,
   "metadata": {},
   "outputs": [],
   "source": [
    "#every three month\n",
    "#2020\n",
    "cdc_2020_march_may_list = ['2020-03', '2020-04', '2020-05']\n",
    "cdc_2020_june_august_list = ['2020-06', '2020-07', '2020-08']\n",
    "cdc_2020_sept_december_list = ['2020-09', '2020-10', '2020-11', '2020-12']\n",
    "\n",
    "#2021\n",
    "cdc_2021_jan_march_list = ['2021-01', '2021-02', '2021-03']\n",
    "cdc_2021_april_june_list = ['2021-04', '2021-05', '2021-06']\n",
    "cdc_2021_july_sept_list = ['2021-07', '2021-06', '2021-07']\n",
    "cdc_2021_oct_dec_list = ['2021-10', '2021-11', '2021-12']\n",
    "\n",
    "cdc_2020_march_may_df = cdc_df.loc[cdc_df['case_month'].isin(cdc_2020_march_may_list)]\n",
    "cdc_2020_march_may_df\n",
    "\n",
    "# cdc_2020_sept_december_df = cdc_df.loc[cdc_df['case_month'].isin(cdc_2020_sept_december_list)]\n",
    "# cdc_2020_sept_december_df\n"
   ]
  },
  {
   "cell_type": "code",
   "execution_count": null,
   "metadata": {},
   "outputs": [],
   "source": [
    "# #total sum of infections in 3 months by race.\n",
    "# cdc_2020_march_may_infections_african_american_df = cdc_2020_march_may_df.loc[  cdc_2020_march_may_df['Race'] == race_mn[1]]\n",
    "# cdc_2020_march_may_infections_african_american_df"
   ]
  },
  {
   "cell_type": "code",
   "execution_count": null,
   "metadata": {},
   "outputs": [],
   "source": [
    "#total sum of infections in 3 months by race.\n",
    "cdc_2020_march_may_infections_african_american_df = cdc_2020_march_may_df.loc[  cdc_2020_march_may_df['Race'] == race_mn[0]]\n",
    "cdc_2020_march_may_infections_african_american_df\n",
    "cdc_2020_march_may_infections_african_american_df = cdc_2020_march_may_infections_african_american_df.groupby(['County', 'Race'])\n",
    "cdc_2020_march_may_infections_african_american_df.head()\n",
    "cdc_2020_march_may_infections_african_american_sum_df = cdc_2020_march_may_infections_african_american_df.sum()\n",
    "cdc_2020_march_may_infections_african_american_sum_df.head(50)"
   ]
  },
  {
   "cell_type": "code",
   "execution_count": null,
   "metadata": {},
   "outputs": [],
   "source": [
    "cdc_2020_march_may_infections_african_american_total = cdc_2020_march_may_infections_african_american_sum_df['Infections'].sum()\n",
    "cdc_2020_march_may_infections_african_american_total"
   ]
  },
  {
   "cell_type": "code",
   "execution_count": null,
   "metadata": {},
   "outputs": [],
   "source": [
    "# cdc_2020_june_august_df = cdc_df.loc[cdc_df['case_month'].isin(cdc_2020_june_august_list)]\n",
    "# cdc_2020_june_august_df"
   ]
  },
  {
   "cell_type": "code",
   "execution_count": null,
   "metadata": {},
   "outputs": [],
   "source": [
    "#total sum of infections in 3 months by race.\n",
    "cdc_2020_june_august_df = cdc_df.loc[cdc_df['case_month'].isin(cdc_2020_june_august_list)]\n",
    "cdc_2020_june_august_df\n",
    "cdc_2020_june_august_infections_african_american_df = cdc_2020_june_august_df.loc[  cdc_2020_june_august_df['Race'] == race_mn[0]]\n",
    "cdc_2020_june_august_infections_african_american_df\n",
    "cdc_2020_june_august_infections_african_american_df = cdc_2020_june_august_infections_african_american_df.groupby(['County', 'Race'])\n",
    "cdc_2020_june_august_infections_african_american_df.head()\n",
    "cdc_2020_june_august_infections_african_american_sum_df = cdc_2020_june_august_infections_african_american_df.sum()\n",
    "cdc_2020_june_august_infections_african_american_sum_df.head(50)"
   ]
  },
  {
   "cell_type": "code",
   "execution_count": null,
   "metadata": {},
   "outputs": [],
   "source": [
    "cdc_2020_june_august_infections_african_american_total = cdc_2020_june_august_infections_african_american_sum_df['Infections'].sum()\n",
    "cdc_2020_june_august_infections_african_american_total"
   ]
  },
  {
   "cell_type": "code",
   "execution_count": null,
   "metadata": {},
   "outputs": [],
   "source": [
    "#total sum of infections in 3 months by race.\n",
    "cdc_2020_sept_december_df = cdc_df.loc[cdc_df['case_month'].isin(cdc_2020_sept_december_list)]\n",
    "cdc_2020_sept_december_df\n",
    "\n",
    "cdc_2020_sept_december_infections_african_american_df = cdc_2020_sept_december_df.loc[  cdc_2020_sept_december_df['Race'] == race_mn[0]]\n",
    "cdc_2020_sept_december_infections_african_american_df\n",
    "cdc_2020_sept_december_infections_african_american_df = cdc_2020_sept_december_infections_african_american_df.groupby(['County', 'Race'])\n",
    "cdc_2020_sept_december_infections_african_american_df.head()\n",
    "cdc_2020_sept_december_infections_african_american_sum_df = cdc_2020_sept_december_infections_african_american_df.sum()\n",
    "cdc_2020_sept_december_infections_african_american_sum_df.head(50)"
   ]
  },
  {
   "cell_type": "code",
   "execution_count": null,
   "metadata": {},
   "outputs": [],
   "source": [
    "cdc_2020_sept_december_infections_african_american_total = cdc_2020_sept_december_infections_african_american_sum_df['Infections'].sum()\n",
    "cdc_2020_sept_december_infections_african_american_total\n",
    "normalized_cdc_2020_sept_december_infections_african_american_percent = (cdc_2020_sdept_december_infections_african_american_total/354540)"
   ]
  },
  {
   "attachments": {
    "image.png": {
     "image/png": "[encoded data removed]"
    }
   },
   "cell_type": "markdown",
   "metadata": {},
   "source": [
    "![image.png](attachment:image.png)"
   ]
  },
  {
   "cell_type": "code",
   "execution_count": null,
   "metadata": {},
   "outputs": [],
   "source": [
    "# cdc_2021_jan_march_list\n",
    "#total sum of infections in 3 months by race.\n",
    "cdc_2021_jan_march_df = cdc_df.loc[cdc_df['case_month'].isin(cdc_2021_jan_march_list)]\n",
    "cdc_2021_jan_march_df\n",
    "\n",
    "cdc_2021_jan_march_infections_african_american_df = cdc_2021_jan_march_df.loc[  cdc_2021_jan_march_df['Race'] == race_mn[0]]\n",
    "cdc_2021_jan_march_infections_african_american_df\n",
    "cdc_2021_jan_march_infections_african_american_df = cdc_2021_jan_march_infections_african_american_df.groupby(['County', 'Race'])\n",
    "cdc_2021_jan_march_infections_african_american_df.head()\n",
    "cdc_2021_jan_march_infections_african_american_sum_df = cdc_2021_jan_march_infections_african_american_df.sum()\n",
    "cdc_2021_jan_march_infections_african_american_sum_df.head(50)"
   ]
  },
  {
   "cell_type": "code",
   "execution_count": null,
   "metadata": {},
   "outputs": [],
   "source": [
    "# cdc_2021__list\n",
    "#total sum of infections in 3 months by race.\n",
    "cdc_2021_april_june_df = cdc_df.loc[cdc_df['case_month'].isin(cdc_2021_april_june_list)]\n",
    "cdc_2021_april_june_df\n",
    "\n",
    "cdc_2021_april_june_infections_african_american_df = cdc_2021_april_june_df.loc[  cdc_2021_april_june_df['Race'] == race_mn[0]]\n",
    "cdc_2021_april_june_infections_african_american_df\n",
    "cdc_2021_april_june_infections_african_american_df = cdc_2021_april_june_infections_african_american_df.groupby(['County', 'Race'])\n",
    "cdc_2021_april_june_infections_african_american_df.head()\n",
    "cdc_2021_april_june_infections_african_american_sum_df = cdc_2021_april_june_infections_african_american_df.sum()\n",
    "cdc_2021_april_june_infections_african_american_sum_df.head(50)"
   ]
  },
  {
   "cell_type": "code",
   "execution_count": null,
   "metadata": {},
   "outputs": [],
   "source": [
    "#population by race infected with covid-19 from 2020-March thru 2022-June\n",
    "cdc_byrace_df = cdc_df['Race'].value_counts()\n",
    "cdc_byrace_df"
   ]
  },
  {
   "cell_type": "code",
   "execution_count": null,
   "metadata": {},
   "outputs": [],
   "source": [
    "# print(percent_mn_caucasian)\n",
    "# print(percent_mn_african_american)\n",
    "# print(percent_mn_native_american)\n",
    "# print(percent_mn_asian)\n",
    "# print(percent_mn_hawaiian)\n",
    "# print(percent_mn_other)"
   ]
  },
  {
   "cell_type": "code",
   "execution_count": null,
   "metadata": {},
   "outputs": [],
   "source": []
  },
  {
   "cell_type": "code",
   "execution_count": null,
   "metadata": {},
   "outputs": [],
   "source": [
    "# how to make a dataframe that it shows that it is arranged by date but shows number of infection with caucasian in anoka county."
   ]
  },
  {
   "attachments": {
    "image.png": {
     "image/png": "[encoded data removed]"
    }
   },
   "cell_type": "markdown",
   "metadata": {},
   "source": [
    "![image.png](attachment:image.png)"
   ]
  },
  {
   "attachments": {
    "image.png": {
     "image/png": "[encoded data removed]"
    }
   },
   "cell_type": "markdown",
   "metadata": {},
   "source": [
    "![image.png](attachment:image.png)"
   ]
  },
  {
   "cell_type": "code",
   "execution_count": null,
   "metadata": {},
   "outputs": [],
   "source": [
    "for row in cdc_df:\n",
    "    print(row)"
   ]
  },
  {
   "cell_type": "code",
   "execution_count": null,
   "metadata": {},
   "outputs": [],
   "source": [
    "County = []\n",
    "percent_caucasian = []\n",
    "percent_caucasian = []\n",
    "percent_caucasian = []\n",
    "percent_caucasian\n",
    "percent_caucasian\n",
    "\n",
    "poverty_count = []\n",
    "poverty_rate = []\n",
    "county = []\n",
    "state = []\n",
    "\n",
    "for row in cdc_df:\n",
    "        # Add place\n",
    "        place.append(row[0])\n",
    "\n",
    "        # Add population\n",
    "        population.append(row[1])\n",
    "\n",
    "        # Add per capita income\n",
    "        income.append(row[4])\n",
    "\n",
    "        # Add poverty count\n",
    "        poverty_count.append(row[8])\n",
    "\n",
    "        # Determine poverty rate to 2 decimal places, convert to string\n",
    "        percent = round(int(row[8]) / int(row[1]) * 100, 2)\n",
    "        poverty_rate.append(str(percent) + \"%\")\n",
    "\n",
    "for date in cdc_date:\n",
    "    cdc_2020_df = cdc_df.loc[cdc_df['case_month'] == date]\n",
    "    list.append[]\n",
    "    if date = '2021-01'\n",
    "# # you can try to append this date to the function .loc \n",
    "# cdc_2020_03_df = cdc_df.loc[cdc_df['case_month'] == '2020-03']\n",
    "# cdc_2020_03_df"
   ]
  },
  {
   "cell_type": "code",
   "execution_count": null,
   "metadata": {},
   "outputs": [],
   "source": [
    "#setting to 2020-03\n",
    "cdc_2020_03_df = cdc_df.loc[cdc_df['case_month'] == '2020-03']\n",
    "cdc_2020_03_df"
   ]
  },
  {
   "cell_type": "code",
   "execution_count": null,
   "metadata": {},
   "outputs": [],
   "source": [
    "cdc_2020_03_df['Race'].unique()"
   ]
  },
  {
   "cell_type": "code",
   "execution_count": null,
   "metadata": {},
   "outputs": [],
   "source": [
    "cdc_2020_03_caucasian_df = cdc_2020_03_df.loc[    cdc_2020_03_df['Race'] == 'Caucasian'  ]\n",
    "cdc_2020_03_african_american_df = cdc_2020_03_df.loc[    cdc_2020_03_df['Race'] == 'African American'  ]\n"
   ]
  },
  {
   "cell_type": "code",
   "execution_count": null,
   "metadata": {},
   "outputs": [],
   "source": [
    "caucasian_count_2020_03 = cdc_2020_03_caucasian_df['Infections'].sum()\n",
    "african_american_count_2020_03 = cdc_2020_03_african_american_df['Infections'].sum()\n",
    "\n",
    "print(f\" {caucasian_count_2020_03} Caucasians and {african_american_count_2020_03} African Americans were infected in March 2020.\")"
   ]
  },
  {
   "cell_type": "code",
   "execution_count": null,
   "metadata": {},
   "outputs": [],
   "source": [
    "#setting to 2020-04\n",
    "cdc_2020_04_df = cdc_df.loc[cdc_df['case_month'] == '2020-04']\n",
    "cdc_2020_04_df\n",
    "cdc_2020_04_df['Race'].unique()"
   ]
  },
  {
   "cell_type": "code",
   "execution_count": null,
   "metadata": {},
   "outputs": [],
   "source": [
    "cdc_2020_04_caucasian_df = cdc_2020_04_df.loc[    cdc_2020_04_df['Race'] == 'Caucasian'  ]\n",
    "cdc_2020_04_african_american_df = cdc_2020_04_df.loc[    cdc_2020_04_df['Race'] == 'African American'  ]\n",
    "cdc_2020_04_hispanic_df = cdc_2020_04_df.loc[    cdc_2020_04_df['Race'] == 'Hispanic'  ]\n",
    "cdc_2020_04_asian_df = cdc_2020_04_df.loc[    cdc_2020_04_df['Race'] == 'Asian'  ]\n",
    "cdc_2020_04_other_df = cdc_2020_04_df.loc[    cdc_2020_04_df['Race'] == 'Other'  ]\n",
    "\n",
    "caucasian_count_2020_04 = cdc_2020_04_caucasian_df['Infections'].sum()\n",
    "african_american_count_2020_04 = cdc_2020_04_african_american_df['Infections'].sum()\n",
    "caucasian_count_2020_04 = cdc_2020_04_caucasian_df['Infections'].sum()\n",
    "african_american_count_2020_04 = cdc_2020_04_african_american_df['Infections'].sum()\n",
    "caucasian_count_2020_04 = cdc_2020_04_caucasian_df['Infections'].sum()\n",
    "african_american_count_2020_04 = cdc_2020_04_african_american_df['Infections'].sum()\n",
    "\n",
    "print(f\" {caucasian_count_2020_04} Caucasians and {african_american_count_2020_04} African Americans were infected in March 2020.\")\n"
   ]
  },
  {
   "cell_type": "code",
   "execution_count": null,
   "metadata": {},
   "outputs": [],
   "source": [
    "#think about for loop. +1 month ..\n",
    "cdc_anoka = cdc_df.loc[cdc_df['County'] == 'ANOKA']\n",
    "cdc_anoka"
   ]
  },
  {
   "cell_type": "code",
   "execution_count": null,
   "metadata": {},
   "outputs": [],
   "source": [
    "# Export the DataFrames to CSV\n",
    "\n",
    "cdc_df.to_csv(\"output/cdc_df.csv\", index=True)"
   ]
  },
  {
   "cell_type": "code",
   "execution_count": null,
   "metadata": {},
   "outputs": [],
   "source": [
    "cdc_df = cdc_df.sort_values(['case_month'])\n",
    "cdc_df"
   ]
  },
  {
   "cell_type": "code",
   "execution_count": null,
   "metadata": {},
   "outputs": [],
   "source": [
    "cdc_df = cdc_df.sort_values(['County'])\n",
    "cdc_df"
   ]
  },
  {
   "cell_type": "code",
   "execution_count": null,
   "metadata": {},
   "outputs": [],
   "source": [
    "# Export the DataFrames to CSV\n",
    "\n",
    "cdc_df.to_csv(\"output/cdc_df.csv\", index=True)"
   ]
  },
  {
   "cell_type": "code",
   "execution_count": null,
   "metadata": {},
   "outputs": [],
   "source": [
    "# I want to make it so that it does for loop and run all the counties and append it in a list. or groupit so that it shows\n",
    "# the date chronologically and counties in order.\n",
    "cdc_hennepin = cdc_df.loc[cdc_df['County'] == 'HENNEPIN']\n",
    "cdc_hennepin"
   ]
  },
  {
   "cell_type": "code",
   "execution_count": null,
   "metadata": {},
   "outputs": [],
   "source": [
    "cdc_grouped_county = cdc_df.groupby(['County'])\n",
    "# cdc_grouped_county = cdc_df.groupby(['County', 'Race']\n",
    "# cdc_df.reset_index(inplace=True)\n",
    "cdc_df"
   ]
  },
  {
   "cell_type": "code",
   "execution_count": null,
   "metadata": {},
   "outputs": [],
   "source": [
    "#export this and see how it is arranged. also how to calculate a rate."
   ]
  },
  {
   "cell_type": "code",
   "execution_count": null,
   "metadata": {},
   "outputs": [],
   "source": [
    "# cdc_grouped_county = cdc_df.groupby(['County', 'Race'])\n",
    "# # cdc_grouped_county.head()\n",
    "# cdc_df = cdc_grouped_county.sort_values(['case_month'])\n",
    "# # cdc_df.reset_index(inplace=True)\n",
    "# cdc_df\n"
   ]
  },
  {
   "cell_type": "code",
   "execution_count": null,
   "metadata": {},
   "outputs": [],
   "source": [
    "# # Drop NaNs and then group by County and Race\n",
    "# cdc_df = cdc_df.dropna(how='any')\n",
    "# cdc_df = cdc_df[['case_month', 'County', 'Race', 'Infections']]\n",
    "# cdc_grouped_county = cdc_df.groupby(['County', 'Race'])\n",
    "# cdc_df = cdc_grouped_county.count()\n",
    "# cdc_df.reset_index(inplace=True)\n",
    "# cdc_df"
   ]
  },
  {
   "cell_type": "code",
   "execution_count": null,
   "metadata": {},
   "outputs": [],
   "source": [
    "# pursuit of infection RATE\n",
    "cdc_df"
   ]
  },
  {
   "cell_type": "code",
   "execution_count": null,
   "metadata": {},
   "outputs": [],
   "source": [
    "# Drop NaNs and then group by County and Race.\n",
    "cdc_df = cdc_df.dropna(how='any')\n",
    "cdc_df = cdc_df[['County', 'Race', 'Infections']]\n",
    "cdc_grouped_county = cdc_df.groupby(['County', 'Race'])\n",
    "cdc_df = cdc_grouped_county.count()\n",
    "cdc_df.reset_index(inplace=True)\n",
    "cdc_df"
   ]
  },
  {
   "cell_type": "code",
   "execution_count": null,
   "metadata": {},
   "outputs": [],
   "source": [
    "cdc_race = cdc_df['Race'].unique()\n",
    "cdc_race"
   ]
  },
  {
   "cell_type": "code",
   "execution_count": null,
   "metadata": {},
   "outputs": [],
   "source": [
    "#***i should be doing a total population so i can get all the data for all counties in a box plot. "
   ]
  },
  {
   "cell_type": "code",
   "execution_count": null,
   "metadata": {},
   "outputs": [],
   "source": [
    "cdc_df['County'].unique()\n"
   ]
  },
  {
   "cell_type": "code",
   "execution_count": null,
   "metadata": {},
   "outputs": [],
   "source": []
  },
  {
   "cell_type": "markdown",
   "metadata": {},
   "source": [
    "## % of race group in Hennepin County. work on getting %race group infected by each county"
   ]
  },
  {
   "cell_type": "code",
   "execution_count": null,
   "metadata": {},
   "outputs": [],
   "source": [
    "cdc_hennepin = cdc_df.loc[cdc_df['County'] == 'HENNEPIN']\n",
    "cdc_hennepin"
   ]
  },
  {
   "cell_type": "code",
   "execution_count": null,
   "metadata": {},
   "outputs": [],
   "source": [
    "cdc_hennepin.columns"
   ]
  },
  {
   "cell_type": "code",
   "execution_count": null,
   "metadata": {},
   "outputs": [],
   "source": [
    "cdc_hennepin_infections = cdc_hennepin['Infections']\n",
    "cdc_hennepin_infections"
   ]
  },
  {
   "cell_type": "code",
   "execution_count": null,
   "metadata": {},
   "outputs": [],
   "source": [
    "cdc_hennepin_race = list(cdc_hennepin_infections)\n",
    "\n",
    "\n",
    "# # append function\n",
    "# for race in cdc_hennepin_race:\n",
    "#     print(race)\n",
    "    \n",
    "cdc_hennepin_african_american_count = cdc_hennepin_race[0]\n",
    "cdc_hennepin_asian_count = cdc_hennepin_race[1]\n",
    "cdc_hennepin_caucasian_count = cdc_hennepin_race[2]\n",
    "cdc_hennepin_hispanic_count = cdc_hennepin_race[3]\n",
    "cdc_hennepin_native_american_count = cdc_hennepin_race[4]\n",
    "cdc_hennepin_other_count = cdc_hennepin_race[5]"
   ]
  },
  {
   "cell_type": "code",
   "execution_count": null,
   "metadata": {},
   "outputs": [],
   "source": [
    "sample_population_hennepin = cdc_hennepin['Infections'].sum()\n",
    "print(f\"Total sample population in Hennepin County in this randomized dataset is {sample_population_hennepin} according to the CDC.gov website\")\n"
   ]
  },
  {
   "cell_type": "code",
   "execution_count": null,
   "metadata": {},
   "outputs": [],
   "source": [
    "cdc_hennepin_african_american_percent = cdc_hennepin_african_american_count/sample_population_hennepin*100\n",
    "cdc_hennepin_asian_percent = cdc_hennepin_asian_count/sample_population_hennepin*100\n",
    "cdc_hennepin_caucasian_percent = cdc_hennepin_caucasian_count/sample_population_hennepin*100\n",
    "cdc_hennepin_hispanic_percent = cdc_hennepin_hispanic_count/sample_population_hennepin*100\n",
    "cdc_hennepin_native_american_percent = cdc_hennepin_native_american_count/sample_population_hennepin*100\n",
    "cdc_hennepin_other_percent = cdc_hennepin_other_count/sample_population_hennepin*100"
   ]
  },
  {
   "cell_type": "code",
   "execution_count": null,
   "metadata": {},
   "outputs": [],
   "source": [
    "race_percent_df = pd.DataFrame({'% African American':[cdc_hennepin_african_american_percent],\n",
    "                     '% Asian':[cdc_hennepin_asian_percent],\n",
    "                     '% Caucasian American':[cdc_hennepin_caucasian_percent],\n",
    "                     '% Hispanic':[cdc_hennepin_hispanic_percent],\n",
    "                     '% Native American':[cdc_hennepin_native_american_percent],\n",
    "                     '% Other':[cdc_hennepin_other_percent] \n",
    "                               })\n",
    "\n",
    "race_percent_T_df = race_percent_df.T"
   ]
  },
  {
   "cell_type": "code",
   "execution_count": null,
   "metadata": {},
   "outputs": [],
   "source": [
    "# Rename columns.  please review the class activity\n",
    "\n",
    "race_percent_T_df.columns = [\"% race proportion infected with COVID-19 in Hennepin County from the reduced CDC dataset\"]\n",
    "race_percent_T_df"
   ]
  },
  {
   "cell_type": "code",
   "execution_count": null,
   "metadata": {},
   "outputs": [],
   "source": [
    "# Create a boxplot to compare means. look at hw\n",
    "race_percent_T_df.boxplot(\"% race proportion infected with COVID-19 in Hennepin County from the reduced CDC dataset\", by = race_percent_T_df.iloc[:, 0], figsize=(20, 10))"
   ]
  },
  {
   "cell_type": "code",
   "execution_count": null,
   "metadata": {},
   "outputs": [],
   "source": [
    "# Extract individual groups should i append a column?\n",
    "group0 = race_percent_T_df[race_percent_T_df[\"num_workouts\"] == 0][\"resting_heart_rate\"]\n",
    "group1 = df[df[\"num_workouts\"] == 1][\"resting_heart_rate\"]\n",
    "group2 = df[df[\"num_workouts\"] == 2][\"resting_heart_rate\"]\n",
    "group3 = df[df[\"num_workouts\"] == 3][\"resting_heart_rate\"]\n",
    "group4 = df[df[\"num_workouts\"] == 4][\"resting_heart_rate\"]"
   ]
  },
  {
   "attachments": {
    "image.png": {
     "image/png": "[encoded data removed]"
    }
   },
   "cell_type": "markdown",
   "metadata": {},
   "source": [
    "![image.png](attachment:image.png)"
   ]
  },
  {
   "cell_type": "code",
   "execution_count": null,
   "metadata": {},
   "outputs": [],
   "source": [
    "# Perform the ANOVA\n",
    "stats.f_oneway(group0, group1, group2, group3, group4)"
   ]
  },
  {
   "cell_type": "code",
   "execution_count": null,
   "metadata": {},
   "outputs": [],
   "source": [
    "# #count of Asian in Hennepin county\n",
    "# cdc_hennepin_asian_df = cdc_hennepin.loc[cdc_hennepin['Race'] == 'Asian']\n",
    "# cdc_hennepin_asian_df\n",
    "\n",
    "# # Count of Asian in Hennepin County\n",
    "# cdc_hennepin_asian_count = cdc_hennepin_asian_df['Infections']\n",
    "# cdc_hennepin_asian_count = list(cdc_hennepin_asian_count)\n",
    "# cdc_hennepin_asian_count = cdc_hennepin_asian_count[0]\n",
    "\n",
    "# print(f\"Out of a reduced CDC dataframe, {cdc_hennepin_asian_count} asians in the Hennepin County responded they have been infected with Covid-19\")"
   ]
  },
  {
   "cell_type": "markdown",
   "metadata": {},
   "source": [
    "## %Asians in Anoka County"
   ]
  },
  {
   "cell_type": "code",
   "execution_count": null,
   "metadata": {},
   "outputs": [],
   "source": [
    "#count of Asian in Anoka county\n",
    "cdc_anoka = cdc_df.loc[cdc_df['County'] == 'ANOKA']\n",
    "cdc_anoka"
   ]
  },
  {
   "cell_type": "code",
   "execution_count": null,
   "metadata": {},
   "outputs": [],
   "source": [
    "sample_population_anoka = cdc_anoka['Infections'].sum()\n",
    "print(f\"Total sample population in Anoka County in this reduced dataset is {sample_population_anoka} according to the CDC.gov website\")"
   ]
  },
  {
   "cell_type": "code",
   "execution_count": null,
   "metadata": {},
   "outputs": [],
   "source": [
    "# count of Asian in Anoka county\n",
    "# Count of Asian in Hennepin County\n",
    "cdc_anoka_asian_count = cdc_anoka['Infections']\n",
    "cdc_anoka_asian_count = list(cdc_anoka_asian_count)\n",
    "cdc_anoka_asian_count = cdc_anoka_asian_count[0]\n",
    "print(f\"Out of the reduced CDC dataframe, {cdc_anoka_asian_count} asians in the Anoka County responded they have been infected with Covid-19\")"
   ]
  },
  {
   "cell_type": "code",
   "execution_count": null,
   "metadata": {},
   "outputs": [],
   "source": [
    "Asian_in_anoka = cdc_anoka_asian_count/sample_population_anoka*100\n",
    "rounded_Asian_in_anoka = \"{:.2f}\".format(Asian_in_anoka)\n",
    "print(f\"{rounded_Asian_in_anoka}% of Asians are represented in the Anoka County in the CDC dataset\")"
   ]
  },
  {
   "cell_type": "markdown",
   "metadata": {},
   "source": [
    "## %Asians in Ramsey County"
   ]
  },
  {
   "cell_type": "code",
   "execution_count": null,
   "metadata": {},
   "outputs": [],
   "source": [
    "cdc_ramsey = cdc_df.loc[cdc_df['County'] == 'RAMSEY']\n",
    "cdc_ramsey"
   ]
  },
  {
   "cell_type": "code",
   "execution_count": null,
   "metadata": {},
   "outputs": [],
   "source": [
    "sample_population_ramsey = cdc_ramsey['State'].count()\n",
    "print(f\"Total sample population in Ramsey County in this randomized dataset is {sample_population_ramsey} according to the CDC.gov website\")"
   ]
  },
  {
   "cell_type": "code",
   "execution_count": null,
   "metadata": {},
   "outputs": [],
   "source": [
    "#count of Asian in Ramsey county\n",
    "cdc_ramsey_asian_df = cdc_ramsey.loc[cdc_ramsey['Race'] == 'Asian']\n",
    "cdc_ramsey_asian_df"
   ]
  },
  {
   "cell_type": "code",
   "execution_count": null,
   "metadata": {},
   "outputs": [],
   "source": [
    "# count of Asian in Ramsey county\n",
    "cdc_ramsey_asian_count = cdc_ramsey_asian_df['State'].count()\n",
    "cdc_ramsey_asian_count\n",
    "print(f\"Out of a randomized CDC dataframe, {cdc_ramsey_asian_count} asians in the Ramsey County responded they have been infected with Covid-19\")"
   ]
  },
  {
   "cell_type": "code",
   "execution_count": null,
   "metadata": {},
   "outputs": [],
   "source": [
    "Asian_in_ramsey = cdc_ramsey_asian_count/sample_population_ramsey*100\n",
    "rounded_Asian_in_ramsey = \"{:.2f}\".format(Asian_in_ramsey)\n",
    "print(f\"{rounded_Asian_in_ramsey}% of Asians are represented in the Ramsey County in the CDC dataset\")"
   ]
  },
  {
   "cell_type": "code",
   "execution_count": null,
   "metadata": {},
   "outputs": [],
   "source": [
    "# Observed data in a CDC dataset\n",
    "observed = pd.Series([rounded_Asian_in_hennepin,rounded_Asian_in_anoka,rounded_Asian_in_ramsey], index=[\"%Asians in Hennepin\", \"%Asians in Anoka\", \"%Asians in Ramsey\"])"
   ]
  },
  {
   "cell_type": "code",
   "execution_count": null,
   "metadata": {},
   "outputs": [],
   "source": [
    "# Create a data frame\n",
    "observed_df = pd.DataFrame([observed]).T\n",
    "observed_df"
   ]
  },
  {
   "cell_type": "code",
   "execution_count": null,
   "metadata": {},
   "outputs": [],
   "source": [
    "# Create a data frame\n",
    "df = pd.DataFrame([observed]).T"
   ]
  },
  {
   "cell_type": "code",
   "execution_count": null,
   "metadata": {},
   "outputs": [],
   "source": [
    "expected = pd.Series([7.15, 4.55, 14.74], index=[\"%Asians in Hennepin\", \"%Asians in Anoka\", \"%Asians in Ramsey\"])\n",
    "expected = [7.15, 4.55, 14.74]\n",
    "df[1] = expected\n",
    "df[1]"
   ]
  },
  {
   "cell_type": "code",
   "execution_count": null,
   "metadata": {},
   "outputs": [],
   "source": [
    "# Rename columns\n",
    "\n",
    "df.columns = [\"% of population infected with COVID-19 from CDC dataset\", \"Population Census\"]\n",
    "df"
   ]
  },
  {
   "cell_type": "code",
   "execution_count": null,
   "metadata": {},
   "outputs": [],
   "source": [
    "# The degree of freedom is 3-1 = 2\n",
    "# With a p-value of 0.05, the confidence level is 1.00-0.05 = 0.95.\n",
    "critical_value = st.chi2.ppf(q = 0.95, df = 2)"
   ]
  },
  {
   "cell_type": "code",
   "execution_count": null,
   "metadata": {},
   "outputs": [],
   "source": [
    "# The critical value\n",
    "critical_value"
   ]
  },
  {
   "cell_type": "code",
   "execution_count": null,
   "metadata": {},
   "outputs": [],
   "source": [
    "# Run the chi square test with stats.chisquare()\n",
    "st.chisquare(df[\"% of population infected with COVID-19 from CDC dataset\"], df[\"Population Census\"])"
   ]
  },
  {
   "cell_type": "code",
   "execution_count": null,
   "metadata": {},
   "outputs": [],
   "source": [
    "# Drop NaNs and then group by County and Race\n",
    "cdc_df = cdc_df.dropna(how='any')\n",
    "cdc_df = cdc_df[['County', 'Race', 'Infections']]\n",
    "cdc_grouped_county = cdc_df.groupby(['County', 'Race'])\n",
    "cdc_df = cdc_grouped_county.count()\n",
    "cdc_df.reset_index(inplace=True)\n",
    "cdc_df\n"
   ]
  },
  {
   "cell_type": "markdown",
   "metadata": {},
   "source": [
    "# Pulling data using API with the help of JSON\n",
    "## = Census Dataset ="
   ]
  },
  {
   "cell_type": "markdown",
   "metadata": {},
   "source": [
    "### Drop NaN and compile totals by county and race"
   ]
  },
  {
   "cell_type": "markdown",
   "metadata": {},
   "source": [
    "### Create poverty DataFrame based on US Census"
   ]
  },
  {
   "cell_type": "code",
   "execution_count": 23,
   "metadata": {},
   "outputs": [
    {
     "ename": "NameError",
     "evalue": "name 'json_to_dataframe' is not defined",
     "output_type": "error",
     "traceback": [
      "\u001b[1;31m---------------------------------------------------------------------------\u001b[0m",
      "\u001b[1;31mNameError\u001b[0m                                 Traceback (most recent call last)",
      "Input \u001b[1;32mIn [23]\u001b[0m, in \u001b[0;36m<cell line: 6>\u001b[1;34m()\u001b[0m\n\u001b[0;32m      4\u001b[0m response \u001b[38;5;241m=\u001b[39m requests\u001b[38;5;241m.\u001b[39mrequest(\u001b[38;5;124m\"\u001b[39m\u001b[38;5;124mGET\u001b[39m\u001b[38;5;124m\"\u001b[39m, url)\n\u001b[0;32m      5\u001b[0m response\n\u001b[1;32m----> 6\u001b[0m poverty_df \u001b[38;5;241m=\u001b[39m \u001b[43mjson_to_dataframe\u001b[49m(response)\n\u001b[0;32m      8\u001b[0m \u001b[38;5;66;03m# Split NAME into county & state\u001b[39;00m\n\u001b[0;32m      9\u001b[0m name \u001b[38;5;241m=\u001b[39m poverty_df[\u001b[38;5;124m'\u001b[39m\u001b[38;5;124mNAME\u001b[39m\u001b[38;5;124m'\u001b[39m]\u001b[38;5;241m.\u001b[39mstr\u001b[38;5;241m.\u001b[39msplit(\u001b[38;5;124m\"\u001b[39m\u001b[38;5;124m,\u001b[39m\u001b[38;5;124m\"\u001b[39m, n\u001b[38;5;241m=\u001b[39m\u001b[38;5;241m1\u001b[39m, expand\u001b[38;5;241m=\u001b[39m\u001b[38;5;28;01mTrue\u001b[39;00m)\n",
      "\u001b[1;31mNameError\u001b[0m: name 'json_to_dataframe' is not defined"
     ]
    }
   ],
   "source": [
    "# Poverty DataFrame By Race - 2020\n",
    "\n",
    "url = \"https://api.census.gov/data/2020/acs/acs5?get=NAME,B17001_002E,B17001A_002E,B17001B_002E,B17001C_002E,B17001D_002E,B17001E_002E,B17001F_002E,B17001G_002E,B17001H_002E,B17001I_002E&for=county:*&in=state:27&key={0}\".format(census_key)\n",
    "response = requests.request(\"GET\", url)\n",
    "response\n",
    "poverty_df = json_to_dataframe(response)\n",
    "\n",
    "# Split NAME into county & state\n",
    "name = poverty_df['NAME'].str.split(\",\", n=1, expand=True)\n",
    "COUNTY = poverty_df['County'] = name[0]\n",
    "STATE = poverty_df['State'] = name[1]\n",
    "poverty_df.drop(columns=[\"NAME\"], inplace=True)\n",
    "poverty_df['Caucasian2'] = poverty_df['B17001A_002E'].astype(int) - poverty_df['B17001I_002E'].astype(int)\n",
    "poverty_df['Other'] = poverty_df['B17001F_002E'].astype(int) + poverty_df['B17001G_002E'].astype(int)\n",
    "\n",
    "# Get the columns we want\n",
    "poverty_df = poverty_df[['County', 'State','B17001_002E','Caucasian2', 'B17001B_002E','B17001C_002E','B17001D_002E','B17001E_002E','Other','B17001I_002E']]\n",
    "\n",
    "# Rename columns to something intelligible\n",
    "poverty_df = poverty_df.rename(columns={\n",
    "    'B17001_002E':'Poverty Total',\n",
    "    'Caucasian2':'Caucasian',\n",
    "    'B17001B_002E':'African American',\n",
    "    'B17001C_002E':'Native American',\n",
    "    'B17001D_002E':'Asian',\n",
    "    'B17001E_002E':'Hawaiian', # I had to change this from Native Hawaiian to Hawaiian for compatibility with the rest - Dom\n",
    "    'B17001I_002E':'Hispanic' \n",
    "    })\n",
    "\n",
    "# # Remove ...County from County in dataframe\n",
    "poverty_df['County'] = poverty_df['County'].replace('County', '', regex=True)\n",
    "# NOTE: The line above accidentally leaves a blank space at the end of these county names! That space caused a merge to fail\n",
    "# on any of these counties because, for example, \"AITKIN \" is not the same as \"AITKIN\". \n",
    "\n",
    "# Remove any blank space that may be present at the begining or end of the county name\n",
    "poverty_df['County'] = poverty_df['County'].str.strip()\n",
    "\n",
    "# And then convert the county name to uppercase\n",
    "poverty_df['County'] = poverty_df['County'].str.upper()\n",
    "\n",
    "poverty_df['Year'] = 2020\n",
    "#poverty_df.to_csv(\"../Project_1/population_in_poverty.csv\")\n",
    "poverty_df\n",
    "\n"
   ]
  },
  {
   "cell_type": "code",
   "execution_count": null,
   "metadata": {},
   "outputs": [],
   "source": [
    "# Choose only the columns we need\n",
    "poverty_df = poverty_df[['County', 'Caucasian', 'African American', 'Native American', 'Asian', 'Hawaiian', 'Other', 'Hispanic']]\n",
    "poverty_df"
   ]
  },
  {
   "cell_type": "code",
   "execution_count": null,
   "metadata": {},
   "outputs": [],
   "source": [
    "# Use melt to convert this into a format similar to the CDC data\n",
    "poverty_df = poverty_df.melt(id_vars='County', value_vars=['Caucasian', 'African American', 'Native American', 'Asian', \\\n",
    "                                                    'Hawaiian', 'Other', 'Hispanic'], \\\n",
    "                                                     var_name='Race', value_name='Poverty')\n",
    "poverty_gb = poverty_df.groupby(['County', 'Race'])\n",
    "poverty_df = poverty_gb.sum()\n",
    "poverty_df.reset_index(inplace=True)\n",
    "poverty_df"
   ]
  },
  {
   "cell_type": "markdown",
   "metadata": {},
   "source": [
    "### Function for quickly calling a DataFrame"
   ]
  },
  {
   "cell_type": "markdown",
   "metadata": {},
   "source": [
    "### Create population DataFrame by county and race"
   ]
  },
  {
   "cell_type": "code",
   "execution_count": null,
   "metadata": {},
   "outputs": [],
   "source": [
    "# Function for quickly assempling a DataFrame\n",
    "def json_to_dataframe(response):\n",
    "    return pd.DataFrame(response.json()[1:], columns=response.json()[0])"
   ]
  },
  {
   "cell_type": "code",
   "execution_count": null,
   "metadata": {},
   "outputs": [],
   "source": [
    "# Population by county, by race\n",
    "url = \"https://api.census.gov/data/2020/acs/acs5?get=NAME,B03002_001E,B03002_003E,B03002_004E,B03002_005E,B03002_006E,B03002_007E,B03002_008E,B03002_009E,B03002_012E&for=county:*&in=state:27&key={0}\".format(census_key)\n",
    "\n",
    "\n",
    "response = requests.request(\"GET\", url)\n",
    "response\n",
    "response_df = json_to_dataframe(response)\n",
    "response_df = response_df.rename(columns={\n",
    "    'B03002_001E': 'Population Total',\n",
    "    'B03002_003E': 'Caucasian',\n",
    "    'B03002_004E': 'African American',\n",
    "    'B03002_005E': 'Native American',\n",
    "    'B03002_006E': 'Asian',\n",
    "    'B03002_007E': 'Hawaiian',\n",
    "    'B03002_012E': 'Hispanic',\n",
    "#     'B03002_005E': 'American Indian and Alaska Native alone'\n",
    "})\n",
    "response_df['Other'] = response_df['B03002_008E'].astype(int) + response_df['B03002_009E'].astype(int)\n",
    "mn_pop_df = response_df\n",
    "\n",
    "# Split NAME into county & state\n",
    "name = mn_pop_df['NAME'].str.split(\",\", n=1, expand=True)\n",
    "COUNTY = mn_pop_df['County']=name[0]\n",
    "STATE = mn_pop_df['State']=name[1]\n",
    "mn_pop_df.drop(columns=[\"NAME\"], inplace=True)\n",
    "\n",
    "# # Remove ...County from County in dataframe\n",
    "mn_pop_df['County'] = mn_pop_df['County'].replace('County', '', regex=True)\n",
    "# NOTE: The line above accidentally leaves a blank space at the end of these county names! That space caused a merge to fail\n",
    "# on any of these counties because, for example, \"AITKIN \" is not the same as \"AITKIN\". \n",
    "\n",
    "# Remove any blank space that may be present at the begining or end of the county name\n",
    "mn_pop_df['County'] = mn_pop_df['County'].str.strip()\n",
    "\n",
    "# # Upper case for County\n",
    "mn_pop_df['County'] = mn_pop_df['County'].str.upper()\n",
    "mn_pop_df = mn_pop_df[['County', 'Population Total', 'Caucasian', 'African American', 'Native American', 'Asian', 'Hawaiian', 'Hispanic', 'Other']]\n",
    "mn_pop_df.to_csv(\"../Project_1/mn_population by race.csv\")\n",
    "mn_pop_df"
   ]
  },
  {
   "cell_type": "code",
   "execution_count": null,
   "metadata": {},
   "outputs": [],
   "source": [
    "# # Edited merge_df for nan infections to be 0\n",
    "# merged_df = pd.merge(mn_pop_df, poverty_df, on=['County', 'Race'])\n",
    "# merged_df = pd.merge(merged_df, cdc_df, on=['County', 'Race'], how = \"left\")\n",
    "# merged_df[\"Infections\"] = merged_df[\"Infections\"].fillna(0)\n",
    "# merged_df\n",
    "\n",
    "# # Convert all numerical values in merged_df from strings to int\n",
    "# merged_df[\"Population\"] = merged_df[\"Population\"].astype(int)\n",
    "# merged_df[\"Poverty\"] = merged_df[\"Poverty\"].astype(int)\n",
    "# merged_df[\"Infections\"] = merged_df[\"Infections\"].astype(int)\n",
    "\n",
    "# # Calculate poverty and infection rates\n",
    "# poverty_rate = []\n",
    "# infection_rate = []\n",
    "\n",
    "# i = 0\n",
    "# while i < len(merged_df):\n",
    "#     if merged_df[\"Population\"][i] == 0:\n",
    "#         poverty_rate.append(0)\n",
    "#         infection_rate.append(0)\n",
    "#     else: \n",
    "#         poverty_rate.append(merged_df[\"Poverty\"][i] / merged_df[\"Population\"][i])\n",
    "#         infection_rate.append(merged_df[\"Infections\"][i] / merged_df[\"Population\"][i])\n",
    "#     i += 1\n",
    "    \n",
    "# merged_df[\"Poverty Rate\"] = poverty_rate\n",
    "# merged_df[\"Infection Rate\"] = infection_rate\n",
    "\n",
    "# merged_df[merged_df[\"County\"] == \"CROW WING\"]"
   ]
  },
  {
   "cell_type": "code",
   "execution_count": null,
   "metadata": {},
   "outputs": [],
   "source": [
    "mn_pop_df.columns"
   ]
  },
  {
   "cell_type": "code",
   "execution_count": null,
   "metadata": {},
   "outputs": [],
   "source": [
    "# please obtain total population by race for all counties (MN)-08072022 COMMENT"
   ]
  },
  {
   "attachments": {
    "image.png": {
     "image/png": "[encoded data removed]"
    }
   },
   "cell_type": "markdown",
   "metadata": {},
   "source": [
    "![image.png](attachment:image.png)"
   ]
  },
  {
   "cell_type": "code",
   "execution_count": null,
   "metadata": {},
   "outputs": [],
   "source": [
    "#population by race infected with covid-19\n",
    "\n",
    "mn_pop = mn_pop_df['Population Total']\n",
    "mn_caucasian_pop = mn_pop_df['Caucasian']\n",
    "mn_african_american_pop = mn_pop_df['African American']\n",
    "mn_native_american_pop = mn_pop_df['Native American']\n",
    "mn_asian_pop = mn_pop_df['Asian']\n",
    "mn_hawaiian_pop = mn_pop_df['Hawaiian']\n",
    "mn_hispanic_pop = mn_pop_df['Hispanic']\n",
    "mn_other_pop = mn_pop_df['Other']\n",
    "\n",
    "\n",
    "# caucasian_sum = mn_pop_df['Caucasian'].sum()\n",
    "# caucasian_sum\n",
    "\n",
    "# mn_pop_df.loc[  mn_pop_df['County'] == 'HENNEPIN'  ]\n",
    "\n",
    "# mn_pop_df = mn_pop_df['Race'].value_counts()\n",
    "# cdc_byrace_df"
   ]
  },
  {
   "cell_type": "code",
   "execution_count": null,
   "metadata": {},
   "outputs": [],
   "source": [
    "mn_pop_list = list(mn_pop)\n",
    "mn_pop_list\n",
    "mn_caucasian_list = list(mn_caucasian_pop)\n",
    "mn_caucasian_list\n",
    "mn_african_american_list = list(mn_african_american_pop)\n",
    "mn_african_american_list\n",
    "mn_native_american_list = list(mn_native_american_pop)\n",
    "mn_native_american_list\n",
    "mn_asian_list = list(mn_asian_pop)\n",
    "mn_asian_list\n",
    "mn_hawaiian_list = list(mn_hawaiian_pop)\n",
    "mn_hawaiian_list\n",
    "mn_other_list = list(mn_other_pop)\n",
    "mn_other_list\n",
    "print(type(mn_pop_list[0]))"
   ]
  },
  {
   "cell_type": "code",
   "execution_count": null,
   "metadata": {},
   "outputs": [],
   "source": [
    "\n",
    "# print([int(x) for x in mn_pop_list])\n",
    "mn_pop_int_list = [int(x) for x in mn_pop_list]\n",
    "mn_caucasian_int_list = [int(x) for x in mn_caucasian_list]\n",
    "mn_african_american_int_list = [int(x) for x in mn_african_american_list]\n",
    "mn_native_american_int_list = [int(x) for x in mn_native_american_list]\n",
    "mn_asian_int_list = [int(x) for x in mn_asian_list]\n",
    "mn_hawaiian_int_list = [int(x) for x in mn_hawaiian_list]\n",
    "mn_other_int_list = [int(x) for x in mn_other_list]\n",
    "\n",
    "\n",
    "print(type(mn_pop_int_list[0]))"
   ]
  },
  {
   "cell_type": "code",
   "execution_count": null,
   "metadata": {},
   "outputs": [],
   "source": [
    "sum_mn_pop = sum(mn_pop_int_list)\n",
    "sum_mn_caucasian = sum(mn_caucasian_int_list)\n",
    "sum_mn_african_american = sum(mn_african_american_int_list)\n",
    "sum_mn_native_american = sum(mn_native_american_int_list)\n",
    "sum_mn_asian = sum(mn_asian_int_list)\n",
    "sum_mn_hawaiian = sum(mn_hawaiian_int_list)\n",
    "sum_mn_other = sum(mn_other_int_list)\n",
    "\n",
    "print(sum_mn_pop)\n",
    "print(sum_mn_caucasian)\n",
    "print(sum_mn_african_american)\n",
    "print(sum_mn_native_american)\n",
    "print(sum_mn_asian)\n",
    "print(sum_mn_hawaiian)"
   ]
  },
  {
   "cell_type": "code",
   "execution_count": null,
   "metadata": {},
   "outputs": [],
   "source": [
    "percent_mn_caucasian = sum_mn_caucasian/sum_mn_pop*100\n",
    "percent_mn_african_american = sum_mn_african_american/sum_mn_pop*100\n",
    "percent_mn_native_american = sum_mn_native_american/sum_mn_pop*100\n",
    "percent_mn_asian = sum_mn_asian/sum_mn_pop*100\n",
    "percent_mn_hawaiian = sum_mn_hawaiian/sum_mn_pop*100\n",
    "percent_mn_other = sum_mn_other/sum_mn_pop*100\n",
    "\n",
    "print(percent_mn_caucasian)\n",
    "print(percent_mn_african_american)\n",
    "print(percent_mn_native_american)\n",
    "print(percent_mn_asian)\n",
    "print(percent_mn_hawaiian)\n",
    "print(percent_mn_other)"
   ]
  },
  {
   "cell_type": "code",
   "execution_count": null,
   "metadata": {},
   "outputs": [],
   "source": [
    "#Population in Hennepin County by race\n",
    "\n",
    "\n",
    "mn_pop_hennepin_df = mn_pop_df.loc[  mn_pop_df['County'] == 'HENNEPIN'  ]\n",
    "mn_pop_hennepin_df"
   ]
  },
  {
   "cell_type": "code",
   "execution_count": null,
   "metadata": {},
   "outputs": [],
   "source": [
    "mn_pop_hennepin_asian_count = mn_pop_hennepin_df['Asian']\n",
    "mn_pop_hennepin_asian_count(index = False)\n",
    "print(mn_pop_hennepin_asian_count)\n",
    "# mn_pop_hennepin_asian_count = mn_pop_hennepin_asian_count.astype(str).astype(int)\n",
    "\n",
    "\n",
    "# mn_pop_hennepin_asian_count.reset_index()\n",
    "\n",
    "mn_pop_hennepin_asian_count = pd.DataFrame(mn_pop_hennepin_asian_count)\n",
    "# mn_pop_hennepin_asian_count\n",
    "# mn_pop_census_hennepin_asian_per_df = "
   ]
  },
  {
   "cell_type": "code",
   "execution_count": null,
   "metadata": {},
   "outputs": [],
   "source": [
    "mn_pop_hennepin_total_population = mn_pop_hennepin_df['Population Total']\n",
    "mn_pop_hennepin_total_population = mn_pop_hennepin_total_population.astype(str).astype(int)\n",
    "mn_pop_hennepin_total_population"
   ]
  },
  {
   "cell_type": "code",
   "execution_count": null,
   "metadata": {},
   "outputs": [],
   "source": [
    "mn_pop_census_hennepin_asian_per = mn_pop_hennepin_asian_count/mn_pop_hennepin_total_population*100\n",
    "mn_pop_census_hennepin_asian_per = round(mn_pop_census_hennepin_asian_per, 2) \n",
    "mn_pop_census_hennepin_asian_per"
   ]
  },
  {
   "cell_type": "code",
   "execution_count": null,
   "metadata": {},
   "outputs": [],
   "source": [
    "#Population in Anoka County by race\n",
    "mn_pop_anoka_df = mn_pop_df.loc[  mn_pop_df['County'] == 'ANOKA'  ]\n",
    "mn_pop_anoka_df"
   ]
  },
  {
   "cell_type": "code",
   "execution_count": null,
   "metadata": {},
   "outputs": [],
   "source": [
    "mn_pop_anoka_asian_count = mn_pop_anoka_df['Asian']\n",
    "mn_pop_anoka_asian_count = mn_pop_anoka_asian_count.astype(str).astype(int)\n",
    "mn_pop_anoka_asian_count\n",
    "# mn_pop_census_hennepin_asian_per_df = "
   ]
  },
  {
   "cell_type": "code",
   "execution_count": null,
   "metadata": {},
   "outputs": [],
   "source": [
    "mn_pop_anoka_total_population = mn_pop_anoka_df['Population Total']\n",
    "mn_pop_anoka_total_population = mn_pop_anoka_total_population.astype(str).astype(int)\n",
    "mn_pop_anoka_total_population"
   ]
  },
  {
   "cell_type": "code",
   "execution_count": null,
   "metadata": {},
   "outputs": [],
   "source": [
    "mn_pop_census_anoka_asian_per = mn_pop_anoka_asian_count/mn_pop_anoka_total_population*100\n",
    "mn_pop_census_anoka_asian_per = round(mn_pop_census_anoka_asian_per, 2) \n",
    "mn_pop_census_anoka_asian_per"
   ]
  },
  {
   "cell_type": "code",
   "execution_count": null,
   "metadata": {},
   "outputs": [],
   "source": [
    "#Population in Ramsey County by race\n",
    "mn_pop_ramsey_df = mn_pop_df.loc[  mn_pop_df['County'] == 'RAMSEY'  ]\n",
    "mn_pop_ramsey_df"
   ]
  },
  {
   "cell_type": "code",
   "execution_count": null,
   "metadata": {},
   "outputs": [],
   "source": [
    "mn_pop_ramsey_asian_count = mn_pop_ramsey_df['Asian']\n",
    "mn_pop_ramsey_asian_count = mn_pop_ramsey_asian_count.astype(str).astype(int)\n",
    "mn_pop_ramsey_asian_count\n",
    "# mn_pop_census_hennepin_asian_per_df = "
   ]
  },
  {
   "cell_type": "code",
   "execution_count": null,
   "metadata": {},
   "outputs": [],
   "source": [
    "mn_pop_ramsey_total_population = mn_pop_ramsey_df['Population Total']\n",
    "mn_pop_ramsey_total_population = mn_pop_ramsey_total_population.astype(str).astype(int)\n",
    "mn_pop_ramsey_total_population"
   ]
  },
  {
   "cell_type": "code",
   "execution_count": null,
   "metadata": {},
   "outputs": [],
   "source": [
    "mn_pop_census_ramsey_asian_per = mn_pop_ramsey_asian_count/mn_pop_ramsey_total_population*100\n",
    "mn_pop_census_ramsey_asian_per = round(mn_pop_census_ramsey_asian_per, 2) \n",
    "mn_pop_census_ramsey_asian_per"
   ]
  },
  {
   "cell_type": "markdown",
   "metadata": {},
   "source": [
    "### Coordinates for heat map -- if time permits"
   ]
  },
  {
   "cell_type": "code",
   "execution_count": null,
   "metadata": {},
   "outputs": [],
   "source": [
    "# Get the coordinates of counties in MN\n",
    "url = \"https://en.wikipedia.org/wiki/User:Michael_J/County_table\"\n",
    "\n",
    "table = pd.read_html(url)\n",
    "df = table[0]\n",
    "Counties = df.loc[df['State'] == \"MN\", : ]\n",
    "counties_df = Counties[['County [2]', 'Latitude', 'Longitude']]\n",
    "counties_df#.to_csv(\"../Project_1/county_geo.csv\")  "
   ]
  },
  {
   "cell_type": "code",
   "execution_count": null,
   "metadata": {},
   "outputs": [],
   "source": [
    "# Choose only the columns we need\n",
    "mn_pop_df = mn_pop_df[['County', 'Caucasian', 'African American', 'Native American', 'Asian', 'Hawaiian', 'Other', 'Hispanic']]\n",
    "mn_pop_df\n"
   ]
  },
  {
   "cell_type": "code",
   "execution_count": null,
   "metadata": {},
   "outputs": [],
   "source": [
    "# Use melt to convert this into a format similar to the CDC data\n",
    "pop_df = mn_pop_df.melt(id_vars='County', value_vars=['Caucasian', 'African American', 'Native American', 'Asian', \\\n",
    "                                                      'Hawaiian', 'Other', 'Hispanic'], \\\n",
    "                                                      var_name='Race', value_name='Population')\n",
    "pop_gb = pop_df.groupby(['County', 'Race'])\n",
    "pop_df = pop_gb.sum()\n",
    "pop_df.reset_index(inplace=True)\n",
    "pop_df"
   ]
  },
  {
   "cell_type": "markdown",
   "metadata": {},
   "source": [
    "### Merge the datasets"
   ]
  },
  {
   "cell_type": "code",
   "execution_count": null,
   "metadata": {},
   "outputs": [],
   "source": [
    "merged_df = pd.merge(pop_df, poverty_df, on=['County', 'Race'])\n",
    "merged_df = pd.merge(merged_df, cdc_df, on=['County', 'Race'])\n",
    "merged_df"
   ]
  },
  {
   "cell_type": "code",
   "execution_count": null,
   "metadata": {},
   "outputs": [],
   "source": []
  },
  {
   "cell_type": "markdown",
   "metadata": {},
   "source": [
    "## Practice codes"
   ]
  },
  {
   "cell_type": "code",
   "execution_count": null,
   "metadata": {},
   "outputs": [],
   "source": [
    "#old\n",
    "url = \"https://api.census.gov/data/2019/acs/acs5?get=NAME,B19013_001E,B01003_001E,B01002_001E,B19301_001E,B17001_002E,B23025_005E,B02001_001E,B02001_002E,B02001_003E,B02001_005E,B02001_006E,B02001_007E,B02001_004E&for=county:*&in=state:27&key={0}\".format(census_key)\n",
    "response = requests.request(\"GET\", url)\n",
    "\n",
    "census_df = json_to_dataframe(response)\n",
    "# Split NAME into county & state\n",
    "name = census_df['NAME'].str.split(\",\", n=1, expand=True)\n",
    "COUNTY = census_df['County']=name[0]\n",
    "STATE = census_df['State']=name[1]\n",
    "census_df.drop(columns=[\"NAME\"], inplace=True)\n",
    "\n",
    "# Rename columns to something intelligible\n",
    "census_df = census_df[['County', 'State', 'B19013_001E', 'B01003_001E', 'B01002_001E', 'B19301_001E', \n",
    "                       'B17001_002E', 'B23025_005E', 'B02001_001E', 'B02001_002E', 'B02001_003E', 'B02001_005E', 'B02001_006E', 'B02001_007E', 'B02001_004E']]\n",
    "census_df = census_df.rename(columns={\n",
    "    'B01003_001E':'Population',\n",
    "    'B01002_001E': 'Median Age',\n",
    "    'B19013_001E': 'Median Household Income',\n",
    "    'B19301_001E': 'Per Capita Income',\n",
    "    'B17001_002E': 'Poverty Count',\n",
    "    'B23025_005E': 'Unemployment Count',\n",
    "    'B02001_001E': 'Race',\n",
    "    'B02001_002E': 'Caucasian/White',\n",
    "    'B02001_003E': 'African American',\n",
    "    'B02001_005E': 'Asian',\n",
    "    'B02001_006E': 'Native Hawaiian and Other Pacific Islander alone',\n",
    "    'B02001_004E': 'American Indian and Alaska Native',\n",
    "    'B02001_007E': 'Some other Race'\n",
    "})\n",
    "\n",
    "# Remove ...County from County in dataframe in each row\n",
    "census_df['County'] = census_df['County'].replace('County', '', regex=True)\n",
    "\n",
    "census_df"
   ]
  },
  {
   "cell_type": "code",
   "execution_count": null,
   "metadata": {},
   "outputs": [],
   "source": [
    "# create data\n",
    "# df = pd.DataFrame({'Column 1':[rounded_Asian_in_hennepin,rounded_Asian_in_anoka,rounded_Asian_in_ramsey],\n",
    "                     \n",
    "#                    'Column 2':[7.15, 4.55, 14.74]})\n",
    "# df"
   ]
  },
  {
   "cell_type": "code",
   "execution_count": null,
   "metadata": {},
   "outputs": [],
   "source": [
    "# total = 0\n",
    " \n",
    "# # creating a list\n",
    " \n",
    "# # Iterate each element in list\n",
    "# # and add them in variable total\n",
    "# for element in range(0, len(mn_pop_list)):\n",
    "#     total = total + mn_pop_list[element]"
   ]
  },
  {
   "cell_type": "code",
   "execution_count": null,
   "metadata": {},
   "outputs": [],
   "source": [
    "df= pd.DataFrame({'number': np.random.randint(1, 100, 10)})\n",
    "df['bins'] = pd.cut(x=df['number'], bins=[1, 20, 40, 60,\n",
    "                                          80, 100])\n",
    "print(df)\n",
    " \n",
    "# We can check the frequency of each bin\n",
    "print(df['bins'].unique())"
   ]
  },
  {
   "cell_type": "code",
   "execution_count": null,
   "metadata": {},
   "outputs": [],
   "source": [
    "import pandas as pd\n",
    "import numpy as np\n",
    " \n",
    "df = pd.DataFrame({'number': np.random.randint(1, 100, 10)})\n",
    "df['bins'] = pd.cut(x=df['number'], bins=[1, 20, 40, 60, 80, 100],\n",
    "                    labels=['1 to 20', '21 to 40', '41 to 60',\n",
    "                            '61 to 80', '81 to 100'])\n",
    " \n",
    "print(df)\n",
    " \n",
    "# We can check the frequency of each bin\n",
    "print(df['bins'].unique())"
   ]
  },
  {
   "cell_type": "markdown",
   "metadata": {},
   "source": [
    "# -------------------------------------**Sung** Work Ends Here-----------------------------------"
   ]
  },
  {
   "cell_type": "code",
   "execution_count": null,
   "metadata": {},
   "outputs": [],
   "source": []
  }
 ],
 "metadata": {
  "kernelspec": {
   "display_name": "Python 3 (ipykernel)",
   "language": "python",
   "name": "python3"
  },
  "language_info": {
   "codemirror_mode": {
    "name": "ipython",
    "version": 3
   },
   "file_extension": ".py",
   "mimetype": "text/x-python",
   "name": "python",
   "nbconvert_exporter": "python",
   "pygments_lexer": "ipython3",
   "version": "3.8.13"
  }
 },
 "nbformat": 4,
 "nbformat_minor": 2
}
