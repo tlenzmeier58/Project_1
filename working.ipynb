{
 "cells": [
  {
   "cell_type": "markdown",
   "metadata": {},
   "source": [
    "### Gather dependencies"
   ]
  },
  {
   "cell_type": "code",
   "execution_count": null,
   "metadata": {},
   "outputs": [],
   "source": [
    "# Dependencies\n",
    "import pandas as pd\n",
    "import numpy as np\n",
    "import json\n",
    "import matplotlib\n",
    "# from sodapy import Socrata\n",
    "from config import census_key\n",
    "import pprint\n",
    "import requests\n",
    "import csv\n",
    "import os"
   ]
  },
  {
   "cell_type": "markdown",
   "metadata": {},
   "source": [
    "### Function for quickly calling a DataFrame"
   ]
  },
  {
   "cell_type": "code",
   "execution_count": null,
   "metadata": {},
   "outputs": [],
   "source": [
    "# Function for quickly assempling a DataFrame\n",
    "def json_to_dataframe(response):\n",
    "    return pd.DataFrame(response.json()[1:], columns=response.json()[0])"
   ]
  },
  {
   "cell_type": "markdown",
   "metadata": {},
   "source": [
    "### Create DataFrame for CDC Data"
   ]
  },
  {
   "cell_type": "code",
   "execution_count": null,
   "metadata": {},
   "outputs": [],
   "source": [
    "cdc_data = pd.read_csv(\"../Project_1/cdc_data.csv\")\n",
    "cdc_data\n",
    "cdc_df = pd.DataFrame(cdc_data)\n",
    "cdc_df\n",
    "\n",
    "# Choose the columns we want and rename anything that isn't clear\n",
    "cdc_df = cdc_df[['case_month', 'res_state', 'res_county', 'age_group', 'sex', 'race', 'ethnicity', 'current_status']]\n",
    "cdc_df = cdc_df.rename(columns={\n",
    "    'res_state': 'State',\n",
    "    'res_county': 'County',\n",
    "    'ethnicity': 'Ethnicity',\n",
    "    'current_status': 'Infection Status',\n",
    "    'race':'Race'\n",
    "})\n",
    "\n",
    "# Drop \"Unkown\" race from dataset\n",
    "cdc_df = cdc_df.loc[cdc_df['Race']!= 'Unknown', :]\n",
    "\n",
    "# Set Infections to 1 and replace the various races with values that are compatible with the census data\n",
    "cdc_df['Infections'] = 1\n",
    "cdc_df['Race'] = cdc_df['Race'].replace('White', 'Caucasian')\n",
    "cdc_df['Race'] = cdc_df['Race'].replace('Black', 'African American')\n",
    "cdc_df['Race'] = cdc_df['Race'].replace('American Indian/Alaska Native', 'Native American')\n",
    "cdc_df['Race'] = cdc_df['Race'].replace('Multiple/Other', 'Other')\n",
    "cdc_df['Race'] = np.where(np.logical_and(cdc_df['Race'] == 'Caucasian', cdc_df['Ethnicity'] == 'Hispanic/Latino'), 'Hispanic', cdc_df['Race'])\n",
    "\n",
    "# NOTE: It's not clear what happens with Hawaiian here. \n",
    "\n",
    "cdc_df.head()"
   ]
  },
  {
   "cell_type": "markdown",
   "metadata": {},
   "source": [
    "### Drop NaN and compile totals by county and race"
   ]
  },
  {
   "cell_type": "code",
   "execution_count": null,
   "metadata": {},
   "outputs": [],
   "source": [
    "# Drop NaNs and then group by County and Race\n",
    "cdc_df = cdc_df.dropna(how='any')\n",
    "cdc_df = cdc_df[['County', 'Race', 'Infections']]\n",
    "cdc_grouped_county = cdc_df.groupby(['County', 'Race'])\n",
    "cdc_df = cdc_grouped_county.count()\n",
    "cdc_df.reset_index(inplace=True)\n",
    "cdc_df\n"
   ]
  },
  {
   "cell_type": "markdown",
   "metadata": {},
   "source": [
    "### Create poverty DataFrame based on US Census"
   ]
  },
  {
   "cell_type": "code",
   "execution_count": null,
   "metadata": {},
   "outputs": [],
   "source": [
    "# Poverty DataFrame By Race - 2020\n",
    "\n",
    "url = \"https://api.census.gov/data/2020/acs/acs5?get=NAME,B17001_002E,B17001A_002E,B17001B_002E,B17001C_002E,B17001D_002E,B17001E_002E,B17001F_002E,B17001G_002E,B17001H_002E,B17001I_002E&for=county:*&in=state:27&key={0}\".format(census_key)\n",
    "response = requests.request(\"GET\", url)\n",
    "response\n",
    "poverty_df = json_to_dataframe(response)\n",
    "\n",
    "# Split NAME into county & state\n",
    "name = poverty_df['NAME'].str.split(\",\", n=1, expand=True)\n",
    "COUNTY = poverty_df['County'] = name[0]\n",
    "STATE = poverty_df['State'] = name[1]\n",
    "poverty_df.drop(columns=[\"NAME\"], inplace=True)\n",
    "poverty_df['Caucasian2'] = poverty_df['B17001A_002E'].astype(int) - poverty_df['B17001I_002E'].astype(int)\n",
    "poverty_df['Other'] = poverty_df['B17001F_002E'].astype(int) + poverty_df['B17001G_002E'].astype(int)\n",
    "\n",
    "# Get the columns we want\n",
    "poverty_df = poverty_df[['County', 'State','B17001_002E','Caucasian2', 'B17001B_002E','B17001C_002E','B17001D_002E','B17001E_002E','Other','B17001I_002E']]\n",
    "\n",
    "# Rename columns to something intelligible\n",
    "poverty_df = poverty_df.rename(columns={\n",
    "    'B17001_002E':'Poverty Total',\n",
    "    'Caucasian2':'Caucasian',\n",
    "    'B17001B_002E':'African American',\n",
    "    'B17001C_002E':'Native American',\n",
    "    'B17001D_002E':'Asian',\n",
    "    'B17001E_002E':'Hawaiian', # I had to change this from Native Hawaiian to Hawaiian for compatibility with the rest - Dom\n",
    "    'B17001I_002E':'Hispanic' \n",
    "    })\n",
    "\n",
    "# # Remove ...County from County in dataframe\n",
    "poverty_df['County'] = poverty_df['County'].replace('County', '', regex=True)\n",
    "# NOTE: The line above accidentally leaves a blank space at the end of these county names! That space caused a merge to fail\n",
    "# on any of these counties because, for example, \"AITKIN \" is not the same as \"AITKIN\". \n",
    "\n",
    "# Remove any blank space that may be present at the begining or end of the county name\n",
    "poverty_df['County'] = poverty_df['County'].str.strip()\n",
    "\n",
    "# And then convert the county name to uppercase\n",
    "poverty_df['County'] = poverty_df['County'].str.upper()\n",
    "\n",
    "poverty_df['Year'] = 2020\n",
    "#poverty_df.to_csv(\"../Project_1/population_in_poverty.csv\")\n",
    "poverty_df\n",
    "\n"
   ]
  },
  {
   "cell_type": "code",
   "execution_count": null,
   "metadata": {},
   "outputs": [],
   "source": [
    "# Choose only the columns we need\n",
    "poverty_df = poverty_df[['County', 'Caucasian', 'African American', 'Native American', 'Asian', 'Hawaiian', 'Other', 'Hispanic']]\n",
    "poverty_df"
   ]
  },
  {
   "cell_type": "code",
   "execution_count": null,
   "metadata": {},
   "outputs": [],
   "source": [
    "# Use melt to convert this into a format similar to the CDC data\n",
    "poverty_df = poverty_df.melt(id_vars='County', value_vars=['Caucasian', 'African American', 'Native American', 'Asian', \\\n",
    "                                                    'Hawaiian', 'Other', 'Hispanic'], \\\n",
    "                                                     var_name='Race', value_name='Poverty')\n",
    "poverty_gb = poverty_df.groupby(['County', 'Race'])\n",
    "poverty_df = poverty_gb.sum()\n",
    "poverty_df.reset_index(inplace=True)\n",
    "poverty_df"
   ]
  },
  {
   "cell_type": "markdown",
   "metadata": {},
   "source": [
    "### Create population DataFrame by county and race"
   ]
  },
  {
   "cell_type": "code",
   "execution_count": null,
   "metadata": {},
   "outputs": [],
   "source": [
    "# Population by county, by race\n",
    "url = \"https://api.census.gov/data/2020/acs/acs5?get=NAME,B03002_001E,B03002_003E,B03002_004E,B03002_005E,B03002_006E,B03002_007E,B03002_008E,B03002_009E,B03002_012E&for=county:*&in=state:27&key={0}\".format(census_key)\n",
    "\n",
    "\n",
    "response = requests.request(\"GET\", url)\n",
    "response\n",
    "response_df = json_to_dataframe(response)\n",
    "response_df = response_df.rename(columns={\n",
    "    'B03002_001E': 'Population Total',\n",
    "    'B03002_003E': 'Caucasian',\n",
    "    'B03002_004E': 'African American',\n",
    "    'B03002_005E': 'Native American',\n",
    "    'B03002_006E': 'Asian',\n",
    "    'B03002_007E': 'Hawaiian',\n",
    "    'B03002_012E': 'Hispanic'\n",
    "})\n",
    "response_df['Other'] = response_df['B03002_008E'].astype(int) + response_df['B03002_009E'].astype(int)\n",
    "mn_pop_df = response_df\n",
    "\n",
    "# Split NAME into county & state\n",
    "name = mn_pop_df['NAME'].str.split(\",\", n=1, expand=True)\n",
    "COUNTY = mn_pop_df['County']=name[0]\n",
    "STATE = mn_pop_df['State']=name[1]\n",
    "mn_pop_df.drop(columns=[\"NAME\"], inplace=True)\n",
    "\n",
    "# # Remove ...County from County in dataframe\n",
    "mn_pop_df['County'] = mn_pop_df['County'].replace('County', '', regex=True)\n",
    "# NOTE: The line above accidentally leaves a blank space at the end of these county names! That space caused a merge to fail\n",
    "# on any of these counties because, for example, \"AITKIN \" is not the same as \"AITKIN\". \n",
    "\n",
    "# Remove any blank space that may be present at the begining or end of the county name\n",
    "mn_pop_df['County'] = mn_pop_df['County'].str.strip()\n",
    "\n",
    "# # Upper case for County\n",
    "mn_pop_df['County'] = mn_pop_df['County'].str.upper()\n",
    "mn_pop_df = mn_pop_df[['County', 'Population Total', 'Caucasian', 'African American', 'Native American', 'Asian', 'Hawaiian', 'Hispanic', 'Other']]\n",
    "mn_pop_df.to_csv(\"../Project_1/mn_population by race.csv\")\n",
    "mn_pop_df\n"
   ]
  },
  {
   "cell_type": "markdown",
   "metadata": {},
   "source": [
    "### Coordinates for heat map -- if time permits"
   ]
  },
  {
   "cell_type": "code",
   "execution_count": null,
   "metadata": {},
   "outputs": [],
   "source": [
    "# Get the coordinates of counties in MN\n",
    "url = \"https://en.wikipedia.org/wiki/User:Michael_J/County_table\"\n",
    "\n",
    "table = pd.read_html(url)\n",
    "df = table[0]\n",
    "Counties = df.loc[df['State'] == \"MN\", : ]\n",
    "counties_df = Counties[['County [2]', 'Latitude', 'Longitude']]\n",
    "counties_df#.to_csv(\"../Project_1/county_geo.csv\")  "
   ]
  },
  {
   "cell_type": "code",
   "execution_count": null,
   "metadata": {},
   "outputs": [],
   "source": [
    "# Choose only the columns we need\n",
    "mn_pop_df = mn_pop_df[['County', 'Caucasian', 'African American', 'Native American', 'Asian', 'Hawaiian', 'Other', 'Hispanic']]\n",
    "mn_pop_df\n"
   ]
  },
  {
   "cell_type": "code",
   "execution_count": null,
   "metadata": {},
   "outputs": [],
   "source": [
    "# Use melt to convert this into a format similar to the CDC data\n",
    "pop_df = mn_pop_df.melt(id_vars='County', value_vars=['Caucasian', 'African American', 'Native American', 'Asian', \\\n",
    "                                                      'Hawaiian', 'Other', 'Hispanic'], \\\n",
    "                                                      var_name='Race', value_name='Population')\n",
    "pop_gb = pop_df.groupby(['County', 'Race'])\n",
    "pop_df = pop_gb.sum()\n",
    "pop_df.reset_index(inplace=True)\n",
    "pop_df"
   ]
  },
  {
   "cell_type": "markdown",
   "metadata": {},
   "source": [
    "### Merge the datasets"
   ]
  },
  {
   "cell_type": "code",
   "execution_count": null,
   "metadata": {},
   "outputs": [],
   "source": [
    "merged_df = pd.merge(pop_df, poverty_df, on=['County', 'Race'])\n",
    "merged_df = pd.merge(merged_df, cdc_df, on=['County', 'Race'])\n",
    "merged_df"
   ]
  }
 ],
 "metadata": {
  "kernelspec": {
   "display_name": "Python 3 (ipykernel)",
   "language": "python",
   "name": "python3"
  },
  "language_info": {
   "codemirror_mode": {
    "name": "ipython",
    "version": 3
   },
   "file_extension": ".py",
   "mimetype": "text/x-python",
   "name": "python",
   "nbconvert_exporter": "python",
   "pygments_lexer": "ipython3",
   "version": "3.8.13"
  }
 },
 "nbformat": 4,
 "nbformat_minor": 2
}
