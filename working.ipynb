{
 "cells": [
  {
   "cell_type": "markdown",
   "metadata": {},
   "source": [
    "## Tom's work starts here . . ."
   ]
  },
  {
   "cell_type": "markdown",
   "metadata": {},
   "source": [
    "### Gather dependencies"
   ]
  },
  {
   "cell_type": "code",
   "execution_count": null,
   "metadata": {},
   "outputs": [],
   "source": [
    "# Dependencies\n",
    "import pandas as pd\n",
    "import numpy as np\n",
    "import json\n",
    "import matplotlib.pyplot as plt\n",
    "# from sodapy import Socrata\n",
    "from config import census_key\n",
    "import pprint\n",
    "import requests\n",
    "import csv\n",
    "import os\n",
    "import scipy.stats as st"
   ]
  },
  {
   "cell_type": "markdown",
   "metadata": {},
   "source": [
    "### Function for quickly calling a DataFrame"
   ]
  },
  {
   "cell_type": "code",
   "execution_count": null,
   "metadata": {},
   "outputs": [],
   "source": [
    "# Function for quickly assempling a DataFrame\n",
    "def json_to_dataframe(response):\n",
    "    return pd.DataFrame(response.json()[1:], columns=response.json()[0])"
   ]
  },
  {
   "cell_type": "markdown",
   "metadata": {},
   "source": [
    "## Tom's work starts here"
   ]
  },
  {
   "cell_type": "markdown",
   "metadata": {},
   "source": [
    "### Create DataFrame for CDC Data"
   ]
  },
  {
   "cell_type": "code",
   "execution_count": null,
   "metadata": {},
   "outputs": [],
   "source": [
    "cdc_data = pd.read_csv(\"../Project_1/cdc_data.csv\")\n",
    "cdc_data\n",
    "cdc_df = pd.DataFrame(cdc_data)\n",
    "cdc_df\n",
    "\n",
    "# Choose the columns we want and rename anything that isn't clear\n",
    "cdc_df = cdc_df[['case_month', 'res_state', 'res_county', 'age_group', 'sex', 'race', 'ethnicity', 'current_status']]\n",
    "cdc_df = cdc_df.rename(columns={\n",
    "    'res_state': 'State',\n",
    "    'res_county': 'County',\n",
    "    'ethnicity': 'Ethnicity',\n",
    "    'current_status': 'Infection Status',\n",
    "    'race':'Race'\n",
    "})\n",
    "\n",
    "# Drop \"Unkown\" race from dataset\n",
    "cdc_df = cdc_df.loc[cdc_df['Race']!= 'Unknown', :]\n",
    "\n",
    "# Set Infections to 1 and replace the various races with values that are compatible with the census data\n",
    "cdc_df['Infections'] = 1\n",
    "cdc_df['Race'] = cdc_df['Race'].replace('White', 'Caucasian')\n",
    "cdc_df['Race'] = cdc_df['Race'].replace('Black', 'African American')\n",
    "cdc_df['Race'] = cdc_df['Race'].replace('American Indian/Alaska Native', 'Native American')\n",
    "cdc_df['Race'] = cdc_df['Race'].replace('Multiple/Other', 'Other')\n",
    "cdc_df['Race'] = np.where(np.logical_and(cdc_df['Race'] == 'Caucasian', cdc_df['Ethnicity'] == 'Hispanic/Latino'), 'Hispanic', cdc_df['Race'])\n",
    "\n",
    "# NOTE: It's not clear what happens with Hawaiian here. \n",
    "\n",
    "cdc_df.head()"
   ]
  },
  {
   "cell_type": "markdown",
   "metadata": {},
   "source": [
    "### Drop NaN and compile totals by county and race"
   ]
  },
  {
   "cell_type": "code",
   "execution_count": null,
   "metadata": {},
   "outputs": [],
   "source": [
    "# Drop NaNs and then group by County and Race\n",
    "cdc_df = cdc_df.dropna(how='any')\n",
    "cdc_df = cdc_df[['County', 'Race', 'Infections']]\n",
    "cdc_grouped_county = cdc_df.groupby(['County', 'Race'])\n",
    "cdc_df = cdc_grouped_county.count()\n",
    "cdc_df.reset_index(inplace=True)\n",
    "cdc_df.head()\n"
   ]
  },
  {
   "cell_type": "markdown",
   "metadata": {},
   "source": [
    "### Create poverty DataFrame based on US Census"
   ]
  },
  {
   "cell_type": "code",
   "execution_count": null,
   "metadata": {},
   "outputs": [],
   "source": [
    "# Poverty DataFrame By Race - 2020\n",
    "\n",
    "url = \"https://api.census.gov/data/2020/acs/acs5?get=NAME,B17001_002E,B17001A_002E,B17001B_002E,B17001C_002E,B17001D_002E,B17001E_002E,B17001F_002E,B17001G_002E,B17001H_002E,B17001I_002E&for=county:*&in=state:27&key={0}\".format(census_key)\n",
    "response = requests.request(\"GET\", url)\n",
    "response\n",
    "poverty_df = json_to_dataframe(response)\n",
    "\n",
    "# Split NAME into county & state\n",
    "name = poverty_df['NAME'].str.split(\",\", n=1, expand=True)\n",
    "COUNTY = poverty_df['County'] = name[0]\n",
    "STATE = poverty_df['State'] = name[1]\n",
    "poverty_df.drop(columns=[\"NAME\"], inplace=True)\n",
    "poverty_df['Caucasian2'] = poverty_df['B17001A_002E'].astype(int) - poverty_df['B17001I_002E'].astype(int)\n",
    "poverty_df['Other'] = poverty_df['B17001F_002E'].astype(int) + poverty_df['B17001G_002E'].astype(int)\n",
    "\n",
    "# Get the columns we want\n",
    "poverty_df = poverty_df[['County', 'State','B17001_002E','Caucasian2', 'B17001B_002E','B17001C_002E','B17001D_002E','B17001E_002E','Other','B17001I_002E']]\n",
    "\n",
    "# Rename columns to something intelligible\n",
    "poverty_df = poverty_df.rename(columns={\n",
    "    'B17001_002E':'Poverty Total',\n",
    "    'Caucasian2':'Caucasian',\n",
    "    'B17001B_002E':'African American',\n",
    "    'B17001C_002E':'Native American',\n",
    "    'B17001D_002E':'Asian',\n",
    "    'B17001E_002E':'Hawaiian', # I had to change this from Native Hawaiian to Hawaiian for compatibility with the rest - Dom\n",
    "    'B17001I_002E':'Hispanic' \n",
    "    })\n",
    "\n",
    "# # Remove ...County from County in dataframe\n",
    "poverty_df['County'] = poverty_df['County'].replace('County', '', regex=True)\n",
    "# NOTE: The line above accidentally leaves a blank space at the end of these county names! That space caused a merge to fail\n",
    "# on any of these counties because, for example, \"AITKIN \" is not the same as \"AITKIN\". \n",
    "\n",
    "# Remove any blank space that may be present at the begining or end of the county name\n",
    "poverty_df['County'] = poverty_df['County'].str.strip()\n",
    "\n",
    "# And then convert the county name to uppercase\n",
    "poverty_df['County'] = poverty_df['County'].str.upper()\n",
    "\n",
    "poverty_df['Year'] = 2020\n",
    "#poverty_df.to_csv(\"../Project_1/population_in_poverty.csv\")\n",
    "poverty_df.head()\n",
    "\n"
   ]
  },
  {
   "cell_type": "code",
   "execution_count": null,
   "metadata": {},
   "outputs": [],
   "source": [
    "# Choose only the columns we need\n",
    "poverty_df = poverty_df[['County', 'Caucasian', 'African American', 'Native American', 'Asian', 'Hawaiian', 'Other', 'Hispanic']]\n",
    "poverty_df.head()"
   ]
  },
  {
   "cell_type": "code",
   "execution_count": null,
   "metadata": {},
   "outputs": [],
   "source": [
    "# Use melt to convert this into a format similar to the CDC data\n",
    "poverty_df = poverty_df.melt(id_vars='County', value_vars=['Caucasian', 'African American', 'Native American', 'Asian', \\\n",
    "                                                    'Hawaiian', 'Other', 'Hispanic'], \\\n",
    "                                                     var_name='Race', value_name='Poverty')\n",
    "poverty_gb = poverty_df.groupby(['County', 'Race'])\n",
    "poverty_df = poverty_gb.sum()\n",
    "poverty_df.reset_index(inplace=True)\n",
    "poverty_df.head()"
   ]
  },
  {
   "cell_type": "markdown",
   "metadata": {},
   "source": [
    "### Create population DataFrame by county and race"
   ]
  },
  {
   "cell_type": "code",
   "execution_count": null,
   "metadata": {},
   "outputs": [],
   "source": [
    "# Population by county, by race\n",
    "url = \"https://api.census.gov/data/2020/acs/acs5?get=NAME,B03002_001E,B03002_003E,B03002_004E,B03002_005E,B03002_006E,B03002_007E,B03002_008E,B03002_009E,B03002_012E&for=county:*&in=state:27&key={0}\".format(census_key)\n",
    "\n",
    "\n",
    "response = requests.request(\"GET\", url)\n",
    "response\n",
    "response_df = json_to_dataframe(response)\n",
    "response_df = response_df.rename(columns={\n",
    "    'B03002_001E': 'Population Total',\n",
    "    'B03002_003E': 'Caucasian',\n",
    "    'B03002_004E': 'African American',\n",
    "    'B03002_005E': 'Native American',\n",
    "    'B03002_006E': 'Asian',\n",
    "    'B03002_007E': 'Hawaiian',\n",
    "    'B03002_012E': 'Hispanic'\n",
    "})\n",
    "response_df['Other'] = response_df['B03002_008E'].astype(int) + response_df['B03002_009E'].astype(int)\n",
    "mn_pop_df = response_df\n",
    "\n",
    "# Split NAME into county & state\n",
    "name = mn_pop_df['NAME'].str.split(\",\", n=1, expand=True)\n",
    "COUNTY = mn_pop_df['County']=name[0]\n",
    "STATE = mn_pop_df['State']=name[1]\n",
    "mn_pop_df.drop(columns=[\"NAME\"], inplace=True)\n",
    "\n",
    "# # Remove ...County from County in dataframe\n",
    "mn_pop_df['County'] = mn_pop_df['County'].replace('County', '', regex=True)\n",
    "# NOTE: The line above accidentally leaves a blank space at the end of these county names! That space caused a merge to fail\n",
    "# on any of these counties because, for example, \"AITKIN \" is not the same as \"AITKIN\". \n",
    "\n",
    "# Remove any blank space that may be present at the begining or end of the county name\n",
    "mn_pop_df['County'] = mn_pop_df['County'].str.strip()\n",
    "\n",
    "# # Upper case for County\n",
    "mn_pop_df['County'] = mn_pop_df['County'].str.upper()\n",
    "mn_pop_df = mn_pop_df[['County', 'Population Total', 'Caucasian', 'African American', 'Native American', 'Asian', 'Hawaiian', 'Hispanic', 'Other']]\n",
    "mn_pop_df.to_csv(\"../Project_1/mn_population by race.csv\")\n",
    "mn_pop_df.head()\n"
   ]
  },
  {
   "cell_type": "markdown",
   "metadata": {},
   "source": [
    "### Coordinates for heat map -- if time permits"
   ]
  },
  {
   "cell_type": "code",
   "execution_count": null,
   "metadata": {},
   "outputs": [],
   "source": [
    "# Get the coordinates of counties in MN\n",
    "url = \"https://en.wikipedia.org/wiki/User:Michael_J/County_table\"\n",
    "\n",
    "table = pd.read_html(url)\n",
    "df = table[0]\n",
    "Counties = df.loc[df['State'] == \"MN\", : ]\n",
    "counties_df = Counties[['County [2]', 'Latitude', 'Longitude']]\n",
    "counties_df.head()"
   ]
  },
  {
   "cell_type": "code",
   "execution_count": null,
   "metadata": {},
   "outputs": [],
   "source": [
    "# Choose only the columns we need\n",
    "mn_pop_df = mn_pop_df[['County', 'Caucasian', 'African American', 'Native American', 'Asian', 'Hawaiian', 'Other', 'Hispanic']]\n",
    "mn_pop_df.head()\n"
   ]
  },
  {
   "cell_type": "code",
   "execution_count": null,
   "metadata": {},
   "outputs": [],
   "source": [
    "# Use melt to convert this into a format similar to the CDC data\n",
    "pop_df = mn_pop_df.melt(id_vars='County', value_vars=['Caucasian', 'African American', 'Native American', 'Asian', \\\n",
    "                                                      'Hawaiian', 'Other', 'Hispanic'], \\\n",
    "                                                      var_name='Race', value_name='Population')\n",
    "pop_gb = pop_df.groupby(['County', 'Race'])\n",
    "pop_df = pop_gb.sum()\n",
    "pop_df.reset_index(inplace=True)\n",
    "pop_df.head()"
   ]
  },
  {
   "cell_type": "markdown",
   "metadata": {},
   "source": [
    "### Merge the datasets"
   ]
  },
  {
   "cell_type": "code",
   "execution_count": null,
   "metadata": {},
   "outputs": [],
   "source": [
    "merged_df = pd.merge(pop_df, poverty_df, on=['County', 'Race'])\n",
    "merged_df = pd.merge(merged_df, cdc_df, on=['County', 'Race'])\n",
    "merged_df.head()"
   ]
  },
  {
   "cell_type": "code",
   "execution_count": null,
   "metadata": {},
   "outputs": [],
   "source": [
    "# Edited merge_df for nan infections to be 0\n",
    "merged_df = pd.merge(pop_df, poverty_df, on=['County', 'Race'])\n",
    "merged_df = pd.merge(merged_df, cdc_df, on=['County', 'Race'], how = \"left\")\n",
    "merged_df[\"Infections\"] = merged_df[\"Infections\"].fillna(0)\n",
    "\n",
    "# Convert all numerical values in merged_df from strings to int\n",
    "merged_df[\"Population\"] = merged_df[\"Population\"].astype(int)\n",
    "merged_df[\"Poverty\"] = merged_df[\"Poverty\"].astype(int)\n",
    "merged_df[\"Infections\"] = merged_df[\"Infections\"].astype(int)\n",
    "\n",
    "merged_df.head()"
   ]
  },
  {
   "cell_type": "code",
   "execution_count": null,
   "metadata": {},
   "outputs": [],
   "source": [
    "# Convert all non-caucasian races to \"non-caucasian\"\n",
    "#non_caucasian = ['African American', 'Hispanic', 'Asian', 'Native American', 'Hawaiian', 'Other']\n",
    "merged_df['Two-Races']=[\"Non-Caucasian\" if (x==\"African American\" or x==\"Asian\" or x==\"Hispanic\" or x==\"Native American\"\\\n",
    "    or x==\"Hawaiian\" or x==\"Other\") else \"Caucasian\" for x in merged_df['Race']]\n",
    "merged_df"
   ]
  },
  {
   "cell_type": "code",
   "execution_count": null,
   "metadata": {},
   "outputs": [],
   "source": [
    "two_races_df = merged_df[['County', 'Two-Races', 'Population', 'Poverty', 'Infections']]\n",
    "two_races_df.head()"
   ]
  },
  {
   "cell_type": "markdown",
   "metadata": {},
   "source": [
    "### Poverty Rates"
   ]
  },
  {
   "cell_type": "code",
   "execution_count": null,
   "metadata": {},
   "outputs": [],
   "source": [
    "pd.set_option('mode.chained_assignment', None)\n",
    "poverty_rate = []\n",
    "infection_rate = []\n",
    "\n",
    "i = 0\n",
    "while i < len(two_races_df):\n",
    "    if merged_df[\"Population\"][i] == 0:\n",
    "        poverty_rate.append(0)\n",
    "        infection_rate.append(0)\n",
    "    else: \n",
    "        poverty_rate.append(two_races_df[\"Poverty\"][i] / two_races_df[\"Population\"][i])\n",
    "        infection_rate.append(two_races_df[\"Infections\"][i] / two_races_df[\"Population\"][i])\n",
    "    i += 1\n",
    "    \n",
    "two_races_df[\"Poverty Rate\"] = poverty_rate\n",
    "two_races_df[\"Infection Rate\"] = infection_rate\n"
   ]
  },
  {
   "cell_type": "code",
   "execution_count": null,
   "metadata": {},
   "outputs": [],
   "source": [
    "# Population, poverty, and infection totals\n",
    "row_sum = two_races_df.iloc[:,2:5].sum()\n",
    "\n",
    "two_races_df.loc['Total'] = row_sum\n",
    "two_races_df.fillna('')\n",
    "two_races_df.loc['Total', 'County']=''\n",
    "two_races_df.loc['Total', 'Two-Races'] = ''\n",
    "two_races_df.loc['Total', 'Poverty Rate'] = ''\n",
    "two_races_df.loc['Total', 'Infection Rate'] = ''\n",
    "two_races_df\n"
   ]
  },
  {
   "cell_type": "code",
   "execution_count": null,
   "metadata": {},
   "outputs": [],
   "source": [
    "# Caucasian statistical summary\n",
    "\n",
    "caucasian = two_races_df.loc[two_races_df['Two-Races'] == 'Caucasian']\n",
    "caucasian_pop = caucasian.groupby(['Two-Races'])['Population'].agg(['mean', 'median', 'var', 'std', 'sem']).astype(float).round(2)\n",
    "caucasian_inf = caucasian.groupby(['Two-Races'])['Infections'].agg(['mean', 'median', 'var', 'std', 'sem']).astype(float).round(2)\n",
    "caucasian_pov = caucasian.groupby(['Two-Races'])['Poverty'].agg(['mean', 'median', 'var', 'std', 'sem']).astype(float).round(2)\n",
    "\n"
   ]
  },
  {
   "cell_type": "code",
   "execution_count": null,
   "metadata": {},
   "outputs": [],
   "source": [
    "# Non-Caucasian statistical summary\n",
    "\n",
    "non_caucasian = two_races_df.loc[two_races_df['Two-Races'] == 'Non-Caucasian']\n",
    "non_caucasian_pop = non_caucasian.groupby(['Two-Races'])['Population'].agg(['mean', 'median', 'var', 'std', 'sem']).astype(float).round(2)\n",
    "non_caucasian_pov = non_caucasian.groupby(['Two-Races'])['Poverty'].agg(['mean', 'median', 'var', 'std', 'sem']).astype(float).round(2)\n",
    "non_caucasian_inf = non_caucasian.groupby(['Two-Races'])['Infections'].agg(['mean', 'median', 'var', 'std', 'sem']).astype(float).round(2)\n",
    "\n",
    "print(non_caucasian_pop)\n",
    "print(non_caucasian_pov)\n",
    "print(non_caucasian_inf)\n",
    "\n"
   ]
  },
  {
   "cell_type": "code",
   "execution_count": null,
   "metadata": {},
   "outputs": [],
   "source": [
    "# Metro area counties\n",
    "merged_df['Metro-Non']=[\"Metro\" if (x==\"RAMSEY\" or x==\"DAKOTA\" or x==\"HENNEPIN\" or x==\"ANOKA\"\\\n",
    "    or x==\"SCOTT\" or x==\"WASHINGTON\" or x==\"CARVER\") else \"Non_Metro\" for x in merged_df['County']]\n",
    "merged_df_metro = merged_df[['Metro-Non', 'County', 'Two-Races', 'Population', 'Poverty', 'Infections']]\n",
    "merged_df_metro\n",
    "\n"
   ]
  },
  {
   "cell_type": "code",
   "execution_count": null,
   "metadata": {},
   "outputs": [],
   "source": [
    "pd.set_option('mode.chained_assignment', None)\n",
    "poverty_rate = []\n",
    "infection_rate = []\n",
    "\n",
    "i = 0\n",
    "while i < len(merged_df_metro):\n",
    "    if merged_df_metro[\"Population\"][i] == 0:\n",
    "        poverty_rate.append(0)\n",
    "        infection_rate.append(0)\n",
    "    else: \n",
    "        poverty_rate.append(merged_df_metro[\"Poverty\"][i] / merged_df_metro[\"Population\"][i])\n",
    "        infection_rate.append(merged_df_metro[\"Infections\"][i] / merged_df_metro[\"Population\"][i])\n",
    "    i += 1\n",
    "    \n",
    "merged_df_metro[\"Poverty Rate\"] = poverty_rate\n",
    "merged_df_metro[\"Infection Rate\"] = infection_rate\n",
    "\n",
    "merged_df_metro.head()"
   ]
  },
  {
   "cell_type": "code",
   "execution_count": null,
   "metadata": {},
   "outputs": [],
   "source": [
    "merged_df_metro_meta = merged_df_metro[['Metro-Non', 'Population']].groupby('Metro-Non')\n",
    "metro_df = merged_df_metro_meta.sum().reset_index()\n",
    "metro_df\n",
    "\n",
    "by_metro = metro_df['Population'].value_counts()\n",
    "labels = metro_df['Metro-Non']\n",
    "colors = ['green', 'blue']\n",
    "explode=(0.105, 0)\n",
    "\n",
    "by_metro.plot(\n",
    "    kind=\"pie\",\n",
    "    figsize=(5,5),\n",
    "    colors=colors,\n",
    "    autopct='%1.2f%%',\n",
    "    explode=explode,\n",
    "    startangle=145,\n",
    "    shadow=True,\n",
    "    textprops={'color':'white', 'weight':'bold'}\n",
    ")\n",
    "plt.title(\"Metro, non-metro population\")\n",
    "plt.legend(labels, loc=4)\n"
   ]
  },
  {
   "cell_type": "code",
   "execution_count": null,
   "metadata": {},
   "outputs": [],
   "source": [
    "merged_df_race = merged_df[['Two-Races', 'Population']].groupby('Two-Races')\n",
    "merged_df_race.sum().reset_index()\n",
    "\n",
    "# by_race = merged_df_race['Population'].value_counts()\n",
    "# labels=['Two-Races']\n",
    "# colors = ['green', 'blue']\n",
    "# explode=(0.105, 0)\n",
    "\n",
    "# by_race.plot(\n",
    "#     kind=\"pie\",\n",
    "#     figsize=(5,5),\n",
    "#     colors=colors,\n",
    "#     autopct='%1.2f%%',\n",
    "#     explode=explode,\n",
    "#     startangle=145,\n",
    "#     textprops={'color':'white', 'weight':'bold'}\n",
    "# )\n",
    "# plt.title('Caucasian/Non-Caucasian Population')\n",
    "# plt.legend(labels, loc=4)"
   ]
  },
  {
   "cell_type": "code",
   "execution_count": null,
   "metadata": {},
   "outputs": [],
   "source": []
  }
 ],
 "metadata": {
  "kernelspec": {
   "display_name": "PythonData38",
   "language": "python",
   "name": "pythondata38"
  },
  "language_info": {
   "codemirror_mode": {
    "name": "ipython",
    "version": 3
   },
   "file_extension": ".py",
   "mimetype": "text/x-python",
   "name": "python",
   "nbconvert_exporter": "python",
   "pygments_lexer": "ipython3",
   "version": "3.9.7"
  }
 },
 "nbformat": 4,
 "nbformat_minor": 2
}
