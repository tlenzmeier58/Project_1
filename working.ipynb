{
 "cells": [
  {
   "cell_type": "markdown",
   "metadata": {},
   "source": [
    "## Tom's work starts here."
   ]
  },
  {
   "cell_type": "markdown",
   "metadata": {},
   "source": [
    "### Gather dependencies"
   ]
  },
  {
   "cell_type": "code",
   "execution_count": null,
   "metadata": {},
   "outputs": [],
   "source": [
    "# Dependencies\n",
    "import pandas as pd\n",
    "import numpy as np\n",
    "import json\n",
    "import matplotlib.pyplot as plt\n",
    "# from sodapy import Socrata\n",
    "from config import census_key\n",
    "import pprint\n",
    "import requests\n",
    "import csv\n",
    "import os\n",
    "import scipy.stats as st\n",
    "from scipy.stats import linregress"
   ]
  },
  {
   "cell_type": "markdown",
   "metadata": {},
   "source": [
    "### Function for quickly calling a DataFrame"
   ]
  },
  {
   "cell_type": "code",
   "execution_count": null,
   "metadata": {},
   "outputs": [],
   "source": [
    "# Function for quickly assempling a DataFrame\n",
    "def json_to_dataframe(response):\n",
    "    return pd.DataFrame(response.json()[1:], columns=response.json()[0])"
   ]
  },
  {
   "cell_type": "markdown",
   "metadata": {},
   "source": [
    "### Create DataFrame for CDC Data"
   ]
  },
  {
   "cell_type": "code",
   "execution_count": null,
   "metadata": {},
   "outputs": [],
   "source": [
    "cdc_data = pd.read_csv(\"../Project_1/cdc_data.csv\")\n",
    "cdc_data\n",
    "cdc_df = pd.DataFrame(cdc_data)\n",
    "cdc_df\n",
    "\n",
    "# Choose the columns we want and rename anything that isn't clear\n",
    "cdc_df = cdc_df[['case_month', 'res_state', 'res_county', 'age_group', 'sex', 'race', 'ethnicity', 'current_status']]\n",
    "cdc_df = cdc_df.rename(columns={\n",
    "    'res_state': 'State',\n",
    "    'res_county': 'County',\n",
    "    'ethnicity': 'Ethnicity',\n",
    "    'current_status': 'Infection Status',\n",
    "    'race':'Race'\n",
    "})\n",
    "\n",
    "# Drop \"Unkown\" race from dataset\n",
    "cdc_df = cdc_df.loc[cdc_df['Race']!= 'Unknown', :]\n",
    "\n",
    "# Set Infections to 1 and replace the various races with values that are compatible with the census data\n",
    "cdc_df['Infections'] = 1\n",
    "cdc_df['Race'] = cdc_df['Race'].replace('White', 'Caucasian')\n",
    "cdc_df['Race'] = cdc_df['Race'].replace('Black', 'African American')\n",
    "cdc_df['Race'] = cdc_df['Race'].replace('American Indian/Alaska Native', 'Native American')\n",
    "cdc_df['Race'] = cdc_df['Race'].replace('Multiple/Other', 'Other')\n",
    "cdc_df['Race'] = np.where(np.logical_and(cdc_df['Race'] == 'Caucasian', cdc_df['Ethnicity'] == 'Hispanic/Latino'), 'Hispanic', cdc_df['Race'])\n",
    "\n",
    "# NOTE: It's not clear what happens with Hawaiian here. \n",
    "\n",
    "cdc_df.head()"
   ]
  },
  {
   "cell_type": "markdown",
   "metadata": {},
   "source": [
    "### Drop NaN and compile totals by county and race"
   ]
  },
  {
   "cell_type": "code",
   "execution_count": null,
   "metadata": {},
   "outputs": [],
   "source": [
    "# Drop NaNs and then group by County and Race\n",
    "cdc_df = cdc_df.dropna(how='any')\n",
    "cdc_df = cdc_df[['County', 'Race', 'Infections']]\n",
    "cdc_grouped_county = cdc_df.groupby(['County', 'Race'])\n",
    "cdc_df = cdc_grouped_county.count()\n",
    "cdc_df.reset_index(inplace=True)\n",
    "cdc_df.head()"
   ]
  },
  {
   "cell_type": "markdown",
   "metadata": {},
   "source": [
    "### Create poverty DataFrame based on US Census"
   ]
  },
  {
   "cell_type": "code",
   "execution_count": null,
   "metadata": {},
   "outputs": [],
   "source": [
    "# Poverty DataFrame By Race - 2020\n",
    "\n",
    "url = \"https://api.census.gov/data/2020/acs/acs5?get=NAME,B17001_002E,B17001A_002E,B17001B_002E,B17001C_002E,B17001D_002E,B17001E_002E,B17001F_002E,B17001G_002E,B17001H_002E,B17001I_002E&for=county:*&in=state:27&key={0}\".format(census_key)\n",
    "response = requests.request(\"GET\", url)\n",
    "response\n",
    "poverty_df = json_to_dataframe(response)\n",
    "\n",
    "# Split NAME into county & state\n",
    "name = poverty_df['NAME'].str.split(\",\", n=1, expand=True)\n",
    "COUNTY = poverty_df['County'] = name[0]\n",
    "STATE = poverty_df['State'] = name[1]\n",
    "poverty_df.drop(columns=[\"NAME\"], inplace=True)\n",
    "poverty_df['Caucasian2'] = poverty_df['B17001A_002E'].astype(int) - poverty_df['B17001I_002E'].astype(int)\n",
    "poverty_df['Other'] = poverty_df['B17001F_002E'].astype(int) + poverty_df['B17001G_002E'].astype(int)\n",
    "\n",
    "# Get the columns we want\n",
    "poverty_df = poverty_df[['County', 'State','B17001_002E','Caucasian2', 'B17001B_002E','B17001C_002E','B17001D_002E','B17001E_002E','Other','B17001I_002E']]\n",
    "\n",
    "# Rename columns to something intelligible\n",
    "poverty_df = poverty_df.rename(columns={\n",
    "    'B17001_002E':'Poverty Total',\n",
    "    'Caucasian2':'Caucasian',\n",
    "    'B17001B_002E':'African American',\n",
    "    'B17001C_002E':'Native American',\n",
    "    'B17001D_002E':'Asian',\n",
    "    'B17001E_002E':'Hawaiian', # I had to change this from Native Hawaiian to Hawaiian for compatibility with the rest - Dom\n",
    "    'B17001I_002E':'Hispanic' \n",
    "    })\n",
    "\n",
    "# # Remove ...County from County in dataframe\n",
    "poverty_df['County'] = poverty_df['County'].replace('County', '', regex=True)\n",
    "# NOTE: The line above accidentally leaves a blank space at the end of these county names! That space caused a merge to fail\n",
    "# on any of these counties because, for example, \"AITKIN \" is not the same as \"AITKIN\". \n",
    "\n",
    "# Remove any blank space that may be present at the begining or end of the county name\n",
    "poverty_df['County'] = poverty_df['County'].str.strip()\n",
    "\n",
    "# And then convert the county name to uppercase\n",
    "poverty_df['County'] = poverty_df['County'].str.upper()\n",
    "\n",
    "poverty_df['Year'] = 2020\n",
    "#poverty_df.to_csv(\"../Project_1/population_in_poverty.csv\")\n",
    "poverty_df"
   ]
  },
  {
   "cell_type": "code",
   "execution_count": null,
   "metadata": {},
   "outputs": [],
   "source": [
    "# Choose only the columns we need\n",
    "poverty_df = poverty_df[['County', 'Caucasian', 'African American', 'Native American', 'Asian', 'Hawaiian', 'Other', 'Hispanic']]\n",
    "poverty_df"
   ]
  },
  {
   "cell_type": "code",
   "execution_count": null,
   "metadata": {},
   "outputs": [],
   "source": [
    "# Use melt to convert this into a format similar to the CDC data\n",
    "poverty_df = poverty_df.melt(id_vars='County', value_vars=['Caucasian', 'African American', 'Native American', 'Asian', \\\n",
    "                                                    'Hawaiian', 'Other', 'Hispanic'], \\\n",
    "                                                     var_name='Race', value_name='Poverty')\n",
    "poverty_gb = poverty_df.groupby(['County', 'Race'])\n",
    "poverty_df = poverty_gb.sum()\n",
    "poverty_df.reset_index(inplace=True)\n",
    "poverty_df"
   ]
  },
  {
   "cell_type": "markdown",
   "metadata": {},
   "source": [
    "### Create population DataFrame by county and race"
   ]
  },
  {
   "cell_type": "code",
   "execution_count": null,
   "metadata": {},
   "outputs": [],
   "source": [
    "# Population by county, by race\n",
    "url = \"https://api.census.gov/data/2020/acs/acs5?get=NAME,B03002_001E,B03002_003E,B03002_004E,B03002_005E,B03002_006E,B03002_007E,B03002_008E,B03002_009E,B03002_012E&for=county:*&in=state:27&key={0}\".format(census_key)\n",
    "\n",
    "\n",
    "response = requests.request(\"GET\", url)\n",
    "response\n",
    "response_df = json_to_dataframe(response)\n",
    "response_df = response_df.rename(columns={\n",
    "    'B03002_001E': 'Population Total',\n",
    "    'B03002_003E': 'Caucasian',\n",
    "    'B03002_004E': 'African American',\n",
    "    'B03002_005E': 'Native American',\n",
    "    'B03002_006E': 'Asian',\n",
    "    'B03002_007E': 'Hawaiian',\n",
    "    'B03002_012E': 'Hispanic'\n",
    "})\n",
    "response_df['Other'] = response_df['B03002_008E'].astype(int) + response_df['B03002_009E'].astype(int)\n",
    "mn_pop_df = response_df\n",
    "\n",
    "# Split NAME into county & state\n",
    "name = mn_pop_df['NAME'].str.split(\",\", n=1, expand=True)\n",
    "COUNTY = mn_pop_df['County']=name[0]\n",
    "STATE = mn_pop_df['State']=name[1]\n",
    "mn_pop_df.drop(columns=[\"NAME\"], inplace=True)\n",
    "\n",
    "# # Remove ...County from County in dataframe\n",
    "mn_pop_df['County'] = mn_pop_df['County'].replace('County', '', regex=True)\n",
    "# NOTE: The line above accidentally leaves a blank space at the end of these county names! That space caused a merge to fail\n",
    "# on any of these counties because, for example, \"AITKIN \" is not the same as \"AITKIN\". \n",
    "\n",
    "# Remove any blank space that may be present at the begining or end of the county name\n",
    "mn_pop_df['County'] = mn_pop_df['County'].str.strip()\n",
    "\n",
    "# # Upper case for County\n",
    "mn_pop_df['County'] = mn_pop_df['County'].str.upper()\n",
    "mn_pop_df = mn_pop_df[['County', 'Population Total', 'Caucasian', 'African American', 'Native American', 'Asian', 'Hawaiian', 'Hispanic', 'Other']]\n",
    "mn_pop_df.to_csv(\"../Project_1/mn_population by race.csv\")\n",
    "mn_pop_df.head()"
   ]
  },
  {
   "cell_type": "markdown",
   "metadata": {},
   "source": [
    "### Coordinates for heat map -- if time permits"
   ]
  },
  {
   "cell_type": "code",
   "execution_count": null,
   "metadata": {},
   "outputs": [],
   "source": [
    "# # Get the coordinates of counties in MN\n",
    "# url = \"https://en.wikipedia.org/wiki/User:Michael_J/County_table\"\n",
    "\n",
    "# table = pd.read_html(url)\n",
    "# df = table[0]\n",
    "# Counties = df.loc[df['State'] == \"MN\", : ]\n",
    "# counties_df = Counties[['County [2]', 'Latitude', 'Longitude']]\n",
    "# counties_df#.to_csv(\"../Project_1/county_geo.csv\")  "
   ]
  },
  {
   "cell_type": "code",
   "execution_count": null,
   "metadata": {},
   "outputs": [],
   "source": [
    "# Choose only the columns we need\n",
    "mn_pop_df = mn_pop_df[['County', 'Caucasian', 'African American', 'Native American', 'Asian', 'Hawaiian', 'Other', 'Hispanic']]\n",
    "mn_pop_df.head()"
   ]
  },
  {
   "cell_type": "code",
   "execution_count": null,
   "metadata": {},
   "outputs": [],
   "source": [
    "# Use melt to convert this into a format similar to the CDC data\n",
    "pop_df = mn_pop_df.melt(id_vars='County', value_vars=['Caucasian', 'African American', 'Native American', 'Asian', \\\n",
    "                                                      'Hawaiian', 'Other', 'Hispanic'], \\\n",
    "                                                      var_name='Race', value_name='Population')\n",
    "pop_gb = pop_df.groupby(['County', 'Race'])\n",
    "pop_df = pop_gb.sum()\n",
    "pop_df.reset_index(inplace=True)\n",
    "pop_df.head()"
   ]
  },
  {
   "cell_type": "markdown",
   "metadata": {},
   "source": [
    "### Merge the datasets"
   ]
  },
  {
   "cell_type": "code",
   "execution_count": null,
   "metadata": {},
   "outputs": [],
   "source": [
    "merged_df = pd.merge(pop_df, poverty_df, on=['County', 'Race'])\n",
    "merged_df = pd.merge(merged_df, cdc_df, on=['County', 'Race'])\n",
    "merged_df.head()"
   ]
  },
  {
   "cell_type": "code",
   "execution_count": null,
   "metadata": {},
   "outputs": [],
   "source": [
    "# Edited merge_df for nan infections to be 0\n",
    "merged_df = pd.merge(pop_df, poverty_df, on=['County', 'Race'])\n",
    "merged_df = pd.merge(merged_df, cdc_df, on=['County', 'Race'], how = \"left\")\n",
    "merged_df[\"Infections\"] = merged_df[\"Infections\"].fillna(0)\n",
    "merged_df\n",
    "\n",
    "# Convert all numerical values in merged_df from strings to int\n",
    "merged_df[\"Population\"] = merged_df[\"Population\"].astype(int)\n",
    "merged_df[\"Poverty\"] = merged_df[\"Poverty\"].astype(int)\n",
    "merged_df[\"Infections\"] = merged_df[\"Infections\"].astype(int)\n",
    "\n",
    "# Calculate poverty and infection rates\n",
    "poverty_rate = []\n",
    "infection_rate = []\n",
    "\n",
    "i = 0\n",
    "while i < len(merged_df):\n",
    "    if merged_df[\"Population\"][i] == 0:\n",
    "        poverty_rate.append(0)\n",
    "        infection_rate.append(0)\n",
    "    else: \n",
    "        poverty_rate.append(merged_df[\"Poverty\"][i] / merged_df[\"Population\"][i])\n",
    "        infection_rate.append(merged_df[\"Infections\"][i] / merged_df[\"Population\"][i])\n",
    "    i += 1\n",
    "    \n",
    "merged_df[\"Poverty Rate\"] = poverty_rate\n",
    "merged_df[\"Infection Rate\"] = infection_rate\n",
    "\n",
    "# merged_df[merged_df[\"County\"] == \"CROW WING\"]    \n",
    "merged_df.head()"
   ]
  },
  {
   "cell_type": "code",
   "execution_count": null,
   "metadata": {},
   "outputs": [],
   "source": [
    "# Convert all non-caucasian races to \"non-caucasian\"\n",
    "#non_caucasian = ['African American', 'Hispanic', 'Asian', 'Native American', 'Hawaiian', 'Other']\n",
    "merged_df['Two-Races']=[\"Non-Caucasian\" if (x==\"African American\" or x==\"Asian\" or x==\"Hispanic\" or x==\"Native American\"\\\n",
    "    or x==\"Hawaiian\" or x==\"Other\") else \"Caucasian\" for x in merged_df['Race']]\n",
    "merged_df.head()"
   ]
  },
  {
   "cell_type": "code",
   "execution_count": null,
   "metadata": {},
   "outputs": [],
   "source": [
    "# Metro area counties\n",
    "merged_df['Metro-Non']=[\"Metro\" if (x==\"RAMSEY\" or x==\"DAKOTA\" or x==\"HENNEPIN\" or x==\"ANOKA\"\\\n",
    "    or x==\"SCOTT\" or x==\"WASHINGTON\" or x==\"CARVER\") else \"Non_Metro\" for x in merged_df['County']]\n",
    "merged_df_metro = merged_df[['Metro-Non', 'County', 'Two-Races', 'Population', 'Poverty', 'Infections']]\n",
    "merged_df_metro.head()"
   ]
  },
  {
   "cell_type": "code",
   "execution_count": null,
   "metadata": {},
   "outputs": [],
   "source": [
    "race_df = merged_df_metro[['Two-Races', 'Population']].groupby(['Two-Races'])\n",
    "race_df.sum().reset_index()\n",
    "\n",
    "metro_df = merged_df_metro[['Metro-Non', 'Population']].groupby(['Metro-Non'])\n",
    "metro_df.sum().reset_index()"
   ]
  },
  {
   "cell_type": "code",
   "execution_count": null,
   "metadata": {},
   "outputs": [],
   "source": [
    "two_races_df = merged_df[['County', 'Two-Races', 'Population', 'Poverty', 'Infections']]\n",
    "two_races_df.head()"
   ]
  },
  {
   "cell_type": "code",
   "execution_count": null,
   "metadata": {},
   "outputs": [],
   "source": [
    "# pd.set_option('mode.chained_assignment', None)\n",
    "# poverty_rate = []\n",
    "# infection_rate = []\n",
    "\n",
    "# i = 0\n",
    "# while i < len(two_races_df):\n",
    "#     if two_races_df[\"Population\"][i] == 0:\n",
    "#         poverty_rate.append(0)\n",
    "#         infection_rate.append(0)\n",
    "#     else: \n",
    "#         poverty_rate.append(two_races_df[\"Poverty\"][i] / two_races_df[\"Population\"][i])\n",
    "#         infection_rate.append(two_races_df[\"Infections\"][i] / two_races_df[\"Population\"][i])\n",
    "#     i += 1\n",
    "    \n",
    "# two_races_df[\"Poverty Rate\"] = poverty_rate\n",
    "# two_races_df[\"Infection Rate\"] = infection_rate"
   ]
  },
  {
   "cell_type": "code",
   "execution_count": null,
   "metadata": {},
   "outputs": [],
   "source": [
    "# caucasian = two_races_df.loc[two_races_df['Two-Races'] == 'Caucasian']\n",
    "\n",
    "# # Population, poverty, and infection totals\n",
    "# row_sum = two_races_df.iloc[:,2:5].sum()\n",
    "\n",
    "# two_races_df.loc['Total'] = row_sum\n",
    "# two_races_df.fillna('')\n",
    "# two_races_df.loc['Total', 'County']=''\n",
    "# two_races_df.loc['Total', 'Two-Races'] = ''\n",
    "# two_races_df.loc['Total', 'Poverty Rate'] = ''\n",
    "# two_races_df.loc['Total', 'Infection Rate'] = ''\n",
    "# two_races_df"
   ]
  },
  {
   "cell_type": "markdown",
   "metadata": {},
   "source": [
    "# Mauvonte's Code Starts Here"
   ]
  },
  {
   "cell_type": "code",
   "execution_count": null,
   "metadata": {},
   "outputs": [],
   "source": [
    "#Mean and Median\n",
    "mean_df = merged_df.groupby('Race').mean()\n",
    "mean_df.reset_index()"
   ]
  },
  {
   "cell_type": "code",
   "execution_count": null,
   "metadata": {},
   "outputs": [],
   "source": [
    "#find quartiles and upper, lower bound, outliers\n",
    "\n",
    "def boxplot(race):\n",
    "    covid_box = merged_df.loc[merged_df['Race'] == race]['Infections']\n",
    "    quartiles = covid_box.quantile([.25,.5,.75])\n",
    "    lowerq = quartiles[0.25]\n",
    "    upperq = quartiles[0.75]\n",
    "    iqr = upperq - lowerq\n",
    "    lower_bound = lowerq - (1.5 * iqr)\n",
    "    upper_bound = upperq + (1.5 * iqr)\n",
    "    outliers = covid_box.loc[(covid_box < lower_bound) | (covid_box > upper_bound)]\n",
    "    print(outliers)\n",
    "    return covid_box\n",
    "\n",
    "\n",
    "race_1 = boxplot('African American')\n",
    "race_2 = boxplot('Caucasian')\n",
    "race_3 = boxplot('Asian')\n",
    "race_4 = boxplot('Hispanic')\n",
    "race_5 = boxplot('American Indian/Alaskan Native')\n",
    "race_6 = boxplot('Hawaiian')\n",
    "race_7 = boxplot('Other')\n",
    "\n",
    "plt.boxplot([race_1, race_2, race_3, race_4, race_5, race_6, race_7], labels=['Black', 'White', 'Asian', 'Hispanic', 'American Indian/Alaskan Native', 'Hawaiian', 'Other'])\n",
    "plt.ylabel('Infection by Counties')\n",
    "plt.title('Covid Results Based on Ethnicity in Minnensota')\n",
    "plt.xticks(rotation=90)\n",
    "plt.show()\n"
   ]
  },
  {
   "cell_type": "markdown",
   "metadata": {},
   "source": [
    "# Putting stat summary into dataframe\n"
   ]
  },
  {
   "cell_type": "code",
   "execution_count": null,
   "metadata": {},
   "outputs": [],
   "source": [
    "# Statistics by county\n",
    "#lief's groupby\n",
    "merged_county_gb = merged_df.groupby([\"County\"])\n",
    "\n",
    "county_pop_stats = merged_county_gb[\"Population\"].agg([\"max\", \"min\", \"mean\", np.median, \"var\", \"std\", \"sem\"])\n",
    "county_pov_stats = merged_county_gb[\"Poverty\"].agg([\"max\", \"min\", \"mean\", np.median, \"var\", \"std\", \"sem\"])\n",
    "county_inf_stats = merged_county_gb[\"Infections\"].agg([\"max\", \"min\", \"mean\", np.median, \"var\", \"std\", \"sem\"])\n",
    "county_pov_rate_stats = merged_county_gb[\"Poverty Rate\"].agg([\"max\", \"min\", \"mean\", np.median, \"var\", \"std\", \"sem\"])\n",
    "county_inf_rate_stats = merged_county_gb[\"Infection Rate\"].agg([\"max\", \"min\", \"mean\", np.median, \"var\", \"std\", \"sem\"])"
   ]
  },
  {
   "cell_type": "code",
   "execution_count": null,
   "metadata": {},
   "outputs": [],
   "source": [
    "# county_inf_rate_stats.T"
   ]
  },
  {
   "cell_type": "code",
   "execution_count": null,
   "metadata": {},
   "outputs": [],
   "source": [
    "# merge the county_pov_stats df with county_pove_rate_stats\n",
    "merged_county_pov_stats_df = pd.merge(county_pov_stats, county_pov_rate_stats, on='County',  how='inner')\n",
    "\n",
    "#rename columns\n",
    "col_names = {'max_x':'Cty_Pov_Stats_Max',\n",
    "            'min_x' :'Cty_Pov_Stats_Min',\n",
    "            'mean_x' :'Cty_Pov_Stats_Mean',\n",
    "            'median_x':'Cty_Pov_Stats_Median',\n",
    "            'var_x':'Cty_Pov_Stats_Variance',\n",
    "            'std_x':'Cty_Pov_Stats_Std',\n",
    "            'sem_x':'Cty_Pov_Stats_SEM',\n",
    "            'max_y':'Cty_Pov_Rate_Max',\n",
    "            'min_y':'Cty_Pov_Rate_Min',\n",
    "            'mean_y':'Cty_Pov_Rate_Mean',\n",
    "            'median_y':'Cty_Pov_Rate_Median',\n",
    "            'var_y':'Cty_Pov_Rate_Variance',\n",
    "            'std_y':'Cty_Pov_Rate_Std',\n",
    "            'sem_y':'Cty_Pov_Rate_SEM'}\n",
    "\n",
    "merged_county_pov_stats_df = merged_county_pov_stats_df.rename(columns=col_names)\n",
    "#merged_county_pov_stats_df"
   ]
  },
  {
   "cell_type": "code",
   "execution_count": null,
   "metadata": {},
   "outputs": [],
   "source": [
    "#merge county_inf_stats df with county_inf_rate_stats \n",
    "\n",
    "merged_county_inf_stats_df = pd.merge(county_inf_stats, county_inf_rate_stats, on='County', how='inner')\n",
    "\n",
    "#rename columns\n",
    "\n",
    "col_names2 = {\n",
    "            'max_x':'Cty_Infect_Stats_Max',\n",
    "            'min_x':'Cty_Infect_Stats_Min',\n",
    "            'mean_x':'Cty_Infect_Stats_Mean',\n",
    "            'median_x':'Cty_Infect_Stats_Median',\n",
    "            'var_x':'Cty_Infect_Stats_Variance',\n",
    "            'std_x':'Cty_Infect_Stats_Std',\n",
    "            'sem_x':'Cty_Infect_Stats_SEM',\n",
    "            'max_y':'Cty_Infect_Rate_Max',\n",
    "            'min_y':'Cty_Infect_Rate_Min',\n",
    "            'mean_y':'Cty_Infect_Rate_Mean',\n",
    "            'median_y':'Cty_Infect_Rate_Median',\n",
    "            'var_y':'Cty_Infect_Rate_Variance',\n",
    "            'std_y':'Cty_Infect_Rate_Std',\n",
    "            'sem_y':'Cty_Infect_Rate_SEM'}\n",
    "\n",
    "merged_county_inf_stats_df = merged_county_inf_stats_df.rename(columns=col_names2)\n",
    "#merged_county_inf_stats_df"
   ]
  },
  {
   "cell_type": "code",
   "execution_count": null,
   "metadata": {},
   "outputs": [],
   "source": [
    "#merge both df containing the county poverty and county infection\n",
    "merged_pov_inf_df = pd.merge(merged_county_inf_stats_df, merged_county_pov_stats_df, on='County', how='left')\n",
    "#merged_pov_inf_df"
   ]
  },
  {
   "cell_type": "code",
   "execution_count": null,
   "metadata": {},
   "outputs": [],
   "source": [
    "#merge the merged_pov_inf_df with county_pop_stats\n",
    "merged_county_data = pd.merge(merged_pov_inf_df, county_pop_stats, on='County', how='left')\n",
    "#rename population columns\n",
    "col_names3 = {\n",
    "            'max':'Cty_Population_Max',\n",
    "            'min':'Cty_Population_Min',\n",
    "            'mean':'Cty_Population_Mean',\n",
    "            'median':'Cty_Population_Median',\n",
    "            'var': 'Cty_Population_Variance',\n",
    "            'std': 'Cty_Population_Std',\n",
    "            'sem': 'Cty_Population_SEM',\n",
    "            }\n",
    "merged_county_data = merged_county_data.rename(columns=col_names3)\n",
    "merged_county_data"
   ]
  },
  {
   "cell_type": "code",
   "execution_count": null,
   "metadata": {},
   "outputs": [],
   "source": [
    "# Statistics by race\n",
    "\n",
    "merged_race_gb = merged_df.groupby([\"Race\"])\n",
    "\n",
    "race_pop_stats = merged_race_gb[\"Population\"].agg([\"max\", \"min\", \"mean\", np.median, \"var\", \"std\", \"sem\"])\n",
    "race_pov_stats = merged_race_gb[\"Poverty\"].agg([\"max\", \"min\", \"mean\", np.median, \"var\", \"std\", \"sem\"])\n",
    "race_inf_stats = merged_race_gb[\"Infections\"].agg([\"max\", \"min\", \"mean\", np.median, \"var\", \"std\", \"sem\"])\n",
    "race_pov_rate_stats = merged_race_gb[\"Poverty Rate\"].agg([\"max\", \"min\", \"mean\", np.median, \"var\", \"std\", \"sem\"])\n",
    "race_inf_rate_stats = merged_race_gb[\"Infection Rate\"].agg([\"max\", \"min\", \"mean\", np.median, \"var\", \"std\", \"sem\"])"
   ]
  },
  {
   "cell_type": "code",
   "execution_count": null,
   "metadata": {},
   "outputs": [],
   "source": [
    "#merge race poverty df's \n",
    "merged_race_pov_stats = pd.merge(race_pov_stats, race_pov_rate_stats, on='Race', how='inner')\n",
    "rc_names = {\n",
    "            'max_x':'Race_Poverty_Max',\n",
    "            'min_x':'Race_Poverty_Min',\n",
    "            'mean_x':'Race_Poverty_Mean',\n",
    "            'median_x':'Race_Poverty_Median',\n",
    "            'var_x': 'Race_Poverty_Variance',\n",
    "            'std_x': 'Race_Poverty_Std',\n",
    "            'sem_x': 'Race_Poverty_SEM',\n",
    "            'max_y': 'Race_Poverty_Rate_Max',\n",
    "            'min_y': 'Race_Poverty_Rate_Min',\n",
    "            'mean_y': 'Race_Poverty_Rate_Mean',\n",
    "            'median_y': 'Race_Poverty_Rate_Median',\n",
    "            'var_y': 'Race_Poverty_Rate_Variance',\n",
    "            'std_y': 'Race_Poverty_Rate_Std',\n",
    "            'sem_y': 'Race_Poverty_Rate_SEM'\n",
    "            }\n",
    "merged_race_pov_stats = merged_race_pov_stats.rename(columns=rc_names)\n",
    "merged_race_pov_stats"
   ]
  },
  {
   "cell_type": "code",
   "execution_count": null,
   "metadata": {},
   "outputs": [],
   "source": [
    "#merge infection df's\n",
    "merged_race_inf_stats = pd.merge(race_inf_stats,race_inf_rate_stats, on='Race', how='inner')\n",
    "#rename columns\n",
    "rc_names2 = {\n",
    "            'max_x':'Race_Infect_Max',\n",
    "            'min_x':'Race_Infect_Min',\n",
    "            'mean_x':'Race_Infect_Mean',\n",
    "            'median_x':'Race_Infect_Median',\n",
    "            'var_x':'Race_Infect_Variance',\n",
    "            'std_x':'Race_Infect_Std',\n",
    "            'sem_x':'Race_Infect_SEM',\n",
    "            'max_y':'Race_Infect_Rate_Max',\n",
    "            'min_y':'Race_Infect_Rate_Min',\n",
    "            'mean_y':'Race_Infect_Rate_Mean',\n",
    "            'median_y':'Race_Infect_Rate_Median',\n",
    "            'var_y':'Race_Infect_Rate_Variance',\n",
    "            'std_y':'Race_Infect_Rate_Std',\n",
    "            'sem_y':'Race_Infect_Rate_SEM'\n",
    "            }\n",
    "\n",
    "merged_race_inf_stats = merged_race_inf_stats.rename(columns=rc_names2)\n",
    "merged_race_inf_stats"
   ]
  },
  {
   "cell_type": "code",
   "execution_count": null,
   "metadata": {},
   "outputs": [],
   "source": [
    "#merge race infect df's with race poverty df's\n",
    "merged_race_pov_inf = pd.merge(merged_race_inf_stats, merged_race_pov_stats, on='Race', how='left')\n",
    "merged_race_pov_inf"
   ]
  },
  {
   "cell_type": "code",
   "execution_count": null,
   "metadata": {},
   "outputs": [],
   "source": [
    "#merge previous df with race pop df\n",
    "merged_race_data = pd.merge(merge_race_pov_inf, race_pop_stats, on='Race', how='left')\n",
    "#rename population columns\n",
    "rc_names3 = {\n",
    "            'max':'Race_Pop_Max',\n",
    "            'min':'Race_Pop_Min',\n",
    "            'mean':'Race_Pop_Mean',\n",
    "            'median':'Race_Pop_Median',\n",
    "            'var':'Race_Pop_Variance',\n",
    "            'std':'Race_Pop_Std',\n",
    "            'sem':'Race_Pop_SEM'\n",
    "            }\n",
    "merged_race_data = merged_race_pov_inf_pop.rename(columns=rc_names3)\n",
    "merged_race_data\n"
   ]
  },
  {
   "cell_type": "code",
   "execution_count": null,
   "metadata": {},
   "outputs": [],
   "source": [
    "#merge both race data and county data\n",
    "\n",
    "county_race_df = pd.merge(merged_county_data, merged_race_pov_inf_pop, left_on=['County'] , right_on=['Race'], how='outer')\n",
    "county_race_df.T"
   ]
  },
  {
   "cell_type": "markdown",
   "metadata": {},
   "source": [
    "## Mai's Code starts Here"
   ]
  },
  {
   "cell_type": "markdown",
   "metadata": {},
   "source": [
    "### Bar Charts on Race and Poverty"
   ]
  },
  {
   "cell_type": "code",
   "execution_count": null,
   "metadata": {},
   "outputs": [],
   "source": [
    "# Generate a bar plot showing the total population of race groups, poverty and analyzing the differences of each groups for the merged dataframe\n",
    "bar_plot_data = merged_df.groupby(['Race']).sum()[\"Poverty\"]\n",
    "plt.title(\"The Number of People in Poverty in Minnesota\")\n",
    "plt.xlabel(\"Race\")\n",
    "plt.ylabel(\"Poverty\")\n",
    "bar_plot_data.plot.bar(figsize=(8,5),color=('red'), rot=45)"
   ]
  },
  {
   "cell_type": "code",
   "execution_count": null,
   "metadata": {},
   "outputs": [],
   "source": [
    "plot_df = merged_df.groupby(['Race']).sum()\n",
    "plot_df"
   ]
  },
  {
   "cell_type": "code",
   "execution_count": null,
   "metadata": {},
   "outputs": [],
   "source": [
    "max_pop = plot_df['Population'].max()\n",
    "max_pop"
   ]
  },
  {
   "cell_type": "code",
   "execution_count": null,
   "metadata": {},
   "outputs": [],
   "source": [
    "# Generate a bar chart to show the max population, poverty and infections of each race in MN\n",
    "plot_df[['Population','Poverty','Infections']].plot.bar(figsize=(10,15))\n",
    "plt.xlabel(\"Race\")\n",
    "plt.ylabel(\"Population (in millions)\")"
   ]
  },
  {
   "cell_type": "code",
   "execution_count": null,
   "metadata": {},
   "outputs": [],
   "source": [
    "# Generate a 3 bar chart to show poverty rate and infection rate for each of the race in MN\n",
    "plot_df[['Poverty Rate','Infection Rate']].plot.bar(figsize=(10,15))\n",
    "plt.xlabel(\"Race\")\n",
    "plt.ylabel(\"Rate\")"
   ]
  },
  {
   "cell_type": "markdown",
   "metadata": {},
   "source": [
    "## Mai's Boxplots\n",
    "### Boxplots Based on Race and Poverty"
   ]
  },
  {
   "cell_type": "code",
   "execution_count": null,
   "metadata": {},
   "outputs": [],
   "source": [
    "# Generate a bar plot showing the total population of races and poverty rate\n",
    "merged_df.boxplot(by='Race', column=['Poverty Rate'], grid=False,figsize=(10, 15))"
   ]
  },
  {
   "cell_type": "code",
   "execution_count": null,
   "metadata": {},
   "outputs": [],
   "source": [
    "# Generate a bar plot showing the total population of races and infections\n",
    "merged_df.boxplot(by='Race', column=['Infections'], grid=False,figsize=(10, 15))"
   ]
  },
  {
   "cell_type": "markdown",
   "metadata": {},
   "source": [
    "# Sung's work starts here\n",
    "\n",
    " ### keywords: Population in Minnesota (MN), Race, Poverty, Infection rate, Poverty rate\n",
    " ### Utilized data from CDC.gov and Population Census datasets."
   ]
  },
  {
   "cell_type": "code",
   "execution_count": null,
   "metadata": {},
   "outputs": [],
   "source": []
  },
  {
   "cell_type": "markdown",
   "metadata": {},
   "source": [
    "## Number of Infections by Race and County"
   ]
  },
  {
   "cell_type": "code",
   "execution_count": null,
   "metadata": {},
   "outputs": [],
   "source": [
    "# Drop NaNs and then sort by date chronologically\n",
    "cdc_df = cdc_df.dropna(how='any')\n",
    "cdc_df = cdc_df[['County', 'Race', 'Infections']]\n",
    "race_mn = cdc_df['Race'].unique()\n",
    "race_mn = sorted(set(race_mn))\n",
    "race_mn\n",
    "cdc_df"
   ]
  },
  {
   "cell_type": "markdown",
   "metadata": {},
   "source": [
    "## Number of Infections by Race and County\n",
    "   ### a) Total infections for African American."
   ]
  },
  {
   "cell_type": "code",
   "execution_count": null,
   "metadata": {},
   "outputs": [],
   "source": [
    "#total sum of infections of African American.\n",
    "cdc_infections_african_american_df = cdc_df.loc[  cdc_df['Race'] == race_mn[0]]\n",
    "cdc_infections_african_american_df = cdc_infections_african_american_df.groupby(['County', 'Race'])\n",
    "cdc_infections_african_american_sum_df = cdc_infections_african_american_df.sum()\n",
    "cdc_infections_african_american_sum_df.head()"
   ]
  },
  {
   "cell_type": "code",
   "execution_count": null,
   "metadata": {},
   "outputs": [],
   "source": [
    "cdc_infections_african_american_total = cdc_infections_african_american_sum_df['Infections'].sum()\n",
    "cdc_infections_african_american_total"
   ]
  },
  {
   "cell_type": "markdown",
   "metadata": {},
   "source": [
    "### b) Total infections for Asian."
   ]
  },
  {
   "cell_type": "code",
   "execution_count": null,
   "metadata": {},
   "outputs": [],
   "source": [
    "#total sum of infections of Asians\n",
    "cdc_infections_asian_df = cdc_df.loc[  cdc_df['Race'] == race_mn[1]]\n",
    "cdc_infections_asian_df = cdc_infections_asian_df.groupby(['County', 'Race'])\n",
    "cdc_infections_asian_sum_df = cdc_infections_asian_df.sum()\n",
    "cdc_infections_asian_sum_df.head()"
   ]
  },
  {
   "cell_type": "code",
   "execution_count": null,
   "metadata": {},
   "outputs": [],
   "source": [
    "cdc_infections_asian_total = cdc_infections_asian_sum_df['Infections'].sum()\n",
    "cdc_infections_asian_total"
   ]
  },
  {
   "cell_type": "markdown",
   "metadata": {},
   "source": [
    "### c) Total infections for Caucasian American."
   ]
  },
  {
   "cell_type": "code",
   "execution_count": null,
   "metadata": {},
   "outputs": [],
   "source": [
    "cdc_infections_caucasian_df = cdc_df.loc[  cdc_df['Race'] == race_mn[2]]\n",
    "cdc_infections_caucasian_df = cdc_infections_caucasian_df.groupby(['County', 'Race'])\n",
    "cdc_infections_caucasian_sum_df = cdc_infections_caucasian_df.sum()\n",
    "cdc_infections_caucasian_sum_df.head()"
   ]
  },
  {
   "cell_type": "code",
   "execution_count": null,
   "metadata": {},
   "outputs": [],
   "source": [
    "cdc_infections_caucasian_total = cdc_infections_caucasian_sum_df['Infections'].sum()\n",
    "cdc_infections_caucasian_total"
   ]
  },
  {
   "cell_type": "markdown",
   "metadata": {},
   "source": [
    "### d) Total infections for Hispanic."
   ]
  },
  {
   "cell_type": "code",
   "execution_count": null,
   "metadata": {},
   "outputs": [],
   "source": [
    "#total sum of infections of asians in 2021\n",
    "cdc_infections_hispanic_df = cdc_df.loc[  cdc_df['Race'] == race_mn[3]]\n",
    "cdc_infections_hispanic_df = cdc_infections_hispanic_df.groupby(['County', 'Race'])\n",
    "cdc_infections_hispanic_sum_df = cdc_infections_hispanic_df.sum()\n",
    "cdc_infections_hispanic_sum_df.head()"
   ]
  },
  {
   "cell_type": "code",
   "execution_count": null,
   "metadata": {},
   "outputs": [],
   "source": [
    "cdc_infections_hispanic_total = cdc_infections_hispanic_sum_df['Infections'].sum()\n",
    "cdc_infections_hispanic_total"
   ]
  },
  {
   "cell_type": "markdown",
   "metadata": {},
   "source": [
    "### e) Total infections for Native American."
   ]
  },
  {
   "cell_type": "code",
   "execution_count": null,
   "metadata": {},
   "outputs": [],
   "source": [
    "#total sum of infections of Native American in 2021\n",
    "cdc_infections_native_american_df = cdc_df.loc[  cdc_df['Race'] == race_mn[4]]\n",
    "cdc_infections_native_american_df = cdc_infections_native_american_df.groupby(['County', 'Race'])\n",
    "cdc_infections_native_american_sum_df = cdc_infections_native_american_df.sum()\n",
    "cdc_infections_native_american_sum_df.head()"
   ]
  },
  {
   "cell_type": "code",
   "execution_count": null,
   "metadata": {},
   "outputs": [],
   "source": [
    "cdc_infections_native_american_total = cdc_infections_native_american_sum_df['Infections'].sum()\n",
    "cdc_infections_native_american_total"
   ]
  },
  {
   "cell_type": "markdown",
   "metadata": {},
   "source": [
    "### f) Total infections for other."
   ]
  },
  {
   "cell_type": "code",
   "execution_count": null,
   "metadata": {},
   "outputs": [],
   "source": [
    "#total sum of infections of other in 2021\n",
    "cdc_infections_other_df = cdc_df.loc[  cdc_df['Race'] == race_mn[5]]\n",
    "cdc_infections_other_df = cdc_infections_other_df.groupby(['County', 'Race'])\n",
    "cdc_infections_other_sum_df = cdc_infections_other_df.sum()\n",
    "cdc_infections_other_sum_df.head()"
   ]
  },
  {
   "cell_type": "code",
   "execution_count": null,
   "metadata": {},
   "outputs": [],
   "source": [
    "cdc_infections_other_total = cdc_infections_other_sum_df['Infections'].sum()\n",
    "cdc_infections_other_total"
   ]
  },
  {
   "cell_type": "code",
   "execution_count": null,
   "metadata": {},
   "outputs": [],
   "source": [
    "#summary of number of infections by race\n",
    "total_infection_byrace = [cdc_infections_african_american_total, cdc_infections_asian_total, \n",
    "                               cdc_infections_caucasian_total, cdc_infections_hispanic_total, \n",
    "                               cdc_infections_native_american_total, cdc_infections_other_total]\n",
    "for (race, infection) in zip(race_mn, total_infection_byrace):\n",
    "    print(f\" {race}: {infection}\")"
   ]
  },
  {
   "cell_type": "code",
   "execution_count": null,
   "metadata": {},
   "outputs": [],
   "source": [
    "african_american_asian_combined_df = pd.merge(cdc_infections_african_american_sum_df, cdc_infections_asian_sum_df, on=['County'], how = \"outer\")\n",
    "african_american_asian_caucasian_combined_df = pd.merge(african_american_asian_combined_df, cdc_infections_caucasian_sum_df, on=['County'], how = \"outer\")\n",
    "african_american_asian_caucasian_hispanic_combined_df = pd.merge(african_american_asian_caucasian_combined_df, cdc_infections_hispanic_sum_df, on=['County'], how = \"outer\")\n",
    "african_american_asian_caucasian_hispanic_native_american_combined_df = pd.merge(african_american_asian_caucasian_hispanic_combined_df, cdc_infections_native_american_sum_df, on=['County'], how = \"outer\")"
   ]
  },
  {
   "cell_type": "code",
   "execution_count": null,
   "metadata": {
    "scrolled": true
   },
   "outputs": [],
   "source": [
    "# Rename columns. FINAL summary table\n",
    "comprehensive_df = pd.merge(african_american_asian_caucasian_hispanic_native_american_combined_df, cdc_infections_other_sum_df, on=['County'], how = \"outer\")\n",
    "comprehensive_df.columns = ['African American Infections', 'Asian Infections', 'Caucasian American Infections', 'Hispanic Infections', 'Native American Infections', 'Other Infections']\n",
    "# comprehensive_clean_df = comprehensive_df.fillna(0)\n",
    "comprehensive_df.head()"
   ]
  },
  {
   "cell_type": "code",
   "execution_count": null,
   "metadata": {},
   "outputs": [],
   "source": [
    "# re-introducing 'Population Total' in the population dataframe for my calculation for hypothesis testing.\n",
    "# Population by county, by race\n",
    "url = \"https://api.census.gov/data/2020/acs/acs5?get=NAME,B03002_001E,B03002_003E,B03002_004E,B03002_005E,B03002_006E,B03002_007E,B03002_008E,B03002_009E,B03002_012E&for=county:*&in=state:27&key={0}\".format(census_key)\n",
    "\n",
    "\n",
    "response = requests.request(\"GET\", url)\n",
    "response\n",
    "response_df = json_to_dataframe(response)\n",
    "response_df = response_df.rename(columns={\n",
    "    'B03002_001E': 'Population Total',\n",
    "    'B03002_003E': 'Caucasian',\n",
    "    'B03002_004E': 'African American',\n",
    "    'B03002_005E': 'Native American',\n",
    "    'B03002_006E': 'Asian',\n",
    "    'B03002_007E': 'Hawaiian',\n",
    "    'B03002_012E': 'Hispanic'\n",
    "})\n",
    "response_df['Other'] = response_df['B03002_008E'].astype(int) + response_df['B03002_009E'].astype(int)\n",
    "mn_pop_df = response_df\n",
    "\n",
    "# Split NAME into county & state\n",
    "name = mn_pop_df['NAME'].str.split(\",\", n=1, expand=True)\n",
    "COUNTY = mn_pop_df['County']=name[0]\n",
    "STATE = mn_pop_df['State']=name[1]\n",
    "mn_pop_df.drop(columns=[\"NAME\"], inplace=True)\n",
    "\n",
    "# # Remove ...County from County in dataframe\n",
    "mn_pop_df['County'] = mn_pop_df['County'].replace('County', '', regex=True)\n",
    "# NOTE: The line above accidentally leaves a blank space at the end of these county names! That space caused a merge to fail\n",
    "# on any of these counties because, for example, \"AITKIN \" is not the same as \"AITKIN\". \n",
    "\n",
    "# Remove any blank space that may be present at the begining or end of the county name\n",
    "mn_pop_df['County'] = mn_pop_df['County'].str.strip()\n",
    "\n",
    "# # Upper case for County\n",
    "mn_pop_df['County'] = mn_pop_df['County'].str.upper()\n",
    "mn_pop_df = mn_pop_df[['County', 'Population Total', 'Caucasian', 'African American', 'Native American', 'Asian', 'Hawaiian', 'Hispanic', 'Other']]\n",
    "mn_pop_df.to_csv(\"../Project_1/mn_population by race.csv\")\n",
    "mn_pop_df.head()\n",
    "mn_pop_df = mn_pop_df[['Population Total', 'County', 'Caucasian', 'African American', 'Native American', 'Asian', 'Hawaiian', 'Other', 'Hispanic']]\n",
    "mn_pop_df.head()"
   ]
  },
  {
   "cell_type": "code",
   "execution_count": null,
   "metadata": {},
   "outputs": [],
   "source": [
    "#population by race infected with covid-19\n",
    "\n",
    "mn_pop = mn_pop_df['Population Total']\n",
    "mn_caucasian_pop = mn_pop_df['Caucasian']\n",
    "mn_african_american_pop = mn_pop_df['African American']\n",
    "mn_native_american_pop = mn_pop_df['Native American']\n",
    "mn_asian_pop = mn_pop_df['Asian']\n",
    "mn_hawaiian_pop = mn_pop_df['Hawaiian']\n",
    "mn_hispanic_pop = mn_pop_df['Hispanic']\n",
    "mn_other_pop = mn_pop_df['Other']\n",
    "\n",
    "mn_pop_list = list(mn_pop)\n",
    "mn_pop_list\n",
    "mn_caucasian_list = list(mn_caucasian_pop)\n",
    "mn_caucasian_list\n",
    "mn_african_american_list = list(mn_african_american_pop)\n",
    "mn_african_american_list\n",
    "mn_native_american_list = list(mn_native_american_pop)\n",
    "mn_native_american_list\n",
    "mn_asian_list = list(mn_asian_pop)\n",
    "mn_asian_list\n",
    "mn_hawaiian_list = list(mn_hawaiian_pop)\n",
    "mn_hawaiian_list\n",
    "mn_hispanic_list = list(mn_hispanic_pop)\n",
    "mn_hispanic_list\n",
    "mn_other_list = list(mn_other_pop)\n",
    "mn_other_list\n",
    "print(type(mn_pop_list[0]))\n",
    "\n",
    "#converting string to integer\n",
    "# print([int(x) for x in mn_pop_list])\n",
    "mn_pop_int_list = [int(x) for x in mn_pop_list]\n",
    "mn_caucasian_int_list = [int(x) for x in mn_caucasian_list]\n",
    "mn_african_american_int_list = [int(x) for x in mn_african_american_list]\n",
    "mn_native_american_int_list = [int(x) for x in mn_native_american_list]\n",
    "mn_asian_int_list = [int(x) for x in mn_asian_list]\n",
    "mn_hawaiian_int_list = [int(x) for x in mn_hawaiian_list]\n",
    "mn_hispanic_int_list = [int(x) for x in mn_hispanic_list]\n",
    "mn_other_int_list = [int(x) for x in mn_other_list]\n",
    "\n",
    "\n",
    "print(type(mn_pop_int_list[0]))"
   ]
  },
  {
   "cell_type": "code",
   "execution_count": null,
   "metadata": {},
   "outputs": [],
   "source": [
    "#sum\n",
    "sum_mn_pop = sum(mn_pop_int_list)\n",
    "sum_mn_caucasian = sum(mn_caucasian_int_list)\n",
    "sum_mn_african_american = sum(mn_african_american_int_list)\n",
    "sum_mn_native_american = sum(mn_native_american_int_list)\n",
    "sum_mn_asian = sum(mn_asian_int_list)\n",
    "sum_mn_hawaiian = sum(mn_hawaiian_int_list)\n",
    "sum_mn_hispanic = sum(mn_hispanic_int_list)\n",
    "sum_mn_other = sum(mn_other_int_list)\n",
    "\n",
    "#percent\n",
    "percent_mn_caucasian = sum_mn_caucasian/sum_mn_pop*100\n",
    "percent_mn_african_american = sum_mn_african_american/sum_mn_pop*100\n",
    "percent_mn_native_american = sum_mn_native_american/sum_mn_pop*100\n",
    "percent_mn_asian = sum_mn_asian/sum_mn_pop*100\n",
    "percent_mn_hawaiian = sum_mn_hawaiian/sum_mn_pop*100\n",
    "percent_mn_hispanic = sum_mn_hispanic/sum_mn_pop*100\n",
    "percent_mn_other = sum_mn_other/sum_mn_pop*100"
   ]
  },
  {
   "cell_type": "markdown",
   "metadata": {},
   "source": [
    "## Population in MN by race"
   ]
  },
  {
   "cell_type": "code",
   "execution_count": null,
   "metadata": {},
   "outputs": [],
   "source": [
    "#summary of population by race\n",
    "population_by_race_summary = [sum_mn_pop, sum_mn_caucasian, sum_mn_african_american, \n",
    "                              sum_mn_native_american, sum_mn_asian, sum_mn_hawaiian, \n",
    "                              sum_mn_hispanic, sum_mn_other]\n",
    "MN_population = ['Population', 'Caucasian', 'African American', 'Native American', 'Asian', 'Hawaiian', 'Hispanic', 'Other']\n",
    "for (racepopulation, mnsum) in zip(MN_population, population_by_race_summary):\n",
    "    print(f\" {racepopulation}: {mnsum}\")"
   ]
  },
  {
   "cell_type": "markdown",
   "metadata": {},
   "source": [
    "## Population % in MN by race"
   ]
  },
  {
   "cell_type": "code",
   "execution_count": null,
   "metadata": {},
   "outputs": [],
   "source": [
    "#summary of population by race\n",
    "population_per_by_race_summary = [percent_mn_caucasian, percent_mn_african_american, percent_mn_native_american,\n",
    "                              percent_mn_asian, percent_mn_hawaiian, percent_mn_hispanic, percent_mn_other]\n",
    "race_in_MN = ['Caucasian', 'African American', 'Native American', 'Asian', 'Hawaiian', 'Hispanic', 'Other']\n",
    "for (racepopulation, per) in zip(race_in_MN, population_per_by_race_summary):\n",
    "    print(f\" {racepopulation}: {per}\")"
   ]
  },
  {
   "cell_type": "code",
   "execution_count": null,
   "metadata": {},
   "outputs": [],
   "source": [
    "#infection rate African American\n",
    "african_american_infection_percent = (cdc_infections_african_american_total / sum_mn_african_american ) *100\n",
    "african_american_infection_percent\n",
    "\n",
    "#infection rate Asian\n",
    "asian_infection_percent = (cdc_infections_asian_total / sum_mn_asian ) *100\n",
    "asian_infection_percent\n",
    "\n",
    "#infection rate Caucasian\n",
    "caucasian_infection_percent = (cdc_infections_caucasian_total / sum_mn_caucasian ) *100\n",
    "caucasian_infection_percent\n",
    "\n",
    "#infection rate hispanic\n",
    "hispanic_infection_percent = (cdc_infections_hispanic_total / sum_mn_hispanic ) *100\n",
    "hispanic_infection_percent\n",
    "\n",
    "#infection rate native american\n",
    "native_american_infection_percent = (cdc_infections_native_american_total / sum_mn_native_american ) *100\n",
    "native_american_infection_percent\n",
    "\n",
    "\n",
    "other_infection_percent = (cdc_infections_other_total / sum_mn_other ) *100\n",
    "other_infection_percent\n",
    "\n",
    "\n",
    "percentage_race_infections = [african_american_infection_percent, asian_infection_percent, \n",
    "                              caucasian_infection_percent, hispanic_infection_percent, native_american_infection_percent, other_infection_percent]\n",
    "\n"
   ]
  },
  {
   "cell_type": "code",
   "execution_count": null,
   "metadata": {},
   "outputs": [],
   "source": [
    "sum_non_caucasian_population = sum_mn_african_american + sum_mn_native_american + sum_mn_asian + sum_mn_hawaiian + sum_mn_hispanic + sum_mn_other\n",
    "sum_non_caucasian_population\n",
    "non_caucasian_infection_rate = sum_non_caucasian_population / sum_mn_pop\n",
    "non_caucasian_infection_rate\n",
    "sum_non_caucasian_population_infection = cdc_infections_african_american_total + cdc_infections_asian_total +cdc_infections_hispanic_total + cdc_infections_native_american_total + cdc_infections_other_total\n",
    "sum_non_caucasian_population_infection\n",
    "\n",
    "non_caucaisan_infection_percent1 = sum_non_caucasian_population_infection / sum_non_caucasian_population\n",
    "non_caucasian_infection_ratio = non_caucaisan_infection_percent1 / non_caucasian_infection_rate\n",
    "non_caucasian_infection_ratio"
   ]
  },
  {
   "cell_type": "code",
   "execution_count": null,
   "metadata": {},
   "outputs": [],
   "source": [
    "#rate corrected by population,% (non-whites)\n",
    "african_american_infection_percent_corrected = african_american_infection_percent / percent_mn_african_american\n",
    "african_american_infection_percent_corrected\n",
    "asian_infection_percent_corrected = asian_infection_percent / percent_mn_asian\n",
    "hispanic_infection_percent_corrected = hispanic_infection_percent / percent_mn_hispanic\n",
    "native_american_infection_percent_corrected = native_american_infection_percent / percent_mn_native_american\n",
    "other_infection_percent_corrected = other_infection_percent / percent_mn_other\n",
    "\n",
    "\n",
    "#rate corrected by population,% (whites)\n",
    "caucasian_infection_percent_corrected = caucasian_infection_percent / percent_mn_caucasian"
   ]
  },
  {
   "cell_type": "markdown",
   "metadata": {},
   "source": [
    "## Summary table of the Infection rate, % (Number of infections / Total Census Population of Race) of different racial groups in Minnesota from March 2020 to April 2022 "
   ]
  },
  {
   "cell_type": "code",
   "execution_count": null,
   "metadata": {},
   "outputs": [],
   "source": [
    "# Dataframe showing infection rate\n",
    "race_percent_df = pd.DataFrame({'African American':[african_american_infection_percent],\n",
    "                     'Asian':[asian_infection_percent],\n",
    "                     'Caucasian American':[caucasian_infection_percent],\n",
    "                     'Hispanic':[hispanic_infection_percent],\n",
    "                     'Native American':[native_american_infection_percent],\n",
    "                     'Other':[other_infection_percent] \n",
    "                               })\n",
    "\n",
    "# Declare a list that is to be converted into a column\n",
    "# Dataframe showing infection rate\n",
    "State = ['Infection rate by race group']\n",
    "race_percent_df['Minnesota'] = State\n",
    "race_percent_df = race_percent_df.reindex(columns=['Minnesota', 'African American', 'Asian', 'Caucasian American', 'Hispanic',\n",
    "       'Native American', 'Other'])\n",
    "race_percent_df"
   ]
  },
  {
   "cell_type": "code",
   "execution_count": null,
   "metadata": {},
   "outputs": [],
   "source": [
    "# Dataframe showing infection rate or ratio by group (corrected by % population)\n",
    "\n",
    "race_percent_corrected_df = pd.DataFrame({'African American':[african_american_infection_percent_corrected],\n",
    "                     'Asian':[asian_infection_percent_corrected],\n",
    "                     'Caucasian American':[caucasian_infection_percent_corrected],\n",
    "                     'Hispanic':[hispanic_infection_percent_corrected],\n",
    "                     'Native American':[native_american_infection_percent_corrected],\n",
    "                     'Other':[other_infection_percent_corrected] \n",
    "                               })\n",
    "\n",
    "# Declare a list that is to be converted into a column\n",
    "# Dataframe showing infection rate or ratio by group (corrected by % population)\n",
    "State = ['Infection rate by race group']\n",
    "race_percent_corrected_df['Minnesota'] = State\n",
    "race_percent_corrected_df = race_percent_corrected_df.reindex(columns=['Minnesota', 'African American', 'Asian', 'Caucasian American', 'Hispanic',\n",
    "       'Native American', 'Other'])\n",
    "race_percent_corrected_df"
   ]
  },
  {
   "cell_type": "markdown",
   "metadata": {},
   "source": [
    "## Infection rate, % of Caucasian and Non-Caucasian in Minnesota from March 2020 to April 2022\n",
    "    a) Caucasian vs Non-caucasian"
   ]
  },
  {
   "cell_type": "code",
   "execution_count": null,
   "metadata": {},
   "outputs": [],
   "source": [
    "# Dataframe showing infection rate\n",
    "\n",
    "#Adding a column.\n",
    "# sum of non-caucasian columns\n",
    "# Create List of columns\n",
    "non_caucasian_list= ['African American', 'Asian',\n",
    "       'Hispanic', 'Native American', 'Other']\n",
    "\n",
    "race_percent_df['Non-Caucasian American'] = (race_percent_df[non_caucasian_list].sum(axis=1)) / 5\n",
    "race_percent_df\n",
    "race_percent_df = race_percent_df[['Minnesota', 'Caucasian American', 'Non-Caucasian American' ]]\n",
    "race_percent_df"
   ]
  },
  {
   "cell_type": "markdown",
   "metadata": {},
   "source": [
    "## Infection ratio (Infection rate / % population of race) of Caucasian and Non-Caucasian in Minnesota"
   ]
  },
  {
   "cell_type": "code",
   "execution_count": null,
   "metadata": {},
   "outputs": [],
   "source": [
    "# Dataframe showing infection rate or ratio by group (corrected by % population)\n",
    "\n",
    "#Adding a column.\n",
    "# sum of non-caucasian columns\n",
    "# Create List of columns\n",
    "non_caucasian_list= ['African American', 'Asian',\n",
    "       'Hispanic', 'Native American', 'Other']\n",
    "\n",
    "race_percent_corrected_df['Non-Caucasian American'] = non_caucasian_infection_ratio\n",
    "race_percent_corrected_df\n",
    "race_percent_summary_df = race_percent_corrected_df[['Minnesota', 'Caucasian American', 'Non-Caucasian American' ]]\n",
    "race_percent_summary_df"
   ]
  },
  {
   "cell_type": "markdown",
   "metadata": {},
   "source": [
    "## Hypothesis Test #1\n",
    "### $H_{0}$: Is the mean of the covid infection ratio of caucasian group equal to the mean of that of non-caucasian group?"
   ]
  },
  {
   "cell_type": "code",
   "execution_count": null,
   "metadata": {},
   "outputs": [],
   "source": [
    "# Select column of interests and merge.\n",
    "mn_pop_race_df = mn_pop_df[['County', 'African American', 'Asian', 'Caucasian', 'Native American', 'Hispanic', 'Other']]\n",
    "cdc_census_combined_df = pd.merge(comprehensive_df, mn_pop_race_df, on=['County'], how = \"outer\")\n",
    "cdc_census_clean_combined_df = cdc_census_combined_df.fillna(0)\n",
    "cdc_census_clean_combined_df"
   ]
  },
  {
   "cell_type": "code",
   "execution_count": null,
   "metadata": {},
   "outputs": [],
   "source": [
    "#converting all the rows to integer\n",
    "column_list = ['African American Infections', 'Asian Infections',\n",
    "       'Caucasian American Infections', 'Hispanic Infections',\n",
    "       'Native American Infections', 'Other Infections', 'African American',\n",
    "       'Asian', 'Caucasian', 'Native American', 'Hispanic', 'Other']\n",
    "\n",
    "for column in column_list:\n",
    "    cdc_census_clean_combined_df[column] = cdc_census_clean_combined_df[column].astype(int)"
   ]
  },
  {
   "cell_type": "code",
   "execution_count": null,
   "metadata": {},
   "outputs": [],
   "source": [
    "# african american population by county DATAFRAME\n",
    "cdc_census_clean_combined_african_american_df = cdc_census_clean_combined_df['African American']\n",
    "cdc_census_clean_combined_african_american_df\n"
   ]
  },
  {
   "cell_type": "code",
   "execution_count": null,
   "metadata": {},
   "outputs": [],
   "source": [
    "# Total racial Population by county DATAFRAME\n",
    "cdc_census_clean_combined_asian_df = cdc_census_clean_combined_df['Asian']\n",
    "cdc_census_clean_combined_caucasian_df = cdc_census_clean_combined_df['Caucasian']\n",
    "cdc_census_clean_combined_native_american_df = cdc_census_clean_combined_df['Native American']\n",
    "cdc_census_clean_combined_hispanic_df = cdc_census_clean_combined_df['Hispanic']\n",
    "cdc_census_clean_combined_other_df = cdc_census_clean_combined_df['Other']\n",
    "\n",
    "#total caucasian population by county DATAFRAME\n",
    "cdc_census_clean_combined_caucasian_df"
   ]
  },
  {
   "cell_type": "code",
   "execution_count": null,
   "metadata": {},
   "outputs": [],
   "source": [
    "# total population by county\n",
    "cdc_census_clean_combined_sum_df = (cdc_census_clean_combined_african_american_df + cdc_census_clean_combined_caucasian_df + cdc_census_clean_combined_asian_df + cdc_census_clean_combined_native_american_df + cdc_census_clean_combined_hispanic_df + cdc_census_clean_combined_other_df)\n",
    "cdc_census_clean_combined_sum_df"
   ]
  },
  {
   "cell_type": "code",
   "execution_count": null,
   "metadata": {},
   "outputs": [],
   "source": [
    "# total population by county for non-caucasian group\n",
    "cdc_census_clean_combined_sum_non_caucasian_df = (cdc_census_clean_combined_african_american_df + cdc_census_clean_combined_asian_df + cdc_census_clean_combined_native_american_df + cdc_census_clean_combined_hispanic_df + cdc_census_clean_combined_other_df)\n",
    "cdc_census_clean_combined_sum_non_caucasian_df"
   ]
  },
  {
   "cell_type": "code",
   "execution_count": null,
   "metadata": {},
   "outputs": [],
   "source": [
    "# number of infections by county non-caucasian group DATAFRAME\n",
    "african_american_infection_df = cdc_census_clean_combined_df['African American Infections']\n",
    "asian_infection_df = cdc_census_clean_combined_df['Asian Infections']\n",
    "native_american_infection_df = cdc_census_clean_combined_df[ 'Native American Infections']\n",
    "hispanic_infection_df = cdc_census_clean_combined_df['Hispanic Infections']\n",
    "other_infection_df = cdc_census_clean_combined_df['Other Infections']\n",
    "\n",
    "# number of infections by county caucasian group\n",
    "caucasian_infection_df = cdc_census_clean_combined_df['Caucasian American Infections']\n",
    "caucasian_infection_df"
   ]
  },
  {
   "cell_type": "code",
   "execution_count": null,
   "metadata": {},
   "outputs": [],
   "source": [
    "#SUM OF number of infections NON-CACUASIAN DATAFRAME\n",
    "sum_non_caucasian_infection_df = african_american_infection_df + asian_infection_df + native_american_infection_df + hispanic_infection_df + other_infection_df\n",
    "sum_non_caucasian_infection_df"
   ]
  },
  {
   "cell_type": "code",
   "execution_count": null,
   "metadata": {},
   "outputs": [],
   "source": [
    "# Population racial % by county\n",
    "#non-caucasian group\n",
    "county_asian_pop_percent = cdc_census_clean_combined_asian_df / cdc_census_clean_combined_sum_df\n",
    "county_african_american_pop_percent = cdc_census_clean_combined_african_american_df / cdc_census_clean_combined_sum_df\n",
    "county_native_american_pop_percent = cdc_census_clean_combined_native_american_df / cdc_census_clean_combined_sum_df\n",
    "county_hispanic_pop_percent = cdc_census_clean_combined_hispanic_df / cdc_census_clean_combined_sum_df\n",
    "county_other_pop_percent = cdc_census_clean_combined_asian_df / cdc_census_clean_combined_sum_df\n",
    "\n",
    "#SUM OF NON-CACUASIAN DATAFRAME\n",
    "sum_non_caucasian_pop_percent_df = county_asian_pop_percent + county_african_american_pop_percent + county_native_american_pop_percent + county_hispanic_pop_percent + county_other_pop_percent\n",
    "\n",
    "\n",
    "# caucasian group\n",
    "county_caucasian_pop_percent = cdc_census_clean_combined_caucasian_df / cdc_census_clean_combined_sum_df\n",
    "county_caucasian_pop_percent"
   ]
  },
  {
   "cell_type": "code",
   "execution_count": null,
   "metadata": {},
   "outputs": [],
   "source": [
    "# infection rate calculation non-caucasian group\n",
    "non_caucasian_infection_rate_corrected_df = (sum_non_caucasian_infection_df / cdc_census_clean_combined_sum_df) / sum_non_caucasian_pop_percent_df\n",
    "\n",
    "# infection rate calculation african american group\n",
    "african_american_infection_rate_corrected_df = (african_american_infection_df / cdc_census_clean_combined_sum_df) / county_african_american_pop_percent\n",
    "asian_infection_rate_corrected_df = (asian_infection_df / cdc_census_clean_combined_sum_df) / county_asian_pop_percent\n",
    "native_american_infection_rate_corrected_df = (native_american_infection_df / cdc_census_clean_combined_sum_df) / county_native_american_pop_percent\n",
    "hispanic_infection_rate_corrected_df = (hispanic_infection_df / cdc_census_clean_combined_sum_df) / county_hispanic_pop_percent\n",
    "other_infection_rate_corrected_df = (other_infection_df / cdc_census_clean_combined_sum_df) / county_other_pop_percent\n",
    "\n",
    "\n",
    "\n",
    "# number of infections by county caucasian group\n",
    "caucasian_infection_rate_corrected_df = (caucasian_infection_df / cdc_census_clean_combined_sum_df) / county_caucasian_pop_percent\n",
    "caucasian_infection_rate_corrected_df"
   ]
  },
  {
   "cell_type": "markdown",
   "metadata": {},
   "source": [
    "## Summary table of infection ratio (Infection rate / % population of race) of caucasian and non-caucasian groups by County"
   ]
  },
  {
   "cell_type": "code",
   "execution_count": null,
   "metadata": {},
   "outputs": [],
   "source": [
    "#filter to just show County column\n",
    "cdc_census_combined_summary_df = cdc_census_clean_combined_df[['County']]\n",
    "cdc_census_combined_summary_df\n",
    "\n",
    "\n",
    "cdc_census_combined_summary_df[  'Non-Caucasian infection ratio'  ] = non_caucasian_infection_rate_corrected_df\n",
    "cdc_census_combined_summary_df[  'Caucasian infection ratio'  ] = caucasian_infection_rate_corrected_df\n",
    "cdc_census_combined_summary_df"
   ]
  },
  {
   "cell_type": "code",
   "execution_count": null,
   "metadata": {},
   "outputs": [],
   "source": [
    "# Calculate the mean for infection rate of non-caucasian group\n",
    "non_caucasian_infection_rate_corrected = cdc_census_combined_summary_df['Non-Caucasian infection ratio'].fillna(0)\n",
    "non_caucasian_infection_rate_corrected.mean()\n",
    "# non_caucasian_infection_rate = cdc_census_combined_summary_df['Non-Caucasian infection rate'].to_numpy()\n",
    "# np.where(non_caucasian_infection_rate != np.nan)"
   ]
  },
  {
   "cell_type": "code",
   "execution_count": null,
   "metadata": {},
   "outputs": [],
   "source": [
    "# Calculate the mean for infection rate of caucasian group\n",
    "caucasian_infection_rate_corrected = cdc_census_combined_summary_df['Caucasian infection ratio']\n",
    "caucasian_infection_rate_corrected.mean()"
   ]
  },
  {
   "cell_type": "code",
   "execution_count": null,
   "metadata": {},
   "outputs": [],
   "source": [
    "# Calculate Independent (Two Sample) t-test\n",
    "st.ttest_ind(non_caucasian_infection_rate_corrected, caucasian_infection_rate_corrected, equal_var=False)\n",
    "\n",
    "# nan_policy=\"omit\""
   ]
  },
  {
   "cell_type": "code",
   "execution_count": null,
   "metadata": {},
   "outputs": [],
   "source": [
    "print (\"we safely reject the null hypothesis as the p-value is significantly lower than 0.05.\")"
   ]
  },
  {
   "cell_type": "markdown",
   "metadata": {},
   "source": [
    "## Hypothesis Test #2\n",
    "### ANOVA test\n",
    "### $H_{0}$: Is the mean of the covid infection ratio of each race group equal across the racial groups?"
   ]
  },
  {
   "cell_type": "code",
   "execution_count": null,
   "metadata": {},
   "outputs": [],
   "source": [
    "#dataframe showing infection rate by group (corrected by % population)\n",
    "\n",
    "county_list = ['ANOKA', 'BELTRAMI', 'BENTON', 'BLUE EARTH', 'CARLTON', 'CARVER',\n",
    "       'CHISAGO', 'CLAY', 'DAKOTA', 'GOODHUE', 'HENNEPIN', 'KANDIYOHI',\n",
    "       'LYON', 'MOWER', 'NICOLLET', 'NOBLES', 'OLMSTED', 'OTTER TAIL',\n",
    "       'PINE', 'POLK', 'RAMSEY', 'RICE', 'SCOTT', 'SHERBURNE',\n",
    "       'ST. LOUIS', 'STEARNS', 'STEELE', 'WASHINGTON', 'WINONA', 'WRIGHT',\n",
    "       'FREEBORN', 'ISANTI', 'BECKER', 'BROWN', 'CASS', 'CROW WING',\n",
    "       'DODGE', 'DOUGLAS', 'FILLMORE', 'HUBBARD', 'ITASCA', 'LE SUEUR',\n",
    "       'MCLEOD', 'MEEKER', 'MILLE LACS', 'MORRISON', 'TODD', 'WABASHA',\n",
    "       'BIG STONE', 'CHIPPEWA', 'WATONWAN', 'WADENA', 'CLEARWATER',\n",
    "       'COOK', 'COTTONWOOD', 'FARIBAULT', 'GRANT', 'HOUSTON', 'KANABEC',\n",
    "       'KOOCHICHING', 'LAC QUI PARLE', 'LAKE OF THE WOODS', 'MARSHALL',\n",
    "       'MARTIN', 'MURRAY', 'NORMAN', 'PENNINGTON', 'POPE', 'RED LAKE',\n",
    "       'REDWOOD', 'ROCK', 'SIBLEY', 'STEVENS', 'SWIFT', 'TRAVERSE',\n",
    "       'WASECA', 'WILKIN', 'YELLOW MEDICINE', 'AITKIN', 'JACKSON',\n",
    "       'KITTSON', 'LAKE', 'LINCOLN', 'MAHNOMEN', 'PIPESTONE', 'RENVILLE',\n",
    "       'ROSEAU']\n",
    "\n",
    "cdc_census_combined_allrace_summary_df = pd.DataFrame({'County': county_list,\n",
    "                     'African American': african_american_infection_rate_corrected_df,\n",
    "                     'Asian': asian_infection_rate_corrected_df,\n",
    "                     'Caucasian American': caucasian_infection_rate_corrected_df,\n",
    "                     'Hispanic': hispanic_infection_rate_corrected_df,\n",
    "                     'Native American': native_american_infection_rate_corrected_df,\n",
    "                     'Other': other_infection_rate_corrected_df \n",
    "                               })\n",
    "\n",
    "cdc_census_combined_allrace_summary_df"
   ]
  },
  {
   "cell_type": "code",
   "execution_count": null,
   "metadata": {},
   "outputs": [],
   "source": [
    "#declare groups\n",
    "group0 = african_american_infection_rate_corrected_df.fillna(0)\n",
    "group1 = asian_infection_rate_corrected_df.fillna(0)\n",
    "group2 = caucasian_infection_rate_corrected_df.fillna(0)\n",
    "group3 = hispanic_infection_rate_corrected_df.fillna(0)\n",
    "group4 = native_american_infection_rate_corrected_df.fillna(0)\n",
    "group5 = other_infection_rate_corrected_df.fillna(0)\n",
    "\n",
    "# group1 = asian_infection_rate_corrected_df.fillna(0).to_numpy()"
   ]
  },
  {
   "cell_type": "code",
   "execution_count": null,
   "metadata": {},
   "outputs": [],
   "source": [
    "#ANOVA test\n",
    "# Perform the ANOVA\n",
    "st.f_oneway(group0, group1, group2, group3, group4, group5)"
   ]
  },
  {
   "cell_type": "code",
   "execution_count": null,
   "metadata": {},
   "outputs": [],
   "source": [
    "#ANOVA test\n",
    "# Perform the ANOVA\n",
    "st.f_oneway(group0, group1, group2)"
   ]
  },
  {
   "cell_type": "code",
   "execution_count": null,
   "metadata": {},
   "outputs": [],
   "source": [
    "#ANOVA test\n",
    "# Perform the ANOVA\n",
    "st.f_oneway(group0, group2)"
   ]
  },
  {
   "cell_type": "code",
   "execution_count": null,
   "metadata": {},
   "outputs": [],
   "source": [
    "print (\"we safely reject the null hypothesis as the p-value is significantly lower than 0.05.\")\n",
    "print(\"mean of the covid infection rates are equal across the different racial groups.\")"
   ]
  },
  {
   "cell_type": "markdown",
   "metadata": {},
   "source": [
    "## Hypothesis Test #3\n",
    "### Poverty rate independent t-test\n",
    "### $H_{0}$: Are cities with higher in poverty impacted by covid-19 (mean) the same rate as the cities with lower in poverty (mean)"
   ]
  },
  {
   "cell_type": "code",
   "execution_count": null,
   "metadata": {},
   "outputs": [],
   "source": [
    "# Metro area counties\n",
    "merged_df['Metro-Non']=[\"Metro\" if (x==\"RAMSEY\" or x==\"DAKOTA\" or x==\"HENNEPIN\" or x==\"ANOKA\"\\\n",
    "    or x==\"SCOTT\" or x==\"WASHINGTON\" or x==\"CARVER\") else \"Non_Metro\" for x in merged_df['County']]\n",
    "merged_df_metro = merged_df[['Metro-Non', 'County', 'Two-Races', 'Population', 'Poverty', 'Infections', 'Poverty Rate', 'Infection Rate']]\n",
    "merged_df_metro.head(15)"
   ]
  },
  {
   "cell_type": "code",
   "execution_count": null,
   "metadata": {},
   "outputs": [],
   "source": [
    "merged_df_metro.head(10)"
   ]
  },
  {
   "cell_type": "code",
   "execution_count": null,
   "metadata": {},
   "outputs": [],
   "source": [
    "infection_poverty_rate_df = merged_df_metro['Poverty Rate'] * merged_df_metro['Infection Rate']\n",
    "infection_poverty_rate_df.head(10)"
   ]
  },
  {
   "cell_type": "code",
   "execution_count": null,
   "metadata": {},
   "outputs": [],
   "source": [
    "#Adding a column.\n",
    "# Create List of columns\n",
    "merged_df_metro['Infection poverty rate'] = infection_poverty_rate_df\n",
    "merged_df_metro.head(15)\n"
   ]
  },
  {
   "cell_type": "code",
   "execution_count": null,
   "metadata": {},
   "outputs": [],
   "source": [
    "merged_df_metro_group = merged_df_metro.groupby(['Metro-Non', 'Two-Races'])\n",
    "merged_df_metro_group = merged_df_metro_group.head()\n",
    "merged_df_metro_group"
   ]
  },
  {
   "cell_type": "code",
   "execution_count": null,
   "metadata": {},
   "outputs": [],
   "source": [
    "merged_df_metro_group_non_metro = merged_df_metro_group.loc[  merged_df_metro_group['Metro-Non'] == 'Non_Metro']\n",
    "merged_df_metro_group_non_metro = merged_df_metro_group_non_metro[['Metro-Non', 'Infection poverty rate']]\n",
    "merged_df_metro_group_non_metro"
   ]
  },
  {
   "cell_type": "code",
   "execution_count": null,
   "metadata": {},
   "outputs": [],
   "source": [
    "merged_df_metro_group_metro = merged_df_metro_group.loc[  merged_df_metro_group['Metro-Non'] == 'Metro']\n",
    "merged_df_metro_group_metro = merged_df_metro_group_metro[['Metro-Non', 'Infection poverty rate']]\n",
    "merged_df_metro_group_metro"
   ]
  },
  {
   "cell_type": "code",
   "execution_count": null,
   "metadata": {},
   "outputs": [],
   "source": [
    "# Calculate the mean for infection rate*poverty rate in metro\n",
    "metro_infection_poverty_rate = merged_df_metro_group_metro['Infection poverty rate'].fillna(0)\n",
    "metro_infection_poverty_rate.mean()\n",
    "# non_caucasian_infection_rate = cdc_census_combined_summary_df['Non-Caucasian infection rate'].to_numpy()\n",
    "# np.where(non_caucasian_infection_rate != np.nan)"
   ]
  },
  {
   "cell_type": "code",
   "execution_count": null,
   "metadata": {},
   "outputs": [],
   "source": [
    "# Calculate the mean for infection rate*poverty rate in metro\n",
    "non_metro_infection_poverty_rate = merged_df_metro_group_non_metro['Infection poverty rate'].fillna(0)\n",
    "non_metro_infection_poverty_rate.mean()"
   ]
  },
  {
   "cell_type": "code",
   "execution_count": null,
   "metadata": {},
   "outputs": [],
   "source": [
    "# Calculate Independent (Two Sample) t-test\n",
    "st.ttest_ind(metro_infection_poverty_rate, non_metro_infection_poverty_rate, equal_var=False)"
   ]
  },
  {
   "cell_type": "code",
   "execution_count": null,
   "metadata": {},
   "outputs": [],
   "source": [
    "print(\"We fail to reject the null hypothesis since p-value is higher than 0.05\")\n",
    "print(\"Cities with high poverty rate is certainly more impacted by Covid-19 infection rate.\")"
   ]
  },
  {
   "cell_type": "code",
   "execution_count": null,
   "metadata": {},
   "outputs": [],
   "source": []
  }
 ],
 "metadata": {
  "kernelspec": {
   "display_name": "PythonData38",
   "language": "python",
   "name": "pythondata38"
  },
  "language_info": {
   "codemirror_mode": {
    "name": "ipython",
    "version": 3
   },
   "file_extension": ".py",
   "mimetype": "text/x-python",
   "name": "python",
   "nbconvert_exporter": "python",
   "pygments_lexer": "ipython3",
   "version": "3.9.12"
  },
  "vscode": {
   "interpreter": {
    "hash": "31f2aee4e71d21fbe5cf8b01ff0e069b9275f58929596ceb00d14d90e3e16cd6"
   }
  }
 },
 "nbformat": 4,
 "nbformat_minor": 2
}
