{
 "cells": [
  {
   "cell_type": "markdown",
   "metadata": {},
   "source": [
    "### Gather dependencies"
   ]
  },
  {
   "cell_type": "code",
   "execution_count": null,
   "metadata": {},
   "outputs": [],
   "source": [
    "# Dependencies\n",
    "import pandas as pd\n",
    "import numpy as np\n",
    "import json\n",
    "import matplotlib\n",
    "# from sodapy import Socrata\n",
    "from config import census_key\n",
    "import pprint\n",
    "import requests\n",
    "import csv"
   ]
  },
  {
   "cell_type": "markdown",
   "metadata": {},
   "source": [
    "### Function for quickly calling a DataFrame"
   ]
  },
  {
   "cell_type": "code",
   "execution_count": null,
   "metadata": {},
   "outputs": [],
   "source": [
    "# Function for quickly assempling a DataFrame\n",
    "def json_to_dataframe(response):\n",
    "    return pd.DataFrame(response.json()[1:], columns=response.json()[0])"
   ]
  },
  {
   "cell_type": "markdown",
   "metadata": {},
   "source": [
    "### Create DataFrame for CDC Data"
   ]
  },
  {
   "cell_type": "code",
   "execution_count": null,
   "metadata": {},
   "outputs": [],
   "source": [
    "# CDC DataFrame by county in Minnesota\n",
    "cdc_data = pd.read_csv(\"../Project_1/cdc_data.csv\")\n",
    "cdc_data\n",
    "cdc_df = pd.DataFrame(cdc_data)\n",
    "# cdc_df.columns\n",
    "cdc_df = cdc_df[['case_month', 'res_state', 'res_county', 'age_group', 'sex', 'race', 'ethnicity', 'current_status']]\n",
    "cdc_df = cdc_df.rename(columns={\n",
    "    'case_month': 'Year-Month',\n",
    "    'res_state': 'State',\n",
    "    'res_county': 'County',\n",
    "    'age_group': 'Age Group',\n",
    "    'race': 'Race',\n",
    "    'sex': 'Sex',\n",
    "    'ethnicity': 'Ethnicity',\n",
    "    'current_status': 'Infection Status'\n",
    "})\n",
    "# Drop \"Unkown\" race from dataset\n",
    "cdc_df = cdc_df.loc[cdc_df['Race']!= 'Unknown',:]\n",
    "cdc_df['Infections'] = 1\n",
    "cdc_df['Race'] = cdc_df['Race'].replace('White', 'Caucasian')\n",
    "cdc_df['Race'] = cdc_df['Race'].replace('Black', 'African American')\n",
    "cdc_df['Race'] = cdc_df['Race'].replace('American Indian/Alaska Native', 'Native American')\n",
    "cdc_df['Race'] = cdc_df['Race'].replace('Multiple/Other', 'Other')\n",
    "\n",
    "cdc_df\n"
   ]
  },
  {
   "cell_type": "markdown",
   "metadata": {},
   "source": [
    "### Update race column. Replace caucasian with hispanic where ethnicity is hispanic"
   ]
  },
  {
   "cell_type": "code",
   "execution_count": null,
   "metadata": {},
   "outputs": [],
   "source": [
    "cdc_df['Race2'] = np.where(np.logical_and(cdc_df['Race'] == 'Caucasian', cdc_df['Ethnicity'] == 'Hispanic/Latino'), 'Hispanic', cdc_df['Race'])\n",
    "cdc_df = cdc_df[['Year-Month', 'State', 'County', 'Age Group', 'Sex', 'Race2', 'Ethnicity', 'Infection Status', 'Infections']]\n",
    "cdc_df"
   ]
  },
  {
   "cell_type": "markdown",
   "metadata": {},
   "source": [
    "### Drop NaN and compile totals by county and race"
   ]
  },
  {
   "cell_type": "code",
   "execution_count": null,
   "metadata": {},
   "outputs": [],
   "source": [
    "# Drop NaN\n",
    "cdc_group_df = cdc_df[['State', 'County', 'Age Group', 'Sex', 'Race2', 'Ethnicity', 'Infection Status', 'Infections']]\n",
    "cdc_group_df = cdc_group_df.dropna()\n",
    "\n",
    "# County totals by race\n",
    "cdc_total_group = cdc_group_df.groupby([\"County\", \"Race2\"])\n",
    "county_totals_df = cdc_total_group.sum()\n",
    "county_totals_df\n"
   ]
  },
  {
   "cell_type": "markdown",
   "metadata": {},
   "source": [
    "### Create poverty DataFrame based on US Census"
   ]
  },
  {
   "cell_type": "code",
   "execution_count": null,
   "metadata": {},
   "outputs": [],
   "source": [
    "# Poverty DataFrame By Race - 2020\n",
    "\n",
    "url = \"https://api.census.gov/data/2020/acs/acs5?get=NAME,B17001_002E,B17001A_002E,B17001B_002E,B17001C_002E,B17001D_002E,B17001E_002E,B17001F_002E,B17001G_002E,B17001H_002E,B17001I_002E&for=county:*&in=state:27&key={0}\".format(census_key)\n",
    "response = requests.request(\"GET\", url)\n",
    "response\n",
    "poverty_df = json_to_dataframe(response)\n",
    "\n",
    "# Split NAME into county & state\n",
    "name = poverty_df['NAME'].str.split(\",\", n=1, expand=True)\n",
    "COUNTY = poverty_df['County']=name[0]\n",
    "STATE = poverty_df['State']=name[1]\n",
    "poverty_df.drop(columns=[\"NAME\"], inplace=True)\n",
    "poverty_df['Caucasian2'] = poverty_df['B17001A_002E'].astype(int) - poverty_df['B17001I_002E'].astype(int)\n",
    "poverty_df['Other'] = poverty_df['B17001F_002E'].astype(int) + poverty_df['B17001G_002E'].astype(int)\n",
    "# Rename columns to something intelligible\n",
    "poverty_df = poverty_df[['County', 'State','B17001_002E','Caucasian2', 'B17001B_002E','B17001C_002E','B17001D_002E','B17001E_002E','Other','B17001I_002E']]\n",
    "\n",
    "poverty_df = poverty_df.rename(columns={\n",
    "    'B17001_002E':'Poverty Total',\n",
    "    'Caucasian2':'Caucasian',\n",
    "    'B17001B_002E':'African American',\n",
    "    'B17001C_002E':'Native American',\n",
    "    'B17001D_002E':'Asian',\n",
    "    'B17001E_002E':'Native Hawaiian',\n",
    "    'B17001I_002E':'Hispanic' \n",
    "    })\n",
    "\n",
    "# # Remove ...County from County in dataframe\n",
    "poverty_df['County'] = poverty_df['County'].replace('County', '', regex=True)\n",
    "\n",
    "# # Upper case for County\n",
    "poverty_df['County'] = poverty_df['County'].str.upper()\n",
    "\n",
    "poverty_df['Year'] = 2020\n",
    "poverty_df.to_csv(\"../Project_1/population_in_poverty.csv\")\n"
   ]
  },
  {
   "cell_type": "markdown",
   "metadata": {},
   "source": [
    "### Create population DataFrame by county and race"
   ]
  },
  {
   "cell_type": "code",
   "execution_count": null,
   "metadata": {},
   "outputs": [],
   "source": [
    "# Population by county, by race\n",
    "url = \"https://api.census.gov/data/2020/acs/acs5?get=NAME,B03002_001E,B03002_003E,B03002_004E,B03002_005E,B03002_006E,B03002_007E,B03002_008E,B03002_009E,B03002_012E&for=county:*&in=state:27&key={0}\".format(census_key)\n",
    "\n",
    "\n",
    "response = requests.request(\"GET\", url)\n",
    "response\n",
    "response_df = json_to_dataframe(response)\n",
    "response_df = response_df.rename(columns={\n",
    "    'B03002_001E': 'Population Total',\n",
    "    'B03002_003E': 'Caucasian',\n",
    "    'B03002_004E': 'African American',\n",
    "    'B03002_005E': 'Native American',\n",
    "    'B03002_006E': 'Asian',\n",
    "    'B03002_007E': 'Hawaiian',\n",
    "    'B03002_012E': 'Hispanic'\n",
    "})\n",
    "response_df['Other'] = response_df['B03002_008E'].astype(int) + response_df['B03002_009E'].astype(int)\n",
    "mn_pop_df = response_df\n",
    "\n",
    "# Split NAME into county & state\n",
    "name = mn_pop_df['NAME'].str.split(\",\", n=1, expand=True)\n",
    "COUNTY = mn_pop_df['County']=name[0]\n",
    "STATE = mn_pop_df['State']=name[1]\n",
    "mn_pop_df.drop(columns=[\"NAME\"], inplace=True)\n",
    "\n",
    "# # Remove ...County from County in dataframe\n",
    "mn_pop_df['County'] = mn_pop_df['County'].replace('County', '', regex=True)\n",
    "\n",
    "# # Upper case for County\n",
    "mn_pop_df['County'] = mn_pop_df['County'].str.upper()\n",
    "mn_pop_df = mn_pop_df[['County', 'Population Total', 'Caucasian', 'African American', 'Native American', 'Asian', 'Hawaiian', 'Hispanic', 'Other', 'State' ]]\n",
    "mn_pop_df.to_csv(\"../Project_1/mn_population by race.csv\")\n",
    "mn_pop_df\n"
   ]
  },
  {
   "cell_type": "markdown",
   "metadata": {},
   "source": [
    "### Coordinates for heat map -- if time permits"
   ]
  },
  {
   "cell_type": "code",
   "execution_count": null,
   "metadata": {},
   "outputs": [],
   "source": [
    "# Get the coordinates of counties in MN\n",
    "url = \"https://en.wikipedia.org/wiki/User:Michael_J/County_table\"\n",
    "\n",
    "table = pd.read_html(url)\n",
    "df = table[0]\n",
    "Counties = df.loc[df['State'] == \"MN\", : ]\n",
    "counties_df = Counties[['County [2]', 'Latitude', 'Longitude']]\n",
    "counties_df#.to_csv(\"../Project_1/county_geo.csv\")\n"
   ]
  },
  {
   "cell_type": "markdown",
   "metadata": {},
   "source": [
    "### County totals"
   ]
  },
  {
   "cell_type": "code",
   "execution_count": null,
   "metadata": {},
   "outputs": [],
   "source": [
    "county_totals_df"
   ]
  },
  {
   "cell_type": "markdown",
   "metadata": {},
   "source": [
    "### Merge CDC, population count, and poverty count"
   ]
  },
  {
   "cell_type": "code",
   "execution_count": null,
   "metadata": {},
   "outputs": [],
   "source": [
    "merged_df = pd.merge(mn_pop_df, poverty_df, how=\"left\", on=\"County\")\n",
    "del merged_df['State_x']\n",
    "del merged_df['State_y']\n",
    "merged_df = merged_df.rename(columns={\n",
    "    'Caucasian_x': 'Caucasian Pop',\n",
    "    'African American_x': 'African American Pop',\n",
    "    'Native American_x': 'Native American Pop',\n",
    "    'Hawaiian': 'Hawaiian Pop',\n",
    "    'Asian_x': 'Asian Pop',\n",
    "    'Hispanic_x': 'Hispanic Pop',\n",
    "    'Other_x': 'Other Pop',\n",
    "    'Caucasian_y': 'Caucasian Pov',\n",
    "    'African American_y': 'African American Pov',\n",
    "    'Native American_y': 'Native American Pov',\n",
    "    'Asian_y': 'Asian Pov',\n",
    "    'Native Hawaiian': 'Hawaiian Pov',\n",
    "    'Other_y': 'Other Pov',\n",
    "    'Hispanic_y': 'Hispanic Pov'\n",
    "})\n",
    "merged_df"
   ]
  },
  {
   "cell_type": "code",
   "execution_count": null,
   "metadata": {},
   "outputs": [],
   "source": []
  }
 ],
 "metadata": {
  "kernelspec": {
   "display_name": "PythonData38",
   "language": "python",
   "name": "pythondata38"
  },
  "language_info": {
   "codemirror_mode": {
    "name": "ipython",
    "version": 3
   },
   "file_extension": ".py",
   "mimetype": "text/x-python",
   "name": "python",
   "nbconvert_exporter": "python",
   "pygments_lexer": "ipython3",
   "version": "3.9.7"
  },
  "orig_nbformat": 4
 },
 "nbformat": 4,
 "nbformat_minor": 2
}
