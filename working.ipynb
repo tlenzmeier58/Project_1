{
 "cells": [
  {
   "cell_type": "markdown",
   "metadata": {},
   "source": [
    "## Tom's work starts here."
   ]
  },
  {
   "cell_type": "markdown",
   "metadata": {},
   "source": [
    "### Gather dependencies"
   ]
  },
  {
   "cell_type": "code",
   "execution_count": null,
   "metadata": {},
   "outputs": [],
   "source": [
    "# Dependencies\n",
    "import pandas as pd\n",
    "import numpy as np\n",
    "import json\n",
    "import matplotlib.pyplot as plt\n",
    "# from sodapy import Socrata\n",
    "from config import census_key\n",
    "import pprint\n",
    "import requests\n",
    "import csv\n",
    "import os"
   ]
  },
  {
   "cell_type": "markdown",
   "metadata": {},
   "source": [
    "### Function for quickly calling a DataFrame"
   ]
  },
  {
   "cell_type": "code",
   "execution_count": null,
   "metadata": {},
   "outputs": [],
   "source": [
    "# Function for quickly assempling a DataFrame\n",
    "def json_to_dataframe(response):\n",
    "    return pd.DataFrame(response.json()[1:], columns=response.json()[0])"
   ]
  },
  {
   "cell_type": "markdown",
   "metadata": {},
   "source": [
    "### Create DataFrame for CDC Data"
   ]
  },
  {
   "cell_type": "code",
   "execution_count": null,
   "metadata": {},
   "outputs": [],
   "source": [
    "cdc_data = pd.read_csv(\"../Project_1/cdc_data.csv\")\n",
    "cdc_data\n",
    "cdc_df = pd.DataFrame(cdc_data)\n",
    "cdc_df\n",
    "\n",
    "# Choose the columns we want and rename anything that isn't clear\n",
    "cdc_df = cdc_df[['case_month', 'res_state', 'res_county', 'age_group', 'sex', 'race', 'ethnicity', 'current_status']]\n",
    "cdc_df = cdc_df.rename(columns={\n",
    "    'res_state': 'State',\n",
    "    'res_county': 'County',\n",
    "    'ethnicity': 'Ethnicity',\n",
    "    'current_status': 'Infection Status',\n",
    "    'race':'Race'\n",
    "})\n",
    "\n",
    "# Drop \"Unkown\" race from dataset\n",
    "cdc_df = cdc_df.loc[cdc_df['Race']!= 'Unknown', :]\n",
    "\n",
    "# Set Infections to 1 and replace the various races with values that are compatible with the census data\n",
    "cdc_df['Infections'] = 1\n",
    "cdc_df['Race'] = cdc_df['Race'].replace('White', 'Caucasian')\n",
    "cdc_df['Race'] = cdc_df['Race'].replace('Black', 'African American')\n",
    "cdc_df['Race'] = cdc_df['Race'].replace('American Indian/Alaska Native', 'Native American')\n",
    "cdc_df['Race'] = cdc_df['Race'].replace('Multiple/Other', 'Other')\n",
    "cdc_df['Race'] = np.where(np.logical_and(cdc_df['Race'] == 'Caucasian', cdc_df['Ethnicity'] == 'Hispanic/Latino'), 'Hispanic', cdc_df['Race'])\n",
    "\n",
    "# NOTE: It's not clear what happens with Hawaiian here. \n",
    "\n",
    "cdc_df.head()"
   ]
  },
  {
   "cell_type": "markdown",
   "metadata": {},
   "source": [
    "### Drop NaN and compile totals by county and race"
   ]
  },
  {
   "cell_type": "code",
   "execution_count": null,
   "metadata": {},
   "outputs": [],
   "source": [
    "# Drop NaNs and then group by County and Race\n",
    "cdc_df = cdc_df.dropna(how='any')\n",
    "cdc_df = cdc_df[['County', 'Race', 'Infections']]\n",
    "cdc_grouped_county = cdc_df.groupby(['County', 'Race'])\n",
    "cdc_df = cdc_grouped_county.count()\n",
    "cdc_df.reset_index(inplace=True)\n",
    "cdc_df.head()"
   ]
  },
  {
   "cell_type": "markdown",
   "metadata": {},
   "source": [
    "### Create poverty DataFrame based on US Census"
   ]
  },
  {
   "cell_type": "code",
   "execution_count": null,
   "metadata": {},
   "outputs": [],
   "source": [
    "# Poverty DataFrame By Race - 2020\n",
    "\n",
    "url = \"https://api.census.gov/data/2020/acs/acs5?get=NAME,B17001_002E,B17001A_002E,B17001B_002E,B17001C_002E,B17001D_002E,B17001E_002E,B17001F_002E,B17001G_002E,B17001H_002E,B17001I_002E&for=county:*&in=state:27&key={0}\".format(census_key)\n",
    "response = requests.request(\"GET\", url)\n",
    "response\n",
    "poverty_df = json_to_dataframe(response)\n",
    "\n",
    "# Split NAME into county & state\n",
    "name = poverty_df['NAME'].str.split(\",\", n=1, expand=True)\n",
    "COUNTY = poverty_df['County'] = name[0]\n",
    "STATE = poverty_df['State'] = name[1]\n",
    "poverty_df.drop(columns=[\"NAME\"], inplace=True)\n",
    "poverty_df['Caucasian2'] = poverty_df['B17001A_002E'].astype(int) - poverty_df['B17001I_002E'].astype(int)\n",
    "poverty_df['Other'] = poverty_df['B17001F_002E'].astype(int) + poverty_df['B17001G_002E'].astype(int)\n",
    "\n",
    "# Get the columns we want\n",
    "poverty_df = poverty_df[['County', 'State','B17001_002E','Caucasian2', 'B17001B_002E','B17001C_002E','B17001D_002E','B17001E_002E','Other','B17001I_002E']]\n",
    "\n",
    "# Rename columns to something intelligible\n",
    "poverty_df = poverty_df.rename(columns={\n",
    "    'B17001_002E':'Poverty Total',\n",
    "    'Caucasian2':'Caucasian',\n",
    "    'B17001B_002E':'African American',\n",
    "    'B17001C_002E':'Native American',\n",
    "    'B17001D_002E':'Asian',\n",
    "    'B17001E_002E':'Hawaiian', # I had to change this from Native Hawaiian to Hawaiian for compatibility with the rest - Dom\n",
    "    'B17001I_002E':'Hispanic' \n",
    "    })\n",
    "\n",
    "# # Remove ...County from County in dataframe\n",
    "poverty_df['County'] = poverty_df['County'].replace('County', '', regex=True)\n",
    "# NOTE: The line above accidentally leaves a blank space at the end of these county names! That space caused a merge to fail\n",
    "# on any of these counties because, for example, \"AITKIN \" is not the same as \"AITKIN\". \n",
    "\n",
    "# Remove any blank space that may be present at the begining or end of the county name\n",
    "poverty_df['County'] = poverty_df['County'].str.strip()\n",
    "\n",
    "# And then convert the county name to uppercase\n",
    "poverty_df['County'] = poverty_df['County'].str.upper()\n",
    "\n",
    "poverty_df['Year'] = 2020\n",
    "#poverty_df.to_csv(\"../Project_1/population_in_poverty.csv\")\n",
    "poverty_df.head()"
   ]
  },
  {
   "cell_type": "code",
   "execution_count": null,
   "metadata": {},
   "outputs": [],
   "source": [
    "# Choose only the columns we need\n",
    "poverty_df = poverty_df[['County', 'Caucasian', 'African American', 'Native American', 'Asian', 'Hawaiian', 'Other', 'Hispanic']]\n",
    "poverty_df.head()"
   ]
  },
  {
   "cell_type": "code",
   "execution_count": null,
   "metadata": {},
   "outputs": [],
   "source": [
    "# Use melt to convert this into a format similar to the CDC data\n",
    "poverty_df = poverty_df.melt(id_vars='County', value_vars=['Caucasian', 'African American', 'Native American', 'Asian', \\\n",
    "                                                    'Hawaiian', 'Other', 'Hispanic'], \\\n",
    "                                                     var_name='Race', value_name='Poverty')\n",
    "poverty_gb = poverty_df.groupby(['County', 'Race'])\n",
    "poverty_df = poverty_gb.sum()\n",
    "poverty_df.reset_index(inplace=True)\n",
    "poverty_df.head()"
   ]
  },
  {
   "cell_type": "markdown",
   "metadata": {},
   "source": [
    "### Create population DataFrame by county and race"
   ]
  },
  {
   "cell_type": "code",
   "execution_count": null,
   "metadata": {},
   "outputs": [],
   "source": [
    "# Population by county, by race\n",
    "url = \"https://api.census.gov/data/2020/acs/acs5?get=NAME,B03002_001E,B03002_003E,B03002_004E,B03002_005E,B03002_006E,B03002_007E,B03002_008E,B03002_009E,B03002_012E&for=county:*&in=state:27&key={0}\".format(census_key)\n",
    "\n",
    "\n",
    "response = requests.request(\"GET\", url)\n",
    "response\n",
    "response_df = json_to_dataframe(response)\n",
    "response_df = response_df.rename(columns={\n",
    "    'B03002_001E': 'Population Total',\n",
    "    'B03002_003E': 'Caucasian',\n",
    "    'B03002_004E': 'African American',\n",
    "    'B03002_005E': 'Native American',\n",
    "    'B03002_006E': 'Asian',\n",
    "    'B03002_007E': 'Hawaiian',\n",
    "    'B03002_012E': 'Hispanic'\n",
    "})\n",
    "response_df['Other'] = response_df['B03002_008E'].astype(int) + response_df['B03002_009E'].astype(int)\n",
    "mn_pop_df = response_df\n",
    "\n",
    "# Split NAME into county & state\n",
    "name = mn_pop_df['NAME'].str.split(\",\", n=1, expand=True)\n",
    "COUNTY = mn_pop_df['County']=name[0]\n",
    "STATE = mn_pop_df['State']=name[1]\n",
    "mn_pop_df.drop(columns=[\"NAME\"], inplace=True)\n",
    "\n",
    "# # Remove ...County from County in dataframe\n",
    "mn_pop_df['County'] = mn_pop_df['County'].replace('County', '', regex=True)\n",
    "# NOTE: The line above accidentally leaves a blank space at the end of these county names! That space caused a merge to fail\n",
    "# on any of these counties because, for example, \"AITKIN \" is not the same as \"AITKIN\". \n",
    "\n",
    "# Remove any blank space that may be present at the begining or end of the county name\n",
    "mn_pop_df['County'] = mn_pop_df['County'].str.strip()\n",
    "\n",
    "# # Upper case for County\n",
    "mn_pop_df['County'] = mn_pop_df['County'].str.upper()\n",
    "mn_pop_df = mn_pop_df[['County', 'Population Total', 'Caucasian', 'African American', 'Native American', 'Asian', 'Hawaiian', 'Hispanic', 'Other']]\n",
    "mn_pop_df.to_csv(\"../Project_1/mn_population by race.csv\")\n",
    "mn_pop_df.head()\n"
   ]
  },
  {
   "cell_type": "markdown",
   "metadata": {},
   "source": [
    "### Coordinates for heat map -- if time permits"
   ]
  },
  {
   "cell_type": "code",
   "execution_count": null,
   "metadata": {},
   "outputs": [],
   "source": [
    "# # Get the coordinates of counties in MN\n",
    "# url = \"https://en.wikipedia.org/wiki/User:Michael_J/County_table\"\n",
    "\n",
    "# table = pd.read_html(url)\n",
    "# df = table[0]\n",
    "# Counties = df.loc[df['State'] == \"MN\", : ]\n",
    "# counties_df = Counties[['County [2]', 'Latitude', 'Longitude']]\n",
    "# counties_df#.to_csv(\"../Project_1/county_geo.csv\")  "
   ]
  },
  {
   "cell_type": "code",
   "execution_count": null,
   "metadata": {},
   "outputs": [],
   "source": [
    "# Choose only the columns we need\n",
    "mn_pop_df = mn_pop_df[['County', 'Caucasian', 'African American', 'Native American', 'Asian', 'Hawaiian', 'Other', 'Hispanic']]\n",
    "mn_pop_df.head()"
   ]
  },
  {
   "cell_type": "code",
   "execution_count": null,
   "metadata": {},
   "outputs": [],
   "source": [
    "# Use melt to convert this into a format similar to the CDC data\n",
    "pop_df = mn_pop_df.melt(id_vars='County', value_vars=['Caucasian', 'African American', 'Native American', 'Asian', \\\n",
    "                                                      'Hawaiian', 'Other', 'Hispanic'], \\\n",
    "                                                      var_name='Race', value_name='Population')\n",
    "pop_gb = pop_df.groupby(['County', 'Race'])\n",
    "pop_df = pop_gb.sum()\n",
    "pop_df.reset_index(inplace=True)\n",
    "pop_df.head()"
   ]
  },
  {
   "cell_type": "markdown",
   "metadata": {},
   "source": [
    "### Merge the datasets"
   ]
  },
  {
   "cell_type": "code",
   "execution_count": null,
   "metadata": {},
   "outputs": [],
   "source": [
    "merged_df = pd.merge(pop_df, poverty_df, on=['County', 'Race'])\n",
    "merged_df = pd.merge(merged_df, cdc_df, on=['County', 'Race'])\n",
    "merged_df.head()"
   ]
  },
  {
   "cell_type": "code",
   "execution_count": null,
   "metadata": {},
   "outputs": [],
   "source": [
    "# Edited merge_df for nan infections to be 0\n",
    "merged_df = pd.merge(pop_df, poverty_df, on=['County', 'Race'])\n",
    "merged_df = pd.merge(merged_df, cdc_df, on=['County', 'Race'], how = \"left\")\n",
    "merged_df[\"Infections\"] = merged_df[\"Infections\"].fillna(0)\n",
    "merged_df\n",
    "\n",
    "# Convert all numerical values in merged_df from strings to int\n",
    "merged_df[\"Population\"] = merged_df[\"Population\"].astype(int)\n",
    "merged_df[\"Poverty\"] = merged_df[\"Poverty\"].astype(int)\n",
    "merged_df[\"Infections\"] = merged_df[\"Infections\"].astype(int)\n",
    "\n",
    "# Calculate poverty and infection rates\n",
    "poverty_rate = []\n",
    "infection_rate = []\n",
    "\n",
    "i = 0\n",
    "while i < len(merged_df):\n",
    "    if merged_df[\"Population\"][i] == 0:\n",
    "        poverty_rate.append(0)\n",
    "        infection_rate.append(0)\n",
    "    else: \n",
    "        poverty_rate.append(merged_df[\"Poverty\"][i] / merged_df[\"Population\"][i])\n",
    "        infection_rate.append(merged_df[\"Infections\"][i] / merged_df[\"Population\"][i])\n",
    "    i += 1\n",
    "    \n",
    "merged_df[\"Poverty Rate\"] = poverty_rate\n",
    "merged_df[\"Infection Rate\"] = infection_rate\n",
    "\n",
    "# merged_df[merged_df[\"County\"] == \"CROW WING\"]    \n",
    "merged_df.head()"
   ]
  },
  {
   "cell_type": "code",
   "execution_count": null,
   "metadata": {},
   "outputs": [],
   "source": [
    "# Convert all non-caucasian races to \"non-caucasian\"\n",
    "#non_caucasian = ['African American', 'Hispanic', 'Asian', 'Native American', 'Hawaiian', 'Other']\n",
    "merged_df['Two-Races']=[\"Non-Caucasian\" if (x==\"African American\" or x==\"Asian\" or x==\"Hispanic\" or x==\"Native American\"\\\n",
    "    or x==\"Hawaiian\" or x==\"Other\") else \"Caucasian\" for x in merged_df['Race']]\n",
    "merged_df.head()"
   ]
  },
  {
   "cell_type": "code",
   "execution_count": null,
   "metadata": {},
   "outputs": [],
   "source": [
    "# Metro area counties\n",
    "merged_df['Metro-Non']=[\"Metro\" if (x==\"RAMSEY\" or x==\"DAKOTA\" or x==\"HENNEPIN\" or x==\"ANOKA\"\\\n",
    "    or x==\"SCOTT\" or x==\"WASHINGTON\" or x==\"CARVER\") else \"Non_Metro\" for x in merged_df['County']]\n",
    "merged_df_metro = merged_df[['Metro-Non', 'County', 'Two-Races', 'Population', 'Poverty', 'Infections']]\n",
    "merged_df_metro.head()"
   ]
  },
  {
   "cell_type": "code",
   "execution_count": null,
   "metadata": {},
   "outputs": [],
   "source": [
    "race_df = merged_df_metro[['Two-Races', 'Population']].groupby(['Two-Races'])\n",
    "race_df.sum().reset_index()\n",
    "\n",
    "metro_df = merged_df_metro[['Metro-Non', 'Population']].groupby(['Metro-Non'])\n",
    "metro_df.sum().reset_index()"
   ]
  },
  {
   "cell_type": "code",
   "execution_count": null,
   "metadata": {},
   "outputs": [],
   "source": [
    "two_races_df = merged_df[['County', 'Two-Races', 'Population', 'Poverty', 'Infections']]\n",
    "two_races_df.head()"
   ]
  },
  {
   "cell_type": "code",
   "execution_count": null,
   "metadata": {},
   "outputs": [],
   "source": [
    "# pd.set_option('mode.chained_assignment', None)\n",
    "# poverty_rate = []\n",
    "# infection_rate = []\n",
    "\n",
    "# i = 0\n",
    "# while i < len(two_races_df):\n",
    "#     if two_races_df[\"Population\"][i] == 0:\n",
    "#         poverty_rate.append(0)\n",
    "#         infection_rate.append(0)\n",
    "#     else: \n",
    "#         poverty_rate.append(two_races_df[\"Poverty\"][i] / two_races_df[\"Population\"][i])\n",
    "#         infection_rate.append(two_races_df[\"Infections\"][i] / two_races_df[\"Population\"][i])\n",
    "#     i += 1\n",
    "    \n",
    "# two_races_df[\"Poverty Rate\"] = poverty_rate\n",
    "# two_races_df[\"Infection Rate\"] = infection_rate"
   ]
  },
  {
   "cell_type": "code",
   "execution_count": null,
   "metadata": {},
   "outputs": [],
   "source": [
    "# caucasian = two_races_df.loc[two_races_df['Two-Races'] == 'Caucasian']\n",
    "\n",
    "# # Population, poverty, and infection totals\n",
    "# row_sum = two_races_df.iloc[:,2:5].sum()\n",
    "\n",
    "# two_races_df.loc['Total'] = row_sum\n",
    "# two_races_df.fillna('')\n",
    "# two_races_df.loc['Total', 'County']=''\n",
    "# two_races_df.loc['Total', 'Two-Races'] = ''\n",
    "# two_races_df.loc['Total', 'Poverty Rate'] = ''\n",
    "# two_races_df.loc['Total', 'Infection Rate'] = ''\n",
    "# two_races_df"
   ]
  },
  {
   "cell_type": "markdown",
   "metadata": {},
   "source": [
    "# Mauvonte's Code Starts Here"
   ]
  },
  {
   "cell_type": "code",
   "execution_count": null,
   "metadata": {},
   "outputs": [],
   "source": [
    "#Mean and Median\n",
    "mean_df = merged_df.groupby('Race').mean()\n",
    "mean_df.reset_index()"
   ]
  },
  {
   "cell_type": "code",
   "execution_count": null,
   "metadata": {},
   "outputs": [],
   "source": [
    "#find quartiles and upper, lower bound, outliers\n",
    "\n",
    "def boxplot(race):\n",
    "    covid_box = merged_df.loc[merged_df['Race'] == race]['Infections']\n",
    "    quartiles = covid_box.quantile([.25,.5,.75])\n",
    "    lowerq = quartiles[0.25]\n",
    "    upperq = quartiles[0.75]\n",
    "    iqr = upperq - lowerq\n",
    "    lower_bound = lowerq - (1.5 * iqr)\n",
    "    upper_bound = upperq + (1.5 * iqr)\n",
    "    outliers = covid_box.loc[(covid_box < lower_bound) | (covid_box > upper_bound)]\n",
    "    print(outliers)\n",
    "    return covid_box\n",
    "\n",
    "\n",
    "race_1 = boxplot('African American')\n",
    "race_2 = boxplot('Caucasian')\n",
    "race_3 = boxplot('Asian')\n",
    "race_4 = boxplot('Hispanic')\n",
    "race_5 = boxplot('American Indian/Alaskan Native')\n",
    "race_6 = boxplot('Hawaiian')\n",
    "race_7 = boxplot('Other')\n",
    "\n",
    "plt.boxplot([race_1, race_2, race_3, race_4, race_5, race_6, race_7], labels=['Black', 'White', 'Asian', 'Hispanic', 'American Indian/Alaskan Native', 'Hawaiian', 'Other'])\n",
    "plt.ylabel('Infection by Counties')\n",
    "plt.title('Covid Results Based on Ethnicity in Minnensota')\n",
    "plt.xticks(rotation=90)\n",
    "plt.show()\n"
   ]
  },
  {
   "cell_type": "markdown",
   "metadata": {},
   "source": [
    "# Putting stat summary into dataframe\n"
   ]
  },
  {
   "cell_type": "code",
   "execution_count": null,
   "metadata": {},
   "outputs": [],
   "source": [
    "# Statistics by county\n",
    "#lief's groupby\n",
    "merged_county_gb = merged_df.groupby([\"County\"])\n",
    "\n",
    "county_pop_stats = merged_county_gb[\"Population\"].agg([\"max\", \"min\", \"mean\", np.median, \"var\", \"std\", \"sem\"])\n",
    "county_pov_stats = merged_county_gb[\"Poverty\"].agg([\"max\", \"min\", \"mean\", np.median, \"var\", \"std\", \"sem\"])\n",
    "county_inf_stats = merged_county_gb[\"Infections\"].agg([\"max\", \"min\", \"mean\", np.median, \"var\", \"std\", \"sem\"])\n",
    "county_pov_rate_stats = merged_county_gb[\"Poverty Rate\"].agg([\"max\", \"min\", \"mean\", np.median, \"var\", \"std\", \"sem\"])\n",
    "county_inf_rate_stats = merged_county_gb[\"Infection Rate\"].agg([\"max\", \"min\", \"mean\", np.median, \"var\", \"std\", \"sem\"])"
   ]
  },
  {
   "cell_type": "code",
   "execution_count": null,
   "metadata": {},
   "outputs": [],
   "source": [
    "# county_inf_rate_stats.T"
   ]
  },
  {
   "cell_type": "code",
   "execution_count": null,
   "metadata": {},
   "outputs": [],
   "source": [
    "# merge the county_pov_stats df with county_pove_rate_stats\n",
    "merged_county_pov_stats_df = pd.merge(county_pov_stats, county_pov_rate_stats, on='County',  how='inner')\n",
    "\n",
    "#rename columns\n",
    "col_names = {'max_x':'Cty_Pov_Stats_Max',\n",
    "            'min_x' :'Cty_Pov_Stats_Min',\n",
    "            'mean_x' :'Cty_Pov_Stats_Mean',\n",
    "            'median_x':'Cty_Pov_Stats_Median',\n",
    "            'var_x':'Cty_Pov_Stats_Variance',\n",
    "            'std_x':'Cty_Pov_Stats_Std',\n",
    "            'sem_x':'Cty_Pov_Stats_SEM',\n",
    "            'max_y':'Cty_Pov_Rate_Max',\n",
    "            'min_y':'Cty_Pov_Rate_Min',\n",
    "            'mean_y':'Cty_Pov_Rate_Mean',\n",
    "            'median_y':'Cty_Pov_Rate_Median',\n",
    "            'var_y':'Cty_Pov_Rate_Variance',\n",
    "            'std_y':'Cty_Pov_Rate_Std',\n",
    "            'sem_y':'Cty_Pov_Rate_SEM'}\n",
    "\n",
    "merged_county_pov_stats_df = merged_county_pov_stats_df.rename(columns=col_names)\n",
    "#merged_county_pov_stats_df"
   ]
  },
  {
   "cell_type": "code",
   "execution_count": null,
   "metadata": {},
   "outputs": [],
   "source": [
    "#merge county_inf_stats df with county_inf_rate_stats \n",
    "\n",
    "merged_county_inf_stats_df = pd.merge(county_inf_stats, county_inf_rate_stats, on='County', how='inner')\n",
    "\n",
    "#rename columns\n",
    "\n",
    "col_names2 = {\n",
    "            'max_x':'Cty_Infect_Stats_Max',\n",
    "            'min_x':'Cty_Infect_Stats_Min',\n",
    "            'mean_x':'Cty_Infect_Stats_Mean',\n",
    "            'median_x':'Cty_Infect_Stats_Median',\n",
    "            'var_x':'Cty_Infect_Stats_Variance',\n",
    "            'std_x':'Cty_Infect_Stats_Std',\n",
    "            'sem_x':'Cty_Infect_Stats_SEM',\n",
    "            'max_y':'Cty_Infect_Rate_Max',\n",
    "            'min_y':'Cty_Infect_Rate_Min',\n",
    "            'mean_y':'Cty_Infect_Rate_Mean',\n",
    "            'median_y':'Cty_Infect_Rate_Median',\n",
    "            'var_y':'Cty_Infect_Rate_Variance',\n",
    "            'std_y':'Cty_Infect_Rate_Std',\n",
    "            'sem_y':'Cty_Infect_Rate_SEM'}\n",
    "\n",
    "merged_county_inf_stats_df = merged_county_inf_stats_df.rename(columns=col_names2)\n",
    "#merged_county_inf_stats_df"
   ]
  },
  {
   "cell_type": "code",
   "execution_count": null,
   "metadata": {},
   "outputs": [],
   "source": [
    "#merge both df containing the county poverty and county infection\n",
    "merged_pov_inf_df = pd.merge(merged_county_inf_stats_df, merged_county_pov_stats_df, on='County', how='left')\n",
    "#merged_pov_inf_df"
   ]
  },
  {
   "cell_type": "code",
   "execution_count": null,
   "metadata": {},
   "outputs": [],
   "source": [
    "#merge the merged_pov_inf_df with county_pop_stats\n",
    "merged_county_data = pd.merge(merged_pov_inf_df, county_pop_stats, on='County', how='left')\n",
    "#rename population columns\n",
    "col_names3 = {\n",
    "            'max':'Cty_Population_Max',\n",
    "            'min':'Cty_Population_Min',\n",
    "            'mean':'Cty_Population_Mean',\n",
    "            'median':'Cty_Population_Median',\n",
    "            'var': 'Cty_Population_Variance',\n",
    "            'std': 'Cty_Population_Std',\n",
    "            'sem': 'Cty_Population_SEM',\n",
    "            }\n",
    "merged_county_data = merged_county_data.rename(columns=col_names3)\n",
    "merged_county_data"
   ]
  },
  {
   "cell_type": "code",
   "execution_count": null,
   "metadata": {},
   "outputs": [],
   "source": [
    "# Statistics by race\n",
    "\n",
    "merged_race_gb = merged_df.groupby([\"Race\"])\n",
    "\n",
    "race_pop_stats = merged_race_gb[\"Population\"].agg([\"max\", \"min\", \"mean\", np.median, \"var\", \"std\", \"sem\"])\n",
    "race_pov_stats = merged_race_gb[\"Poverty\"].agg([\"max\", \"min\", \"mean\", np.median, \"var\", \"std\", \"sem\"])\n",
    "race_inf_stats = merged_race_gb[\"Infections\"].agg([\"max\", \"min\", \"mean\", np.median, \"var\", \"std\", \"sem\"])\n",
    "race_pov_rate_stats = merged_race_gb[\"Poverty Rate\"].agg([\"max\", \"min\", \"mean\", np.median, \"var\", \"std\", \"sem\"])\n",
    "race_inf_rate_stats = merged_race_gb[\"Infection Rate\"].agg([\"max\", \"min\", \"mean\", np.median, \"var\", \"std\", \"sem\"])"
   ]
  },
  {
   "cell_type": "code",
   "execution_count": null,
   "metadata": {},
   "outputs": [],
   "source": [
    "#merge race poverty df's \n",
    "merged_race_pov_stats = pd.merge(race_pov_stats, race_pov_rate_stats, on='Race', how='inner')\n",
    "rc_names = {\n",
    "            'max_x':'Race_Poverty_Max',\n",
    "            'min_x':'Race_Poverty_Min',\n",
    "            'mean_x':'Race_Poverty_Mean',\n",
    "            'median_x':'Race_Poverty_Median',\n",
    "            'var_x': 'Race_Poverty_Variance',\n",
    "            'std_x': 'Race_Poverty_Std',\n",
    "            'sem_x': 'Race_Poverty_SEM',\n",
    "            'max_y': 'Race_Poverty_Rate_Max',\n",
    "            'min_y': 'Race_Poverty_Rate_Min',\n",
    "            'mean_y': 'Race_Poverty_Rate_Mean',\n",
    "            'median_y': 'Race_Poverty_Rate_Median',\n",
    "            'var_y': 'Race_Poverty_Rate_Variance',\n",
    "            'std_y': 'Race_Poverty_Rate_Std',\n",
    "            'sem_y': 'Race_Poverty_Rate_SEM'\n",
    "            }\n",
    "merged_race_pov_stats = merged_race_pov_stats.rename(columns=rc_names)\n",
    "merged_race_pov_stats"
   ]
  },
  {
   "cell_type": "code",
   "execution_count": null,
   "metadata": {},
   "outputs": [],
   "source": [
    "#merge infection df's\n",
    "merged_race_inf_stats = pd.merge(race_inf_stats,race_inf_rate_stats, on='Race', how='inner')\n",
    "#rename columns\n",
    "rc_names2 = {\n",
    "            'max_x':'Race_Infect_Max',\n",
    "            'min_x':'Race_Infect_Min',\n",
    "            'mean_x':'Race_Infect_Mean',\n",
    "            'median_x':'Race_Infect_Median',\n",
    "            'var_x':'Race_Infect_Variance',\n",
    "            'std_x':'Race_Infect_Std',\n",
    "            'sem_x':'Race_Infect_SEM',\n",
    "            'max_y':'Race_Infect_Rate_Max',\n",
    "            'min_y':'Race_Infect_Rate_Min',\n",
    "            'mean_y':'Race_Infect_Rate_Mean',\n",
    "            'median_y':'Race_Infect_Rate_Median',\n",
    "            'var_y':'Race_Infect_Rate_Variance',\n",
    "            'std_y':'Race_Infect_Rate_Std',\n",
    "            'sem_y':'Race_Infect_Rate_SEM'\n",
    "            }\n",
    "\n",
    "merged_race_inf_stats = merged_race_inf_stats.rename(columns=rc_names2)\n",
    "merged_race_inf_stats"
   ]
  },
  {
   "cell_type": "code",
   "execution_count": null,
   "metadata": {},
   "outputs": [],
   "source": [
    "#merge race infect df's with race poverty df's\n",
    "merged_race_pov_inf = pd.merge(merged_race_inf_stats, merged_race_pov_stats, on='Race', how='left')\n",
    "merged_race_pov_inf"
   ]
  },
  {
   "cell_type": "code",
   "execution_count": null,
   "metadata": {},
   "outputs": [],
   "source": [
    "#merge previous df with race pop df\n",
    "merged_race_data = pd.merge(merge_race_pov_inf, race_pop_stats, on='Race', how='left')\n",
    "#rename population columns\n",
    "rc_names3 = {\n",
    "            'max':'Race_Pop_Max',\n",
    "            'min':'Race_Pop_Min',\n",
    "            'mean':'Race_Pop_Mean',\n",
    "            'median':'Race_Pop_Median',\n",
    "            'var':'Race_Pop_Variance',\n",
    "            'std':'Race_Pop_Std',\n",
    "            'sem':'Race_Pop_SEM'\n",
    "            }\n",
    "merged_race_data = merged_race_pov_inf_pop.rename(columns=rc_names3)\n",
    "merged_race_data\n"
   ]
  },
  {
   "cell_type": "code",
   "execution_count": null,
   "metadata": {},
   "outputs": [],
   "source": [
    "#merge both race data and county data\n",
    "\n",
    "county_race_df = pd.merge(merged_county_data, merged_race_pov_inf_pop, left_on=['County'] , right_on=['Race'], how='outer')\n",
    "county_race_df.T"
   ]
  },
  {
   "cell_type": "markdown",
   "metadata": {},
   "source": [
    "## Mai's Code starts Here"
   ]
  },
  {
   "cell_type": "markdown",
   "metadata": {},
   "source": [
    "### Bar Charts on Race and Poverty"
   ]
  },
  {
   "cell_type": "code",
   "execution_count": null,
   "metadata": {},
   "outputs": [],
   "source": [
    "# Generate a bar plot showing the total population of race groups, poverty and analyzing the differences of each groups for the merged dataframe\n",
    "bar_plot_data = merged_df.groupby(['Race']).sum()[\"Poverty\"]\n",
    "plt.title(\"The Number of People in Poverty in Minnesota\")\n",
    "plt.xlabel(\"Race\")\n",
    "plt.ylabel(\"Poverty\")\n",
    "bar_plot_data.plot.bar(figsize=(8,5),color=('red'), rot=45)"
   ]
  },
  {
   "cell_type": "code",
   "execution_count": null,
   "metadata": {},
   "outputs": [],
   "source": [
    "plot_df = merged_df.groupby(['Race']).sum()\n",
    "plot_df"
   ]
  },
  {
   "cell_type": "code",
   "execution_count": null,
   "metadata": {},
   "outputs": [],
   "source": [
    "max_pop = plot_df['Population'].max()\n",
    "max_pop"
   ]
  },
  {
   "cell_type": "code",
   "execution_count": null,
   "metadata": {},
   "outputs": [],
   "source": [
    "# Generate a bar chart to show the max population, poverty and infections of each race in MN\n",
    "plot_df[['Population','Poverty','Infections']].plot.bar(figsize=(10,15))\n",
    "plt.xlabel(\"Race\")\n",
    "plt.ylabel(\"Population (in millions)\")"
   ]
  },
  {
   "cell_type": "code",
   "execution_count": null,
   "metadata": {},
   "outputs": [],
   "source": [
    "# Generate a 3 bar chart to show poverty rate and infection rate for each of the race in MN\n",
    "plot_df[['Poverty Rate','Infection Rate']].plot.bar(figsize=(10,15))\n",
    "plt.xlabel(\"Race\")\n",
    "plt.ylabel(\"Rate\")"
   ]
  },
  {
   "cell_type": "markdown",
   "metadata": {},
   "source": [
    "## Mai's Boxplots\n",
    "### Boxplots Based on Race and Poverty"
   ]
  },
  {
   "cell_type": "code",
   "execution_count": null,
   "metadata": {},
   "outputs": [],
   "source": [
    "# Generate a bar plot showing the total population of races and poverty rate\n",
    "merged_df.boxplot(by='Race', column=['Poverty Rate'], grid=False,figsize=(10, 15))"
   ]
  },
  {
   "cell_type": "code",
   "execution_count": null,
   "metadata": {},
   "outputs": [],
   "source": [
    "# Generate a bar plot showing the total population of races and infections\n",
    "merged_df.boxplot(by='Race', column=['Infections'], grid=False,figsize=(10, 15))"
   ]
  }
 ],
 "metadata": {
  "kernelspec": {
   "display_name": "PythonData38",
   "language": "python",
   "name": "pythondata38"
  },
  "language_info": {
   "codemirror_mode": {
    "name": "ipython",
    "version": 3
   },
   "file_extension": ".py",
   "mimetype": "text/x-python",
   "name": "python",
   "nbconvert_exporter": "python",
   "pygments_lexer": "ipython3",
   "version": "3.9.7"
  },
  "vscode": {
   "interpreter": {
    "hash": "31f2aee4e71d21fbe5cf8b01ff0e069b9275f58929596ceb00d14d90e3e16cd6"
   }
  }
 },
 "nbformat": 4,
 "nbformat_minor": 2
}
